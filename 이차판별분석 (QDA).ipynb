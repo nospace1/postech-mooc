{
 "cells": [
  {
   "cell_type": "code",
   "execution_count": 1,
   "metadata": {},
   "outputs": [
    {
     "name": "stderr",
     "output_type": "stream",
     "text": [
      "also installing the dependencies 'LearnBayes', 'deldir', 'coda', 'expm', 'sp', 'maptools', 'spdep', 'RcppArmadillo', 'rpanel', 'tkrplot', 'SpatialEpi'\n",
      "\n"
     ]
    },
    {
     "name": "stdout",
     "output_type": "stream",
     "text": [
      "package 'LearnBayes' successfully unpacked and MD5 sums checked\n",
      "package 'deldir' successfully unpacked and MD5 sums checked\n",
      "package 'coda' successfully unpacked and MD5 sums checked\n",
      "package 'expm' successfully unpacked and MD5 sums checked\n",
      "package 'sp' successfully unpacked and MD5 sums checked\n",
      "package 'maptools' successfully unpacked and MD5 sums checked\n",
      "package 'spdep' successfully unpacked and MD5 sums checked\n",
      "package 'RcppArmadillo' successfully unpacked and MD5 sums checked\n",
      "package 'rpanel' successfully unpacked and MD5 sums checked\n",
      "package 'tkrplot' successfully unpacked and MD5 sums checked\n",
      "package 'SpatialEpi' successfully unpacked and MD5 sums checked\n",
      "package 'biotools' successfully unpacked and MD5 sums checked\n",
      "\n",
      "The downloaded binary packages are in\n",
      "\tC:\\Users\\15U560\\AppData\\Local\\Temp\\RtmpuQFFg1\\downloaded_packages\n"
     ]
    }
   ],
   "source": [
    "install.packages('biotools')\n",
    "# 등분산검정을 위한 패키지"
   ]
  },
  {
   "cell_type": "code",
   "execution_count": 2,
   "metadata": {},
   "outputs": [
    {
     "name": "stderr",
     "output_type": "stream",
     "text": [
      "Loading required package: rpanel\n",
      "Loading required package: tcltk\n",
      "Package `rpanel', version 1.1-3: type help(rpanel) for summary information\n",
      "Loading required package: tkrplot\n",
      "Loading required package: MASS\n",
      "Loading required package: lattice\n",
      "Loading required package: SpatialEpi\n",
      "Loading required package: sp\n"
     ]
    },
    {
     "name": "stdout",
     "output_type": "stream",
     "text": [
      "---\n",
      "biotools version 3.1\n"
     ]
    },
    {
     "name": "stderr",
     "output_type": "stream",
     "text": [
      "\n"
     ]
    },
    {
     "data": {
      "text/plain": [
       "\n",
       "\tBox's M-test for Homogeneity of Covariance Matrices\n",
       "\n",
       "data:  iris[1:4]\n",
       "Chi-Sq (approx.) = 140.94, df = 20, p-value < 2.2e-16\n"
      ]
     },
     "metadata": {},
     "output_type": "display_data"
    }
   ],
   "source": [
    "library(biotools)\n",
    "boxM(iris[1:4], iris$Species)"
   ]
  },
  {
   "cell_type": "markdown",
   "metadata": {},
   "source": [
    "### 귀무가설(등분산 가정)이 기각 --> QDA 실시"
   ]
  },
  {
   "cell_type": "code",
   "execution_count": 4,
   "metadata": {},
   "outputs": [],
   "source": [
    "iris <- read.csv('iris.csv')"
   ]
  },
  {
   "cell_type": "code",
   "execution_count": 5,
   "metadata": {},
   "outputs": [],
   "source": [
    "set.seed(11)\n",
    "N <- nrow(iris)\n",
    "tr.idx <- sample(1:N, size = N*2/3, replace = FALSE)"
   ]
  },
  {
   "cell_type": "code",
   "execution_count": 6,
   "metadata": {},
   "outputs": [],
   "source": [
    "iris.train <- iris[tr.idx, -5]\n",
    "iris.test <- iris[-tr.idx, -5]\n",
    "trainLabels <- iris[tr.idx, 5]\n",
    "testLabels <- iris[-tr.idx, 5]"
   ]
  },
  {
   "cell_type": "code",
   "execution_count": 8,
   "metadata": {},
   "outputs": [],
   "source": [
    "train <- iris[tr.idx, ]\n",
    "test <- iris[-tr.idx, ]"
   ]
  },
  {
   "cell_type": "code",
   "execution_count": 9,
   "metadata": {
    "scrolled": false
   },
   "outputs": [
    {
     "data": {
      "text/plain": [
       "Call:\n",
       "qda(Species ~ ., data = train, prior = c(1/3, 1/3, 1/3))\n",
       "\n",
       "Prior probabilities of groups:\n",
       "    setosa versicolor  virginica \n",
       " 0.3333333  0.3333333  0.3333333 \n",
       "\n",
       "Group means:\n",
       "           Sepal.Length Sepal.Width Petal.Length Petal.Width\n",
       "setosa         4.991667    3.397222     1.472222   0.2527778\n",
       "versicolor     5.952941    2.758824     4.276471   1.3382353\n",
       "virginica      6.696667    3.026667     5.666667   2.0366667"
      ]
     },
     "metadata": {},
     "output_type": "display_data"
    }
   ],
   "source": [
    "iris.qda <- qda(Species ~., data = train, prior=c(1/3, 1/3, 1/3))\n",
    "iris.qda"
   ]
  },
  {
   "cell_type": "code",
   "execution_count": 10,
   "metadata": {
    "scrolled": true
   },
   "outputs": [
    {
     "data": {
      "text/html": [
       "<dl>\n",
       "\t<dt>$class</dt>\n",
       "\t\t<dd><ol class=list-inline>\n",
       "\t<li>setosa</li>\n",
       "\t<li>setosa</li>\n",
       "\t<li>setosa</li>\n",
       "\t<li>setosa</li>\n",
       "\t<li>setosa</li>\n",
       "\t<li>setosa</li>\n",
       "\t<li>setosa</li>\n",
       "\t<li>setosa</li>\n",
       "\t<li>setosa</li>\n",
       "\t<li>setosa</li>\n",
       "\t<li>setosa</li>\n",
       "\t<li>setosa</li>\n",
       "\t<li>setosa</li>\n",
       "\t<li>setosa</li>\n",
       "\t<li>versicolor</li>\n",
       "\t<li>versicolor</li>\n",
       "\t<li>versicolor</li>\n",
       "\t<li>versicolor</li>\n",
       "\t<li>versicolor</li>\n",
       "\t<li>versicolor</li>\n",
       "\t<li>versicolor</li>\n",
       "\t<li>versicolor</li>\n",
       "\t<li>versicolor</li>\n",
       "\t<li>versicolor</li>\n",
       "\t<li>virginica</li>\n",
       "\t<li>versicolor</li>\n",
       "\t<li>versicolor</li>\n",
       "\t<li>versicolor</li>\n",
       "\t<li>versicolor</li>\n",
       "\t<li>versicolor</li>\n",
       "\t<li>virginica</li>\n",
       "\t<li>virginica</li>\n",
       "\t<li>virginica</li>\n",
       "\t<li>virginica</li>\n",
       "\t<li>virginica</li>\n",
       "\t<li>virginica</li>\n",
       "\t<li>virginica</li>\n",
       "\t<li>virginica</li>\n",
       "\t<li>virginica</li>\n",
       "\t<li>virginica</li>\n",
       "\t<li>virginica</li>\n",
       "\t<li>virginica</li>\n",
       "\t<li>virginica</li>\n",
       "\t<li>virginica</li>\n",
       "\t<li>virginica</li>\n",
       "\t<li>virginica</li>\n",
       "\t<li>virginica</li>\n",
       "\t<li>virginica</li>\n",
       "\t<li>virginica</li>\n",
       "\t<li>virginica</li>\n",
       "</ol>\n",
       "</dd>\n",
       "\t<dt>$posterior</dt>\n",
       "\t\t<dd><table>\n",
       "<thead><tr><th></th><th scope=col>setosa</th><th scope=col>versicolor</th><th scope=col>virginica</th></tr></thead>\n",
       "<tbody>\n",
       "\t<tr><th scope=row>6</th><td> 1.000000e+00</td><td>6.987569e-38 </td><td>3.021057e-34 </td></tr>\n",
       "\t<tr><th scope=row>9</th><td> 1.000000e+00</td><td>9.254663e-26 </td><td>8.360768e-26 </td></tr>\n",
       "\t<tr><th scope=row>17</th><td> 1.000000e+00</td><td>1.665712e-45 </td><td>2.600892e-39 </td></tr>\n",
       "\t<tr><th scope=row>19</th><td> 1.000000e+00</td><td>8.947302e-39 </td><td>2.296706e-36 </td></tr>\n",
       "\t<tr><th scope=row>20</th><td> 1.000000e+00</td><td>1.080541e-39 </td><td>5.340908e-35 </td></tr>\n",
       "\t<tr><th scope=row>23</th><td> 1.000000e+00</td><td>1.793521e-41 </td><td>2.880975e-34 </td></tr>\n",
       "\t<tr><th scope=row>26</th><td> 1.000000e+00</td><td>3.083004e-26 </td><td>9.148862e-28 </td></tr>\n",
       "\t<tr><th scope=row>30</th><td> 1.000000e+00</td><td>3.962252e-28 </td><td>2.749000e-27 </td></tr>\n",
       "\t<tr><th scope=row>33</th><td> 1.000000e+00</td><td>2.357730e-48 </td><td>4.152369e-40 </td></tr>\n",
       "\t<tr><th scope=row>36</th><td> 1.000000e+00</td><td>6.153625e-36 </td><td>2.180180e-34 </td></tr>\n",
       "\t<tr><th scope=row>37</th><td> 1.000000e+00</td><td>2.034209e-41 </td><td>4.691797e-39 </td></tr>\n",
       "\t<tr><th scope=row>38</th><td> 1.000000e+00</td><td>1.239120e-39 </td><td>7.362079e-35 </td></tr>\n",
       "\t<tr><th scope=row>40</th><td> 1.000000e+00</td><td>1.199034e-34 </td><td>5.772813e-33 </td></tr>\n",
       "\t<tr><th scope=row>48</th><td> 1.000000e+00</td><td>1.000267e-30 </td><td>5.292716e-29 </td></tr>\n",
       "\t<tr><th scope=row>52</th><td> 1.000965e-89</td><td>9.990461e-01 </td><td>9.539478e-04 </td></tr>\n",
       "\t<tr><th scope=row>53</th><td>1.915181e-116</td><td>9.956297e-01 </td><td>4.370326e-03 </td></tr>\n",
       "\t<tr><th scope=row>56</th><td> 1.618131e-84</td><td>9.800196e-01 </td><td>1.998045e-02 </td></tr>\n",
       "\t<tr><th scope=row>57</th><td> 6.998625e-99</td><td>9.894092e-01 </td><td>1.059084e-02 </td></tr>\n",
       "\t<tr><th scope=row>58</th><td> 1.613208e-34</td><td>9.999733e-01 </td><td>2.669357e-05 </td></tr>\n",
       "\t<tr><th scope=row>64</th><td> 4.939042e-98</td><td>9.749816e-01 </td><td>2.501836e-02 </td></tr>\n",
       "\t<tr><th scope=row>66</th><td> 6.090995e-88</td><td>9.999443e-01 </td><td>5.569255e-05 </td></tr>\n",
       "\t<tr><th scope=row>68</th><td> 9.201468e-65</td><td>9.996684e-01 </td><td>3.315527e-04 </td></tr>\n",
       "\t<tr><th scope=row>73</th><td>4.358338e-118</td><td>5.630184e-01 </td><td>4.369816e-01 </td></tr>\n",
       "\t<tr><th scope=row>80</th><td> 3.862309e-43</td><td>9.999987e-01 </td><td>1.345479e-06 </td></tr>\n",
       "\t<tr><th scope=row>84</th><td>1.974508e-124</td><td>2.431799e-02 </td><td>9.756820e-01 </td></tr>\n",
       "\t<tr><th scope=row>89</th><td> 5.505895e-65</td><td>9.993465e-01 </td><td>6.535027e-04 </td></tr>\n",
       "\t<tr><th scope=row>92</th><td> 4.460166e-92</td><td>9.935999e-01 </td><td>6.400136e-03 </td></tr>\n",
       "\t<tr><th scope=row>93</th><td> 8.402238e-66</td><td>9.999387e-01 </td><td>6.127994e-05 </td></tr>\n",
       "\t<tr><th scope=row>94</th><td> 5.876003e-36</td><td>9.999889e-01 </td><td>1.112755e-05 </td></tr>\n",
       "\t<tr><th scope=row>99</th><td> 1.122724e-26</td><td>9.999609e-01 </td><td>3.906667e-05 </td></tr>\n",
       "\t<tr><th scope=row>103</th><td>6.814386e-196</td><td>1.022479e-06 </td><td>9.999990e-01 </td></tr>\n",
       "\t<tr><th scope=row>107</th><td> 1.744473e-93</td><td>9.242691e-03 </td><td>9.907573e-01 </td></tr>\n",
       "\t<tr><th scope=row>109</th><td>4.487959e-184</td><td>2.256234e-07 </td><td>9.999998e-01 </td></tr>\n",
       "\t<tr><th scope=row>111</th><td>3.238551e-134</td><td>9.303546e-03 </td><td>9.906965e-01 </td></tr>\n",
       "\t<tr><th scope=row>112</th><td>9.511854e-149</td><td>2.716783e-04 </td><td>9.997283e-01 </td></tr>\n",
       "\t<tr><th scope=row>114</th><td>2.286057e-132</td><td>3.214488e-06 </td><td>9.999968e-01 </td></tr>\n",
       "\t<tr><th scope=row>115</th><td>8.712480e-153</td><td>9.443024e-12 </td><td>1.000000e+00 </td></tr>\n",
       "\t<tr><th scope=row>116</th><td>6.402339e-157</td><td>2.753813e-07 </td><td>9.999997e-01 </td></tr>\n",
       "\t<tr><th scope=row>118</th><td>7.197391e-247</td><td>4.380465e-08 </td><td>1.000000e+00 </td></tr>\n",
       "\t<tr><th scope=row>124</th><td>1.033947e-122</td><td>5.384116e-02 </td><td>9.461588e-01 </td></tr>\n",
       "\t<tr><th scope=row>127</th><td>3.771095e-115</td><td>1.224226e-01 </td><td>8.775774e-01 </td></tr>\n",
       "\t<tr><th scope=row>128</th><td>2.252450e-116</td><td>1.572025e-01 </td><td>8.427975e-01 </td></tr>\n",
       "\t<tr><th scope=row>131</th><td>6.740695e-213</td><td>1.694669e-07 </td><td>9.999998e-01 </td></tr>\n",
       "\t<tr><th scope=row>133</th><td>1.887322e-175</td><td>2.529298e-08 </td><td>1.000000e+00 </td></tr>\n",
       "\t<tr><th scope=row>135</th><td>2.437924e-152</td><td>2.261380e-07 </td><td>9.999998e-01 </td></tr>\n",
       "\t<tr><th scope=row>138</th><td>2.721744e-150</td><td>2.260770e-03 </td><td>9.977392e-01 </td></tr>\n",
       "\t<tr><th scope=row>141</th><td>8.516058e-183</td><td>1.680902e-09 </td><td>1.000000e+00 </td></tr>\n",
       "\t<tr><th scope=row>145</th><td>3.978604e-190</td><td>2.903024e-10 </td><td>1.000000e+00 </td></tr>\n",
       "\t<tr><th scope=row>146</th><td>1.301070e-157</td><td>5.413762e-08 </td><td>9.999999e-01 </td></tr>\n",
       "\t<tr><th scope=row>147</th><td>1.887026e-134</td><td>5.236058e-04 </td><td>9.994764e-01 </td></tr>\n",
       "</tbody>\n",
       "</table>\n",
       "</dd>\n",
       "</dl>\n"
      ],
      "text/latex": [
       "\\begin{description}\n",
       "\\item[\\$class] \\begin{enumerate*}\n",
       "\\item setosa\n",
       "\\item setosa\n",
       "\\item setosa\n",
       "\\item setosa\n",
       "\\item setosa\n",
       "\\item setosa\n",
       "\\item setosa\n",
       "\\item setosa\n",
       "\\item setosa\n",
       "\\item setosa\n",
       "\\item setosa\n",
       "\\item setosa\n",
       "\\item setosa\n",
       "\\item setosa\n",
       "\\item versicolor\n",
       "\\item versicolor\n",
       "\\item versicolor\n",
       "\\item versicolor\n",
       "\\item versicolor\n",
       "\\item versicolor\n",
       "\\item versicolor\n",
       "\\item versicolor\n",
       "\\item versicolor\n",
       "\\item versicolor\n",
       "\\item virginica\n",
       "\\item versicolor\n",
       "\\item versicolor\n",
       "\\item versicolor\n",
       "\\item versicolor\n",
       "\\item versicolor\n",
       "\\item virginica\n",
       "\\item virginica\n",
       "\\item virginica\n",
       "\\item virginica\n",
       "\\item virginica\n",
       "\\item virginica\n",
       "\\item virginica\n",
       "\\item virginica\n",
       "\\item virginica\n",
       "\\item virginica\n",
       "\\item virginica\n",
       "\\item virginica\n",
       "\\item virginica\n",
       "\\item virginica\n",
       "\\item virginica\n",
       "\\item virginica\n",
       "\\item virginica\n",
       "\\item virginica\n",
       "\\item virginica\n",
       "\\item virginica\n",
       "\\end{enumerate*}\n",
       "\n",
       "\\item[\\$posterior] \\begin{tabular}{r|lll}\n",
       "  & setosa & versicolor & virginica\\\\\n",
       "\\hline\n",
       "\t6 &  1.000000e+00 & 6.987569e-38  & 3.021057e-34 \\\\\n",
       "\t9 &  1.000000e+00 & 9.254663e-26  & 8.360768e-26 \\\\\n",
       "\t17 &  1.000000e+00 & 1.665712e-45  & 2.600892e-39 \\\\\n",
       "\t19 &  1.000000e+00 & 8.947302e-39  & 2.296706e-36 \\\\\n",
       "\t20 &  1.000000e+00 & 1.080541e-39  & 5.340908e-35 \\\\\n",
       "\t23 &  1.000000e+00 & 1.793521e-41  & 2.880975e-34 \\\\\n",
       "\t26 &  1.000000e+00 & 3.083004e-26  & 9.148862e-28 \\\\\n",
       "\t30 &  1.000000e+00 & 3.962252e-28  & 2.749000e-27 \\\\\n",
       "\t33 &  1.000000e+00 & 2.357730e-48  & 4.152369e-40 \\\\\n",
       "\t36 &  1.000000e+00 & 6.153625e-36  & 2.180180e-34 \\\\\n",
       "\t37 &  1.000000e+00 & 2.034209e-41  & 4.691797e-39 \\\\\n",
       "\t38 &  1.000000e+00 & 1.239120e-39  & 7.362079e-35 \\\\\n",
       "\t40 &  1.000000e+00 & 1.199034e-34  & 5.772813e-33 \\\\\n",
       "\t48 &  1.000000e+00 & 1.000267e-30  & 5.292716e-29 \\\\\n",
       "\t52 &  1.000965e-89 & 9.990461e-01  & 9.539478e-04 \\\\\n",
       "\t53 & 1.915181e-116 & 9.956297e-01  & 4.370326e-03 \\\\\n",
       "\t56 &  1.618131e-84 & 9.800196e-01  & 1.998045e-02 \\\\\n",
       "\t57 &  6.998625e-99 & 9.894092e-01  & 1.059084e-02 \\\\\n",
       "\t58 &  1.613208e-34 & 9.999733e-01  & 2.669357e-05 \\\\\n",
       "\t64 &  4.939042e-98 & 9.749816e-01  & 2.501836e-02 \\\\\n",
       "\t66 &  6.090995e-88 & 9.999443e-01  & 5.569255e-05 \\\\\n",
       "\t68 &  9.201468e-65 & 9.996684e-01  & 3.315527e-04 \\\\\n",
       "\t73 & 4.358338e-118 & 5.630184e-01  & 4.369816e-01 \\\\\n",
       "\t80 &  3.862309e-43 & 9.999987e-01  & 1.345479e-06 \\\\\n",
       "\t84 & 1.974508e-124 & 2.431799e-02  & 9.756820e-01 \\\\\n",
       "\t89 &  5.505895e-65 & 9.993465e-01  & 6.535027e-04 \\\\\n",
       "\t92 &  4.460166e-92 & 9.935999e-01  & 6.400136e-03 \\\\\n",
       "\t93 &  8.402238e-66 & 9.999387e-01  & 6.127994e-05 \\\\\n",
       "\t94 &  5.876003e-36 & 9.999889e-01  & 1.112755e-05 \\\\\n",
       "\t99 &  1.122724e-26 & 9.999609e-01  & 3.906667e-05 \\\\\n",
       "\t103 & 6.814386e-196 & 1.022479e-06  & 9.999990e-01 \\\\\n",
       "\t107 &  1.744473e-93 & 9.242691e-03  & 9.907573e-01 \\\\\n",
       "\t109 & 4.487959e-184 & 2.256234e-07  & 9.999998e-01 \\\\\n",
       "\t111 & 3.238551e-134 & 9.303546e-03  & 9.906965e-01 \\\\\n",
       "\t112 & 9.511854e-149 & 2.716783e-04  & 9.997283e-01 \\\\\n",
       "\t114 & 2.286057e-132 & 3.214488e-06  & 9.999968e-01 \\\\\n",
       "\t115 & 8.712480e-153 & 9.443024e-12  & 1.000000e+00 \\\\\n",
       "\t116 & 6.402339e-157 & 2.753813e-07  & 9.999997e-01 \\\\\n",
       "\t118 & 7.197391e-247 & 4.380465e-08  & 1.000000e+00 \\\\\n",
       "\t124 & 1.033947e-122 & 5.384116e-02  & 9.461588e-01 \\\\\n",
       "\t127 & 3.771095e-115 & 1.224226e-01  & 8.775774e-01 \\\\\n",
       "\t128 & 2.252450e-116 & 1.572025e-01  & 8.427975e-01 \\\\\n",
       "\t131 & 6.740695e-213 & 1.694669e-07  & 9.999998e-01 \\\\\n",
       "\t133 & 1.887322e-175 & 2.529298e-08  & 1.000000e+00 \\\\\n",
       "\t135 & 2.437924e-152 & 2.261380e-07  & 9.999998e-01 \\\\\n",
       "\t138 & 2.721744e-150 & 2.260770e-03  & 9.977392e-01 \\\\\n",
       "\t141 & 8.516058e-183 & 1.680902e-09  & 1.000000e+00 \\\\\n",
       "\t145 & 3.978604e-190 & 2.903024e-10  & 1.000000e+00 \\\\\n",
       "\t146 & 1.301070e-157 & 5.413762e-08  & 9.999999e-01 \\\\\n",
       "\t147 & 1.887026e-134 & 5.236058e-04  & 9.994764e-01 \\\\\n",
       "\\end{tabular}\n",
       "\n",
       "\\end{description}\n"
      ],
      "text/markdown": [
       "$class\n",
       ":   1. setosa\n",
       "2. setosa\n",
       "3. setosa\n",
       "4. setosa\n",
       "5. setosa\n",
       "6. setosa\n",
       "7. setosa\n",
       "8. setosa\n",
       "9. setosa\n",
       "10. setosa\n",
       "11. setosa\n",
       "12. setosa\n",
       "13. setosa\n",
       "14. setosa\n",
       "15. versicolor\n",
       "16. versicolor\n",
       "17. versicolor\n",
       "18. versicolor\n",
       "19. versicolor\n",
       "20. versicolor\n",
       "21. versicolor\n",
       "22. versicolor\n",
       "23. versicolor\n",
       "24. versicolor\n",
       "25. virginica\n",
       "26. versicolor\n",
       "27. versicolor\n",
       "28. versicolor\n",
       "29. versicolor\n",
       "30. versicolor\n",
       "31. virginica\n",
       "32. virginica\n",
       "33. virginica\n",
       "34. virginica\n",
       "35. virginica\n",
       "36. virginica\n",
       "37. virginica\n",
       "38. virginica\n",
       "39. virginica\n",
       "40. virginica\n",
       "41. virginica\n",
       "42. virginica\n",
       "43. virginica\n",
       "44. virginica\n",
       "45. virginica\n",
       "46. virginica\n",
       "47. virginica\n",
       "48. virginica\n",
       "49. virginica\n",
       "50. virginica\n",
       "\n",
       "\n",
       "\n",
       "$posterior\n",
       ":   \n",
       "| <!--/--> | setosa | versicolor | virginica | \n",
       "|---|---|---|---|---|---|---|---|---|---|---|---|---|---|---|---|---|---|---|---|---|---|---|---|---|---|---|---|---|---|---|---|---|---|---|---|---|---|---|---|---|---|---|---|---|---|---|---|---|---|\n",
       "| 6 |  1.000000e+00 | 6.987569e-38  | 3.021057e-34  | \n",
       "| 9 |  1.000000e+00 | 9.254663e-26  | 8.360768e-26  | \n",
       "| 17 |  1.000000e+00 | 1.665712e-45  | 2.600892e-39  | \n",
       "| 19 |  1.000000e+00 | 8.947302e-39  | 2.296706e-36  | \n",
       "| 20 |  1.000000e+00 | 1.080541e-39  | 5.340908e-35  | \n",
       "| 23 |  1.000000e+00 | 1.793521e-41  | 2.880975e-34  | \n",
       "| 26 |  1.000000e+00 | 3.083004e-26  | 9.148862e-28  | \n",
       "| 30 |  1.000000e+00 | 3.962252e-28  | 2.749000e-27  | \n",
       "| 33 |  1.000000e+00 | 2.357730e-48  | 4.152369e-40  | \n",
       "| 36 |  1.000000e+00 | 6.153625e-36  | 2.180180e-34  | \n",
       "| 37 |  1.000000e+00 | 2.034209e-41  | 4.691797e-39  | \n",
       "| 38 |  1.000000e+00 | 1.239120e-39  | 7.362079e-35  | \n",
       "| 40 |  1.000000e+00 | 1.199034e-34  | 5.772813e-33  | \n",
       "| 48 |  1.000000e+00 | 1.000267e-30  | 5.292716e-29  | \n",
       "| 52 |  1.000965e-89 | 9.990461e-01  | 9.539478e-04  | \n",
       "| 53 | 1.915181e-116 | 9.956297e-01  | 4.370326e-03  | \n",
       "| 56 |  1.618131e-84 | 9.800196e-01  | 1.998045e-02  | \n",
       "| 57 |  6.998625e-99 | 9.894092e-01  | 1.059084e-02  | \n",
       "| 58 |  1.613208e-34 | 9.999733e-01  | 2.669357e-05  | \n",
       "| 64 |  4.939042e-98 | 9.749816e-01  | 2.501836e-02  | \n",
       "| 66 |  6.090995e-88 | 9.999443e-01  | 5.569255e-05  | \n",
       "| 68 |  9.201468e-65 | 9.996684e-01  | 3.315527e-04  | \n",
       "| 73 | 4.358338e-118 | 5.630184e-01  | 4.369816e-01  | \n",
       "| 80 |  3.862309e-43 | 9.999987e-01  | 1.345479e-06  | \n",
       "| 84 | 1.974508e-124 | 2.431799e-02  | 9.756820e-01  | \n",
       "| 89 |  5.505895e-65 | 9.993465e-01  | 6.535027e-04  | \n",
       "| 92 |  4.460166e-92 | 9.935999e-01  | 6.400136e-03  | \n",
       "| 93 |  8.402238e-66 | 9.999387e-01  | 6.127994e-05  | \n",
       "| 94 |  5.876003e-36 | 9.999889e-01  | 1.112755e-05  | \n",
       "| 99 |  1.122724e-26 | 9.999609e-01  | 3.906667e-05  | \n",
       "| 103 | 6.814386e-196 | 1.022479e-06  | 9.999990e-01  | \n",
       "| 107 |  1.744473e-93 | 9.242691e-03  | 9.907573e-01  | \n",
       "| 109 | 4.487959e-184 | 2.256234e-07  | 9.999998e-01  | \n",
       "| 111 | 3.238551e-134 | 9.303546e-03  | 9.906965e-01  | \n",
       "| 112 | 9.511854e-149 | 2.716783e-04  | 9.997283e-01  | \n",
       "| 114 | 2.286057e-132 | 3.214488e-06  | 9.999968e-01  | \n",
       "| 115 | 8.712480e-153 | 9.443024e-12  | 1.000000e+00  | \n",
       "| 116 | 6.402339e-157 | 2.753813e-07  | 9.999997e-01  | \n",
       "| 118 | 7.197391e-247 | 4.380465e-08  | 1.000000e+00  | \n",
       "| 124 | 1.033947e-122 | 5.384116e-02  | 9.461588e-01  | \n",
       "| 127 | 3.771095e-115 | 1.224226e-01  | 8.775774e-01  | \n",
       "| 128 | 2.252450e-116 | 1.572025e-01  | 8.427975e-01  | \n",
       "| 131 | 6.740695e-213 | 1.694669e-07  | 9.999998e-01  | \n",
       "| 133 | 1.887322e-175 | 2.529298e-08  | 1.000000e+00  | \n",
       "| 135 | 2.437924e-152 | 2.261380e-07  | 9.999998e-01  | \n",
       "| 138 | 2.721744e-150 | 2.260770e-03  | 9.977392e-01  | \n",
       "| 141 | 8.516058e-183 | 1.680902e-09  | 1.000000e+00  | \n",
       "| 145 | 3.978604e-190 | 2.903024e-10  | 1.000000e+00  | \n",
       "| 146 | 1.301070e-157 | 5.413762e-08  | 9.999999e-01  | \n",
       "| 147 | 1.887026e-134 | 5.236058e-04  | 9.994764e-01  | \n",
       "\n",
       "\n",
       "\n",
       "\n",
       "\n"
      ],
      "text/plain": [
       "$class\n",
       " [1] setosa     setosa     setosa     setosa     setosa     setosa    \n",
       " [7] setosa     setosa     setosa     setosa     setosa     setosa    \n",
       "[13] setosa     setosa     versicolor versicolor versicolor versicolor\n",
       "[19] versicolor versicolor versicolor versicolor versicolor versicolor\n",
       "[25] virginica  versicolor versicolor versicolor versicolor versicolor\n",
       "[31] virginica  virginica  virginica  virginica  virginica  virginica \n",
       "[37] virginica  virginica  virginica  virginica  virginica  virginica \n",
       "[43] virginica  virginica  virginica  virginica  virginica  virginica \n",
       "[49] virginica  virginica \n",
       "Levels: setosa versicolor virginica\n",
       "\n",
       "$posterior\n",
       "           setosa   versicolor    virginica\n",
       "6    1.000000e+00 6.987569e-38 3.021057e-34\n",
       "9    1.000000e+00 9.254663e-26 8.360768e-26\n",
       "17   1.000000e+00 1.665712e-45 2.600892e-39\n",
       "19   1.000000e+00 8.947302e-39 2.296706e-36\n",
       "20   1.000000e+00 1.080541e-39 5.340908e-35\n",
       "23   1.000000e+00 1.793521e-41 2.880975e-34\n",
       "26   1.000000e+00 3.083004e-26 9.148862e-28\n",
       "30   1.000000e+00 3.962252e-28 2.749000e-27\n",
       "33   1.000000e+00 2.357730e-48 4.152369e-40\n",
       "36   1.000000e+00 6.153625e-36 2.180180e-34\n",
       "37   1.000000e+00 2.034209e-41 4.691797e-39\n",
       "38   1.000000e+00 1.239120e-39 7.362079e-35\n",
       "40   1.000000e+00 1.199034e-34 5.772813e-33\n",
       "48   1.000000e+00 1.000267e-30 5.292716e-29\n",
       "52   1.000965e-89 9.990461e-01 9.539478e-04\n",
       "53  1.915181e-116 9.956297e-01 4.370326e-03\n",
       "56   1.618131e-84 9.800196e-01 1.998045e-02\n",
       "57   6.998625e-99 9.894092e-01 1.059084e-02\n",
       "58   1.613208e-34 9.999733e-01 2.669357e-05\n",
       "64   4.939042e-98 9.749816e-01 2.501836e-02\n",
       "66   6.090995e-88 9.999443e-01 5.569255e-05\n",
       "68   9.201468e-65 9.996684e-01 3.315527e-04\n",
       "73  4.358338e-118 5.630184e-01 4.369816e-01\n",
       "80   3.862309e-43 9.999987e-01 1.345479e-06\n",
       "84  1.974508e-124 2.431799e-02 9.756820e-01\n",
       "89   5.505895e-65 9.993465e-01 6.535027e-04\n",
       "92   4.460166e-92 9.935999e-01 6.400136e-03\n",
       "93   8.402238e-66 9.999387e-01 6.127994e-05\n",
       "94   5.876003e-36 9.999889e-01 1.112755e-05\n",
       "99   1.122724e-26 9.999609e-01 3.906667e-05\n",
       "103 6.814386e-196 1.022479e-06 9.999990e-01\n",
       "107  1.744473e-93 9.242691e-03 9.907573e-01\n",
       "109 4.487959e-184 2.256234e-07 9.999998e-01\n",
       "111 3.238551e-134 9.303546e-03 9.906965e-01\n",
       "112 9.511854e-149 2.716783e-04 9.997283e-01\n",
       "114 2.286057e-132 3.214488e-06 9.999968e-01\n",
       "115 8.712480e-153 9.443024e-12 1.000000e+00\n",
       "116 6.402339e-157 2.753813e-07 9.999997e-01\n",
       "118 7.197391e-247 4.380465e-08 1.000000e+00\n",
       "124 1.033947e-122 5.384116e-02 9.461588e-01\n",
       "127 3.771095e-115 1.224226e-01 8.775774e-01\n",
       "128 2.252450e-116 1.572025e-01 8.427975e-01\n",
       "131 6.740695e-213 1.694669e-07 9.999998e-01\n",
       "133 1.887322e-175 2.529298e-08 1.000000e+00\n",
       "135 2.437924e-152 2.261380e-07 9.999998e-01\n",
       "138 2.721744e-150 2.260770e-03 9.977392e-01\n",
       "141 8.516058e-183 1.680902e-09 1.000000e+00\n",
       "145 3.978604e-190 2.903024e-10 1.000000e+00\n",
       "146 1.301070e-157 5.413762e-08 9.999999e-01\n",
       "147 1.887026e-134 5.236058e-04 9.994764e-01\n"
      ]
     },
     "metadata": {},
     "output_type": "display_data"
    }
   ],
   "source": [
    "testpredq <- predict(iris.qda, test)\n",
    "testpredq"
   ]
  },
  {
   "cell_type": "code",
   "execution_count": 12,
   "metadata": {},
   "outputs": [
    {
     "name": "stdout",
     "output_type": "stream",
     "text": [
      "\n",
      " \n",
      "   Cell Contents\n",
      "|-------------------------|\n",
      "|                       N |\n",
      "|           N / Row Total |\n",
      "|           N / Col Total |\n",
      "|         N / Table Total |\n",
      "|-------------------------|\n",
      "\n",
      " \n",
      "Total Observations in Table:  50 \n",
      "\n",
      " \n",
      "             | testpredq$class \n",
      "  testLabels |     setosa | versicolor |  virginica |  Row Total | \n",
      "-------------|------------|------------|------------|------------|\n",
      "      setosa |         14 |          0 |          0 |         14 | \n",
      "             |      1.000 |      0.000 |      0.000 |      0.280 | \n",
      "             |      1.000 |      0.000 |      0.000 |            | \n",
      "             |      0.280 |      0.000 |      0.000 |            | \n",
      "-------------|------------|------------|------------|------------|\n",
      "  versicolor |          0 |         15 |          1 |         16 | \n",
      "             |      0.000 |      0.938 |      0.062 |      0.320 | \n",
      "             |      0.000 |      1.000 |      0.048 |            | \n",
      "             |      0.000 |      0.300 |      0.020 |            | \n",
      "-------------|------------|------------|------------|------------|\n",
      "   virginica |          0 |          0 |         20 |         20 | \n",
      "             |      0.000 |      0.000 |      1.000 |      0.400 | \n",
      "             |      0.000 |      0.000 |      0.952 |            | \n",
      "             |      0.000 |      0.000 |      0.400 |            | \n",
      "-------------|------------|------------|------------|------------|\n",
      "Column Total |         14 |         15 |         21 |         50 | \n",
      "             |      0.280 |      0.300 |      0.420 |            | \n",
      "-------------|------------|------------|------------|------------|\n",
      "\n",
      " \n"
     ]
    }
   ],
   "source": [
    "library(gmodels)\n",
    "CrossTable(x=testLabels, y=testpredq$class, prop.chisq = FALSE)"
   ]
  },
  {
   "cell_type": "markdown",
   "metadata": {},
   "source": [
    "### 정확도 --> 98%  ,   오분류율 --> 2%"
   ]
  },
  {
   "cell_type": "code",
   "execution_count": 13,
   "metadata": {},
   "outputs": [
    {
     "name": "stderr",
     "output_type": "stream",
     "text": [
      "also installing the dependency 'combinat'\n",
      "\n"
     ]
    },
    {
     "name": "stdout",
     "output_type": "stream",
     "text": [
      "package 'combinat' successfully unpacked and MD5 sums checked\n",
      "package 'klaR' successfully unpacked and MD5 sums checked\n",
      "\n",
      "The downloaded binary packages are in\n",
      "\tC:\\Users\\15U560\\AppData\\Local\\Temp\\RtmpuQFFg1\\downloaded_packages\n"
     ]
    }
   ],
   "source": [
    "install.packages('klaR')"
   ]
  },
  {
   "cell_type": "code",
   "execution_count": 15,
   "metadata": {},
   "outputs": [
    {
     "data": {
      "image/png": "[encoded data removed]",
      "text/plain": [
       "Plot with title \"Partition Plot\""
      ]
     },
     "metadata": {},
     "output_type": "display_data"
    }
   ],
   "source": [
    "library(klaR)\n",
    "partimat(as.factor(iris$Species) ~ ., data = iris, method = 'lda')"
   ]
  },
  {
   "cell_type": "code",
   "execution_count": 16,
   "metadata": {},
   "outputs": [
    {
     "data": {
      "image/png": "[encoded data removed]",
      "text/plain": [
       "Plot with title \"Partition Plot\""
      ]
     },
     "metadata": {},
     "output_type": "display_data"
    }
   ],
   "source": [
    "partimat(as.factor(iris$Species) ~., data=iris, method ='qda')"
   ]
  },
  {
   "cell_type": "markdown",
   "metadata": {},
   "source": [
    "### 전체 데이터를 사용하면 qda를 사용하는것이 오분류가 적고 Petal.Length 와 Petal.Width가 중요한 변수이다."
   ]
  }
 ],
 "metadata": {
  "kernelspec": {
   "display_name": "R",
   "language": "R",
   "name": "ir"
  },
  "language_info": {
   "codemirror_mode": "r",
   "file_extension": ".r",
   "mimetype": "text/x-r-source",
   "name": "R",
   "pygments_lexer": "r",
   "version": "3.4.3"
  },
  "varInspector": {
   "cols": {
    "lenName": 16,
    "lenType": 16,
    "lenVar": 40
   },
   "kernels_config": {
    "python": {
     "delete_cmd_postfix": "",
     "delete_cmd_prefix": "del ",
     "library": "var_list.py",
     "varRefreshCmd": "print(var_dic_list())"
    },
    "r": {
     "delete_cmd_postfix": ") ",
     "delete_cmd_prefix": "rm(",
     "library": "var_list.r",
     "varRefreshCmd": "cat(var_dic_list()) "
    }
   },
   "types_to_exclude": [
    "module",
    "function",
    "builtin_function_or_method",
    "instance",
    "_Feature"
   ],
   "window_display": false
  }
 },
 "nbformat": 4,
 "nbformat_minor": 2
}
