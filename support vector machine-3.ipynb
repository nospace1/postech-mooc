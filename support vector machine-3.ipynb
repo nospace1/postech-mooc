{
 "cells": [
  {
   "cell_type": "markdown",
   "metadata": {},
   "source": [
    "### Breast Cancer Wisconsin Data Set\n",
    "### 세침흡인 세포검사를 통해 얻은 683개 유방조직의 9개 특성"
   ]
  },
  {
   "cell_type": "markdown",
   "metadata": {},
   "source": [
    "### caret::confusionMatrix(\n",
    "   #### data,     # 예측값 또는 분할표\n",
    "   ####  reference # 실제 값\n",
    "### )"
   ]
  },
  {
   "cell_type": "code",
   "execution_count": 32,
   "metadata": {},
   "outputs": [],
   "source": [
    "library(lattice)\n",
    "library(ggplot2)\n",
    "library(e1071)\n",
    "library(caret)"
   ]
  },
  {
   "cell_type": "code",
   "execution_count": 33,
   "metadata": {
    "scrolled": false
   },
   "outputs": [
    {
     "data": {
      "text/html": [
       "<table>\n",
       "<thead><tr><th scope=col>X1</th><th scope=col>X2</th><th scope=col>X3</th><th scope=col>X4</th><th scope=col>X5</th><th scope=col>X6</th><th scope=col>X7</th><th scope=col>X8</th><th scope=col>X9</th><th scope=col>X10</th><th scope=col>Y</th></tr></thead>\n",
       "<tbody>\n",
       "\t<tr><td>1000025  </td><td>5        </td><td> 1       </td><td> 1       </td><td>1        </td><td>2        </td><td> 1       </td><td>3        </td><td>1        </td><td>1        </td><td>benign   </td></tr>\n",
       "\t<tr><td>1002945  </td><td>5        </td><td> 4       </td><td> 4       </td><td>5        </td><td>7        </td><td>10       </td><td>3        </td><td>2        </td><td>1        </td><td>benign   </td></tr>\n",
       "\t<tr><td>1015425  </td><td>3        </td><td> 1       </td><td> 1       </td><td>1        </td><td>2        </td><td> 2       </td><td>3        </td><td>1        </td><td>1        </td><td>benign   </td></tr>\n",
       "\t<tr><td>1016277  </td><td>6        </td><td> 8       </td><td> 8       </td><td>1        </td><td>3        </td><td> 4       </td><td>3        </td><td>7        </td><td>1        </td><td>benign   </td></tr>\n",
       "\t<tr><td>1017023  </td><td>4        </td><td> 1       </td><td> 1       </td><td>3        </td><td>2        </td><td> 1       </td><td>3        </td><td>1        </td><td>1        </td><td>benign   </td></tr>\n",
       "\t<tr><td>1017122  </td><td>8        </td><td>10       </td><td>10       </td><td>8        </td><td>7        </td><td>10       </td><td>9        </td><td>7        </td><td>1        </td><td>malignant</td></tr>\n",
       "</tbody>\n",
       "</table>\n"
      ],
      "text/latex": [
       "\\begin{tabular}{r|lllllllllll}\n",
       " X1 & X2 & X3 & X4 & X5 & X6 & X7 & X8 & X9 & X10 & Y\\\\\n",
       "\\hline\n",
       "\t 1000025   & 5         &  1        &  1        & 1         & 2         &  1        & 3         & 1         & 1         & benign   \\\\\n",
       "\t 1002945   & 5         &  4        &  4        & 5         & 7         & 10        & 3         & 2         & 1         & benign   \\\\\n",
       "\t 1015425   & 3         &  1        &  1        & 1         & 2         &  2        & 3         & 1         & 1         & benign   \\\\\n",
       "\t 1016277   & 6         &  8        &  8        & 1         & 3         &  4        & 3         & 7         & 1         & benign   \\\\\n",
       "\t 1017023   & 4         &  1        &  1        & 3         & 2         &  1        & 3         & 1         & 1         & benign   \\\\\n",
       "\t 1017122   & 8         & 10        & 10        & 8         & 7         & 10        & 9         & 7         & 1         & malignant\\\\\n",
       "\\end{tabular}\n"
      ],
      "text/markdown": [
       "\n",
       "X1 | X2 | X3 | X4 | X5 | X6 | X7 | X8 | X9 | X10 | Y | \n",
       "|---|---|---|---|---|---|\n",
       "| 1000025   | 5         |  1        |  1        | 1         | 2         |  1        | 3         | 1         | 1         | benign    | \n",
       "| 1002945   | 5         |  4        |  4        | 5         | 7         | 10        | 3         | 2         | 1         | benign    | \n",
       "| 1015425   | 3         |  1        |  1        | 1         | 2         |  2        | 3         | 1         | 1         | benign    | \n",
       "| 1016277   | 6         |  8        |  8        | 1         | 3         |  4        | 3         | 7         | 1         | benign    | \n",
       "| 1017023   | 4         |  1        |  1        | 3         | 2         |  1        | 3         | 1         | 1         | benign    | \n",
       "| 1017122   | 8         | 10        | 10        | 8         | 7         | 10        | 9         | 7         | 1         | malignant | \n",
       "\n",
       "\n"
      ],
      "text/plain": [
       "  X1      X2 X3 X4 X5 X6 X7 X8 X9 X10 Y        \n",
       "1 1000025 5   1  1 1  2   1 3  1  1   benign   \n",
       "2 1002945 5   4  4 5  7  10 3  2  1   benign   \n",
       "3 1015425 3   1  1 1  2   2 3  1  1   benign   \n",
       "4 1016277 6   8  8 1  3   4 3  7  1   benign   \n",
       "5 1017023 4   1  1 3  2   1 3  1  1   benign   \n",
       "6 1017122 8  10 10 8  7  10 9  7  1   malignant"
      ]
     },
     "metadata": {},
     "output_type": "display_data"
    }
   ],
   "source": [
    "cancer <- read.csv('cancer.csv')\n",
    "head(cancer)"
   ]
  },
  {
   "cell_type": "code",
   "execution_count": 34,
   "metadata": {},
   "outputs": [],
   "source": [
    "cancer <- cancer[,-1]"
   ]
  },
  {
   "cell_type": "code",
   "execution_count": 35,
   "metadata": {},
   "outputs": [],
   "source": [
    "set.seed(111)\n",
    "N = nrow(cancer)\n",
    "tr.idx <- sample(1:N, size = N*2/3, replace = FALSE)\n",
    "train <- cancer[tr.idx,]\n",
    "test <- cancer[-tr.idx,]"
   ]
  },
  {
   "cell_type": "code",
   "execution_count": 36,
   "metadata": {},
   "outputs": [],
   "source": [
    "m1 <- svm(Y~ ., train)\n",
    "m2 <- svm(Y~ ., train, kernel = 'polynomial')\n",
    "m3 <- svm(Y~ ., train, kernel = 'sigmoid')\n",
    "m4 <- svm(Y~ ., train, kernel = 'linear')"
   ]
  },
  {
   "cell_type": "code",
   "execution_count": 37,
   "metadata": {},
   "outputs": [
    {
     "data": {
      "text/plain": [
       "\n",
       "Call:\n",
       "svm(formula = Y ~ ., data = train)\n",
       "\n",
       "\n",
       "Parameters:\n",
       "   SVM-Type:  C-classification \n",
       " SVM-Kernel:  radial \n",
       "       cost:  1 \n",
       "      gamma:  0.1111111 \n",
       "\n",
       "Number of Support Vectors:  70\n",
       "\n",
       " ( 22 48 )\n",
       "\n",
       "\n",
       "Number of Classes:  2 \n",
       "\n",
       "Levels: \n",
       " benign malignant\n",
       "\n",
       "\n"
      ]
     },
     "metadata": {},
     "output_type": "display_data"
    }
   ],
   "source": [
    "summary(m1)"
   ]
  },
  {
   "cell_type": "code",
   "execution_count": 38,
   "metadata": {},
   "outputs": [
    {
     "data": {
      "text/plain": [
       "Confusion Matrix and Statistics\n",
       "\n",
       "           Reference\n",
       "Prediction  benign malignant\n",
       "  benign       146         2\n",
       "  malignant      7        73\n",
       "                                          \n",
       "               Accuracy : 0.9605          \n",
       "                 95% CI : (0.9264, 0.9818)\n",
       "    No Information Rate : 0.6711          \n",
       "    P-Value [Acc > NIR] : <2e-16          \n",
       "                                          \n",
       "                  Kappa : 0.9121          \n",
       " Mcnemar's Test P-Value : 0.1824          \n",
       "                                          \n",
       "            Sensitivity : 0.9542          \n",
       "            Specificity : 0.9733          \n",
       "         Pos Pred Value : 0.9865          \n",
       "         Neg Pred Value : 0.9125          \n",
       "             Prevalence : 0.6711          \n",
       "         Detection Rate : 0.6404          \n",
       "   Detection Prevalence : 0.6491          \n",
       "      Balanced Accuracy : 0.9638          \n",
       "                                          \n",
       "       'Positive' Class : benign          \n",
       "                                          "
      ]
     },
     "metadata": {},
     "output_type": "display_data"
    }
   ],
   "source": [
    "pred11 <- predict(m1, test)\n",
    "confusionMatrix(pred11, test$Y)"
   ]
  },
  {
   "cell_type": "code",
   "execution_count": 39,
   "metadata": {},
   "outputs": [
    {
     "data": {
      "text/plain": [
       "\n",
       "Call:\n",
       "svm(formula = Y ~ ., data = train, kernel = \"polynomial\")\n",
       "\n",
       "\n",
       "Parameters:\n",
       "   SVM-Type:  C-classification \n",
       " SVM-Kernel:  polynomial \n",
       "       cost:  1 \n",
       "     degree:  3 \n",
       "      gamma:  0.1111111 \n",
       "     coef.0:  0 \n",
       "\n",
       "Number of Support Vectors:  73\n",
       "\n",
       " ( 34 39 )\n",
       "\n",
       "\n",
       "Number of Classes:  2 \n",
       "\n",
       "Levels: \n",
       " benign malignant\n",
       "\n",
       "\n"
      ]
     },
     "metadata": {},
     "output_type": "display_data"
    }
   ],
   "source": [
    "summary(m2)"
   ]
  },
  {
   "cell_type": "code",
   "execution_count": 40,
   "metadata": {},
   "outputs": [
    {
     "data": {
      "text/plain": [
       "Confusion Matrix and Statistics\n",
       "\n",
       "           Reference\n",
       "Prediction  benign malignant\n",
       "  benign       152        11\n",
       "  malignant      1        64\n",
       "                                          \n",
       "               Accuracy : 0.9474          \n",
       "                 95% CI : (0.9099, 0.9725)\n",
       "    No Information Rate : 0.6711          \n",
       "    P-Value [Acc > NIR] : < 2.2e-16       \n",
       "                                          \n",
       "                  Kappa : 0.8766          \n",
       " Mcnemar's Test P-Value : 0.009375        \n",
       "                                          \n",
       "            Sensitivity : 0.9935          \n",
       "            Specificity : 0.8533          \n",
       "         Pos Pred Value : 0.9325          \n",
       "         Neg Pred Value : 0.9846          \n",
       "             Prevalence : 0.6711          \n",
       "         Detection Rate : 0.6667          \n",
       "   Detection Prevalence : 0.7149          \n",
       "      Balanced Accuracy : 0.9234          \n",
       "                                          \n",
       "       'Positive' Class : benign          \n",
       "                                          "
      ]
     },
     "metadata": {},
     "output_type": "display_data"
    }
   ],
   "source": [
    "pred12 <- predict(m2, test)\n",
    "confusionMatrix(pred12, test$Y)"
   ]
  },
  {
   "cell_type": "markdown",
   "metadata": {},
   "source": [
    "### False positive와 False negative 중 어느것이 위험한지 판단해야한다.\n",
    "### 병에 대한 진단이기 때문에 False negative가 위험하다고 판단됨"
   ]
  },
  {
   "cell_type": "code",
   "execution_count": 41,
   "metadata": {},
   "outputs": [
    {
     "data": {
      "text/plain": [
       "\n",
       "Call:\n",
       "svm(formula = Y ~ ., data = train, kernel = \"sigmoid\")\n",
       "\n",
       "\n",
       "Parameters:\n",
       "   SVM-Type:  C-classification \n",
       " SVM-Kernel:  sigmoid \n",
       "       cost:  1 \n",
       "      gamma:  0.1111111 \n",
       "     coef.0:  0 \n",
       "\n",
       "Number of Support Vectors:  32\n",
       "\n",
       " ( 16 16 )\n",
       "\n",
       "\n",
       "Number of Classes:  2 \n",
       "\n",
       "Levels: \n",
       " benign malignant\n",
       "\n",
       "\n"
      ]
     },
     "metadata": {},
     "output_type": "display_data"
    }
   ],
   "source": [
    "summary(m3)"
   ]
  },
  {
   "cell_type": "code",
   "execution_count": 42,
   "metadata": {},
   "outputs": [
    {
     "data": {
      "text/plain": [
       "Confusion Matrix and Statistics\n",
       "\n",
       "           Reference\n",
       "Prediction  benign malignant\n",
       "  benign       146         2\n",
       "  malignant      7        73\n",
       "                                          \n",
       "               Accuracy : 0.9605          \n",
       "                 95% CI : (0.9264, 0.9818)\n",
       "    No Information Rate : 0.6711          \n",
       "    P-Value [Acc > NIR] : <2e-16          \n",
       "                                          \n",
       "                  Kappa : 0.9121          \n",
       " Mcnemar's Test P-Value : 0.1824          \n",
       "                                          \n",
       "            Sensitivity : 0.9542          \n",
       "            Specificity : 0.9733          \n",
       "         Pos Pred Value : 0.9865          \n",
       "         Neg Pred Value : 0.9125          \n",
       "             Prevalence : 0.6711          \n",
       "         Detection Rate : 0.6404          \n",
       "   Detection Prevalence : 0.6491          \n",
       "      Balanced Accuracy : 0.9638          \n",
       "                                          \n",
       "       'Positive' Class : benign          \n",
       "                                          "
      ]
     },
     "metadata": {},
     "output_type": "display_data"
    }
   ],
   "source": [
    "pred13 <- predict(m3, test)\n",
    "confusionMatrix(pred13, test$Y)"
   ]
  },
  {
   "cell_type": "code",
   "execution_count": 43,
   "metadata": {},
   "outputs": [
    {
     "data": {
      "text/plain": [
       "\n",
       "Call:\n",
       "svm(formula = Y ~ ., data = train, kernel = \"linear\")\n",
       "\n",
       "\n",
       "Parameters:\n",
       "   SVM-Type:  C-classification \n",
       " SVM-Kernel:  linear \n",
       "       cost:  1 \n",
       "      gamma:  0.1111111 \n",
       "\n",
       "Number of Support Vectors:  36\n",
       "\n",
       " ( 18 18 )\n",
       "\n",
       "\n",
       "Number of Classes:  2 \n",
       "\n",
       "Levels: \n",
       " benign malignant\n",
       "\n",
       "\n"
      ]
     },
     "metadata": {},
     "output_type": "display_data"
    }
   ],
   "source": [
    "summary(m4)"
   ]
  },
  {
   "cell_type": "code",
   "execution_count": 45,
   "metadata": {},
   "outputs": [
    {
     "data": {
      "text/plain": [
       "Confusion Matrix and Statistics\n",
       "\n",
       "           Reference\n",
       "Prediction  benign malignant\n",
       "  benign       149         3\n",
       "  malignant      4        72\n",
       "                                          \n",
       "               Accuracy : 0.9693          \n",
       "                 95% CI : (0.9378, 0.9876)\n",
       "    No Information Rate : 0.6711          \n",
       "    P-Value [Acc > NIR] : <2e-16          \n",
       "                                          \n",
       "                  Kappa : 0.9307          \n",
       " Mcnemar's Test P-Value : 1               \n",
       "                                          \n",
       "            Sensitivity : 0.9739          \n",
       "            Specificity : 0.9600          \n",
       "         Pos Pred Value : 0.9803          \n",
       "         Neg Pred Value : 0.9474          \n",
       "             Prevalence : 0.6711          \n",
       "         Detection Rate : 0.6535          \n",
       "   Detection Prevalence : 0.6667          \n",
       "      Balanced Accuracy : 0.9669          \n",
       "                                          \n",
       "       'Positive' Class : benign          \n",
       "                                          "
      ]
     },
     "metadata": {},
     "output_type": "display_data"
    }
   ],
   "source": [
    "pred14 <- predict(m4, test)\n",
    "confusionMatrix(pred14, test$Y)"
   ]
  },
  {
   "cell_type": "markdown",
   "metadata": {},
   "source": [
    "### linear 일때 정확도가 가장 높지만 false negative가 높아 위험하다고 판단됨\n",
    "### radial basis function를 사용하는게 더 적합하다고 판단됨"
   ]
  }
 ],
 "metadata": {
  "kernelspec": {
   "display_name": "R",
   "language": "R",
   "name": "ir"
  },
  "language_info": {
   "codemirror_mode": "r",
   "file_extension": ".r",
   "mimetype": "text/x-r-source",
   "name": "R",
   "pygments_lexer": "r",
   "version": "3.4.3"
  },
  "varInspector": {
   "cols": {
    "lenName": 16,
    "lenType": 16,
    "lenVar": 40
   },
   "kernels_config": {
    "python": {
     "delete_cmd_postfix": "",
     "delete_cmd_prefix": "del ",
     "library": "var_list.py",
     "varRefreshCmd": "print(var_dic_list())"
    },
    "r": {
     "delete_cmd_postfix": ") ",
     "delete_cmd_prefix": "rm(",
     "library": "var_list.r",
     "varRefreshCmd": "cat(var_dic_list()) "
    }
   },
   "position": {
    "height": "233px",
    "left": "322.455px",
    "right": "20px",
    "top": "118px",
    "width": "344px"
   },
   "types_to_exclude": [
    "module",
    "function",
    "builtin_function_or_method",
    "instance",
    "_Feature"
   ],
   "window_display": false
  }
 },
 "nbformat": 4,
 "nbformat_minor": 2
}
