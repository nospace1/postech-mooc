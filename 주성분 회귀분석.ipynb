{
 "cells": [
  {
   "cell_type": "markdown",
   "metadata": {},
   "source": [
    "#### 설명변수들의 차원을 줄이기 위해 사용가능, 주성분을 이용하여 반응변수의 설명력(예측력)을 높일 수 있다.\n",
    "#### 설명변수들의 전체분산을 가장 잘 설명해주는 component를 사용하여 설명변수들간 다중공선성 문제를 해결할 수 있다.\n",
    "#### 주요 component score들이 Y의 예측력을 보장하는 것은 아니다. 주요 component score는 X의 분산을 가장 잘 설명하는 방향의 축을 기준으로 변환된 것이기 때문에 Y와의 관계에 있어서는 상관성이 없을수도 있다."
   ]
  },
  {
   "cell_type": "code",
   "execution_count": 3,
   "metadata": {},
   "outputs": [
    {
     "data": {
      "text/html": [
       "<table>\n",
       "<thead><tr><th scope=col>Mo</th><th scope=col>Ba</th><th scope=col>Cr</th><th scope=col>Sr</th><th scope=col>Pb</th><th scope=col>B</th><th scope=col>Mg</th><th scope=col>Ca</th><th scope=col>K</th><th scope=col>Aroma</th></tr></thead>\n",
       "<tbody>\n",
       "\t<tr><td>0.044</td><td>0.387</td><td>0.029</td><td>1.230</td><td>0.561</td><td>2.63 </td><td>128  </td><td> 80.5</td><td>1130 </td><td>3.3  </td></tr>\n",
       "\t<tr><td>0.160</td><td>0.312</td><td>0.038</td><td>0.975</td><td>0.697</td><td>6.21 </td><td>193  </td><td> 75.0</td><td>1010 </td><td>4.4  </td></tr>\n",
       "\t<tr><td>0.146</td><td>0.308</td><td>0.035</td><td>1.140</td><td>0.730</td><td>3.05 </td><td>127  </td><td> 91.0</td><td>1160 </td><td>3.9  </td></tr>\n",
       "\t<tr><td>0.191</td><td>0.165</td><td>0.036</td><td>0.927</td><td>0.796</td><td>2.57 </td><td>112  </td><td> 93.6</td><td> 924 </td><td>3.9  </td></tr>\n",
       "\t<tr><td>0.363</td><td>0.380</td><td>0.059</td><td>1.130</td><td>1.730</td><td>3.07 </td><td>138  </td><td> 84.6</td><td>1090 </td><td>5.6  </td></tr>\n",
       "\t<tr><td>0.106</td><td>0.275</td><td>0.019</td><td>1.050</td><td>0.491</td><td>6.56 </td><td>172  </td><td>112.0</td><td>1290 </td><td>4.6  </td></tr>\n",
       "</tbody>\n",
       "</table>\n"
      ],
      "text/latex": [
       "\\begin{tabular}{r|llllllllll}\n",
       " Mo & Ba & Cr & Sr & Pb & B & Mg & Ca & K & Aroma\\\\\n",
       "\\hline\n",
       "\t 0.044 & 0.387 & 0.029 & 1.230 & 0.561 & 2.63  & 128   &  80.5 & 1130  & 3.3  \\\\\n",
       "\t 0.160 & 0.312 & 0.038 & 0.975 & 0.697 & 6.21  & 193   &  75.0 & 1010  & 4.4  \\\\\n",
       "\t 0.146 & 0.308 & 0.035 & 1.140 & 0.730 & 3.05  & 127   &  91.0 & 1160  & 3.9  \\\\\n",
       "\t 0.191 & 0.165 & 0.036 & 0.927 & 0.796 & 2.57  & 112   &  93.6 &  924  & 3.9  \\\\\n",
       "\t 0.363 & 0.380 & 0.059 & 1.130 & 1.730 & 3.07  & 138   &  84.6 & 1090  & 5.6  \\\\\n",
       "\t 0.106 & 0.275 & 0.019 & 1.050 & 0.491 & 6.56  & 172   & 112.0 & 1290  & 4.6  \\\\\n",
       "\\end{tabular}\n"
      ],
      "text/markdown": [
       "\n",
       "Mo | Ba | Cr | Sr | Pb | B | Mg | Ca | K | Aroma | \n",
       "|---|---|---|---|---|---|\n",
       "| 0.044 | 0.387 | 0.029 | 1.230 | 0.561 | 2.63  | 128   |  80.5 | 1130  | 3.3   | \n",
       "| 0.160 | 0.312 | 0.038 | 0.975 | 0.697 | 6.21  | 193   |  75.0 | 1010  | 4.4   | \n",
       "| 0.146 | 0.308 | 0.035 | 1.140 | 0.730 | 3.05  | 127   |  91.0 | 1160  | 3.9   | \n",
       "| 0.191 | 0.165 | 0.036 | 0.927 | 0.796 | 2.57  | 112   |  93.6 |  924  | 3.9   | \n",
       "| 0.363 | 0.380 | 0.059 | 1.130 | 1.730 | 3.07  | 138   |  84.6 | 1090  | 5.6   | \n",
       "| 0.106 | 0.275 | 0.019 | 1.050 | 0.491 | 6.56  | 172   | 112.0 | 1290  | 4.6   | \n",
       "\n",
       "\n"
      ],
      "text/plain": [
       "  Mo    Ba    Cr    Sr    Pb    B    Mg  Ca    K    Aroma\n",
       "1 0.044 0.387 0.029 1.230 0.561 2.63 128  80.5 1130 3.3  \n",
       "2 0.160 0.312 0.038 0.975 0.697 6.21 193  75.0 1010 4.4  \n",
       "3 0.146 0.308 0.035 1.140 0.730 3.05 127  91.0 1160 3.9  \n",
       "4 0.191 0.165 0.036 0.927 0.796 2.57 112  93.6  924 3.9  \n",
       "5 0.363 0.380 0.059 1.130 1.730 3.07 138  84.6 1090 5.6  \n",
       "6 0.106 0.275 0.019 1.050 0.491 6.56 172 112.0 1290 4.6  "
      ]
     },
     "metadata": {},
     "output_type": "display_data"
    }
   ],
   "source": [
    "wine <- read.csv('wine_aroma.csv')\n",
    "attach(wine)\n",
    "head(wine)"
   ]
  },
  {
   "cell_type": "code",
   "execution_count": 7,
   "metadata": {},
   "outputs": [
    {
     "data": {
      "text/html": [
       "<table>\n",
       "<thead><tr><th></th><th scope=col>Mo</th><th scope=col>Ba</th><th scope=col>Cr</th><th scope=col>Sr</th><th scope=col>Pb</th><th scope=col>B</th><th scope=col>Mg</th><th scope=col>Ca</th><th scope=col>K</th></tr></thead>\n",
       "<tbody>\n",
       "\t<tr><th scope=row>Mo</th><td> 1.000000000</td><td>-0.005845794</td><td>0.43202327  </td><td>-0.04506390 </td><td> 0.95042130 </td><td>-0.10139057 </td><td> 0.27611679 </td><td>0.3780829   </td><td>-0.09162274 </td></tr>\n",
       "\t<tr><th scope=row>Ba</th><td>-0.005845794</td><td> 1.000000000</td><td>0.03307179  </td><td> 0.82068003 </td><td> 0.09127673 </td><td>-0.25386503 </td><td> 0.63209382 </td><td>0.2412818   </td><td> 0.47869078 </td></tr>\n",
       "\t<tr><th scope=row>Cr</th><td> 0.432023266</td><td> 0.033071792</td><td>1.00000000  </td><td> 0.24604133 </td><td> 0.35372849 </td><td> 0.08280968 </td><td> 0.29126365 </td><td>0.0991697   </td><td> 0.45139309 </td></tr>\n",
       "\t<tr><th scope=row>Sr</th><td>-0.045063901</td><td> 0.820680029</td><td>0.24604133  </td><td> 1.00000000 </td><td>-0.03084108 </td><td>-0.32126815 </td><td> 0.72466545 </td><td>0.2945248   </td><td> 0.59537471 </td></tr>\n",
       "\t<tr><th scope=row>Pb</th><td> 0.950421296</td><td> 0.091276726</td><td>0.35372849  </td><td>-0.03084108 </td><td> 1.00000000 </td><td>-0.19147512 </td><td> 0.25025455 </td><td>0.3469484   </td><td>-0.11247016 </td></tr>\n",
       "\t<tr><th scope=row>B</th><td>-0.101390567</td><td>-0.253865031</td><td>0.08280968  </td><td>-0.32126815 </td><td>-0.19147512 </td><td> 1.00000000 </td><td>-0.01070072 </td><td>0.0333600   </td><td> 0.29234044 </td></tr>\n",
       "\t<tr><th scope=row>Mg</th><td> 0.276116791</td><td> 0.632093823</td><td>0.29126365  </td><td> 0.72466545 </td><td> 0.25025455 </td><td>-0.01070072 </td><td> 1.00000000 </td><td>0.5025169   </td><td> 0.46953525 </td></tr>\n",
       "\t<tr><th scope=row>Ca</th><td> 0.378082932</td><td> 0.241281790</td><td>0.09916970  </td><td> 0.29452483 </td><td> 0.34694843 </td><td> 0.03336000 </td><td> 0.50251687 </td><td>1.0000000   </td><td> 0.42669707 </td></tr>\n",
       "\t<tr><th scope=row>K</th><td>-0.091622741</td><td> 0.478690782</td><td>0.45139309  </td><td> 0.59537471 </td><td>-0.11247016 </td><td> 0.29234044 </td><td> 0.46953525 </td><td>0.4266971   </td><td> 1.00000000 </td></tr>\n",
       "</tbody>\n",
       "</table>\n"
      ],
      "text/latex": [
       "\\begin{tabular}{r|lllllllll}\n",
       "  & Mo & Ba & Cr & Sr & Pb & B & Mg & Ca & K\\\\\n",
       "\\hline\n",
       "\tMo &  1.000000000 & -0.005845794 & 0.43202327   & -0.04506390  &  0.95042130  & -0.10139057  &  0.27611679  & 0.3780829    & -0.09162274 \\\\\n",
       "\tBa & -0.005845794 &  1.000000000 & 0.03307179   &  0.82068003  &  0.09127673  & -0.25386503  &  0.63209382  & 0.2412818    &  0.47869078 \\\\\n",
       "\tCr &  0.432023266 &  0.033071792 & 1.00000000   &  0.24604133  &  0.35372849  &  0.08280968  &  0.29126365  & 0.0991697    &  0.45139309 \\\\\n",
       "\tSr & -0.045063901 &  0.820680029 & 0.24604133   &  1.00000000  & -0.03084108  & -0.32126815  &  0.72466545  & 0.2945248    &  0.59537471 \\\\\n",
       "\tPb &  0.950421296 &  0.091276726 & 0.35372849   & -0.03084108  &  1.00000000  & -0.19147512  &  0.25025455  & 0.3469484    & -0.11247016 \\\\\n",
       "\tB & -0.101390567 & -0.253865031 & 0.08280968   & -0.32126815  & -0.19147512  &  1.00000000  & -0.01070072  & 0.0333600    &  0.29234044 \\\\\n",
       "\tMg &  0.276116791 &  0.632093823 & 0.29126365   &  0.72466545  &  0.25025455  & -0.01070072  &  1.00000000  & 0.5025169    &  0.46953525 \\\\\n",
       "\tCa &  0.378082932 &  0.241281790 & 0.09916970   &  0.29452483  &  0.34694843  &  0.03336000  &  0.50251687  & 1.0000000    &  0.42669707 \\\\\n",
       "\tK & -0.091622741 &  0.478690782 & 0.45139309   &  0.59537471  & -0.11247016  &  0.29234044  &  0.46953525  & 0.4266971    &  1.00000000 \\\\\n",
       "\\end{tabular}\n"
      ],
      "text/markdown": [
       "\n",
       "| <!--/--> | Mo | Ba | Cr | Sr | Pb | B | Mg | Ca | K | \n",
       "|---|---|---|---|---|---|---|---|---|\n",
       "| Mo |  1.000000000 | -0.005845794 | 0.43202327   | -0.04506390  |  0.95042130  | -0.10139057  |  0.27611679  | 0.3780829    | -0.09162274  | \n",
       "| Ba | -0.005845794 |  1.000000000 | 0.03307179   |  0.82068003  |  0.09127673  | -0.25386503  |  0.63209382  | 0.2412818    |  0.47869078  | \n",
       "| Cr |  0.432023266 |  0.033071792 | 1.00000000   |  0.24604133  |  0.35372849  |  0.08280968  |  0.29126365  | 0.0991697    |  0.45139309  | \n",
       "| Sr | -0.045063901 |  0.820680029 | 0.24604133   |  1.00000000  | -0.03084108  | -0.32126815  |  0.72466545  | 0.2945248    |  0.59537471  | \n",
       "| Pb |  0.950421296 |  0.091276726 | 0.35372849   | -0.03084108  |  1.00000000  | -0.19147512  |  0.25025455  | 0.3469484    | -0.11247016  | \n",
       "| B | -0.101390567 | -0.253865031 | 0.08280968   | -0.32126815  | -0.19147512  |  1.00000000  | -0.01070072  | 0.0333600    |  0.29234044  | \n",
       "| Mg |  0.276116791 |  0.632093823 | 0.29126365   |  0.72466545  |  0.25025455  | -0.01070072  |  1.00000000  | 0.5025169    |  0.46953525  | \n",
       "| Ca |  0.378082932 |  0.241281790 | 0.09916970   |  0.29452483  |  0.34694843  |  0.03336000  |  0.50251687  | 1.0000000    |  0.42669707  | \n",
       "| K | -0.091622741 |  0.478690782 | 0.45139309   |  0.59537471  | -0.11247016  |  0.29234044  |  0.46953525  | 0.4266971    |  1.00000000  | \n",
       "\n",
       "\n"
      ],
      "text/plain": [
       "   Mo           Ba           Cr         Sr          Pb          B          \n",
       "Mo  1.000000000 -0.005845794 0.43202327 -0.04506390  0.95042130 -0.10139057\n",
       "Ba -0.005845794  1.000000000 0.03307179  0.82068003  0.09127673 -0.25386503\n",
       "Cr  0.432023266  0.033071792 1.00000000  0.24604133  0.35372849  0.08280968\n",
       "Sr -0.045063901  0.820680029 0.24604133  1.00000000 -0.03084108 -0.32126815\n",
       "Pb  0.950421296  0.091276726 0.35372849 -0.03084108  1.00000000 -0.19147512\n",
       "B  -0.101390567 -0.253865031 0.08280968 -0.32126815 -0.19147512  1.00000000\n",
       "Mg  0.276116791  0.632093823 0.29126365  0.72466545  0.25025455 -0.01070072\n",
       "Ca  0.378082932  0.241281790 0.09916970  0.29452483  0.34694843  0.03336000\n",
       "K  -0.091622741  0.478690782 0.45139309  0.59537471 -0.11247016  0.29234044\n",
       "   Mg          Ca        K          \n",
       "Mo  0.27611679 0.3780829 -0.09162274\n",
       "Ba  0.63209382 0.2412818  0.47869078\n",
       "Cr  0.29126365 0.0991697  0.45139309\n",
       "Sr  0.72466545 0.2945248  0.59537471\n",
       "Pb  0.25025455 0.3469484 -0.11247016\n",
       "B  -0.01070072 0.0333600  0.29234044\n",
       "Mg  1.00000000 0.5025169  0.46953525\n",
       "Ca  0.50251687 1.0000000  0.42669707\n",
       "K   0.46953525 0.4266971  1.00000000"
      ]
     },
     "metadata": {},
     "output_type": "display_data"
    }
   ],
   "source": [
    "cor(wine[1:9])"
   ]
  },
  {
   "cell_type": "code",
   "execution_count": 8,
   "metadata": {},
   "outputs": [
    {
     "data": {
      "text/plain": [
       "Standard deviations (1, .., p=9):\n",
       "[1] 191.34178051  27.33235332  15.40582103   1.57383189   0.41900698\n",
       "[6]   0.17041133   0.05942324   0.02365329   0.01089562\n",
       "\n",
       "Rotation (n x k) = (9 x 9):\n",
       "             PC1           PC2           PC3           PC4          PC5\n",
       "Mo  4.396532e-05  1.531130e-03 -0.0016925110  6.688447e-05 -0.188670999\n",
       "Ba -2.644028e-04  1.588626e-03  0.0016225184  2.310870e-02  0.006670829\n",
       "Cr -4.594881e-05  3.640528e-05  0.0002075367  5.172124e-04 -0.022994509\n",
       "Sr -1.386527e-03  7.314677e-03  0.0074873569  1.258356e-01  0.183855603\n",
       "Pb  2.621301e-04  6.962105e-03 -0.0076524788  2.814073e-02 -0.964311791\n",
       "B  -2.516393e-03 -1.071784e-02  0.0005113384 -9.913097e-01 -0.003970591\n",
       "Mg -7.437057e-02  9.302614e-01  0.3589981755 -1.087874e-02  0.001918085\n",
       "Ca -4.369679e-02  3.565893e-01 -0.9331669873 -3.859202e-03  0.010450686\n",
       "K  -9.962686e-01 -8.506499e-02  0.0141159901  3.311344e-03 -0.001110159\n",
       "            PC6           PC7           PC8           PC9\n",
       "Mo -0.029428376  2.844720e-01 -9.264660e-01 -1.557831e-01\n",
       "Ba -0.226686742 -9.226794e-01 -2.943319e-01  1.003039e-01\n",
       "Cr  0.011184607  1.413965e-01 -1.174830e-01  9.826244e-01\n",
       "Sr -0.948330313  2.171114e-01  6.085582e-02 -8.937142e-03\n",
       "Pb -0.176364249 -2.404374e-02  1.936101e-01  6.035954e-03\n",
       "B  -0.130749796  5.465231e-03  6.234039e-03  1.876199e-03\n",
       "Mg  0.008994835 -2.697786e-04  1.366549e-04 -1.103782e-04\n",
       "Ca -0.003095231 -2.510058e-04  9.870630e-05  5.115768e-04\n",
       "K   0.001126306 -4.023557e-05 -2.138254e-05 -8.372536e-05"
      ]
     },
     "metadata": {},
     "output_type": "display_data"
    }
   ],
   "source": [
    "# PCA(center=T ->mean=0, scale=T -> variance=1)\n",
    "wi.pca <- prcomp(wine[1:9], center=T, scale=F)\n",
    "wi.pca"
   ]
  },
  {
   "cell_type": "code",
   "execution_count": 9,
   "metadata": {},
   "outputs": [
    {
     "data": {
      "text/plain": [
       "Importance of components:\n",
       "                            PC1      PC2      PC3     PC4   PC5    PC6     PC7\n",
       "Standard deviation     191.3418 27.33235 15.40582 1.57383 0.419 0.1704 0.05942\n",
       "Proportion of Variance   0.9738  0.01987  0.00631 0.00007 0.000 0.0000 0.00000\n",
       "Cumulative Proportion    0.9738  0.99362  0.99993 0.99999 1.000 1.0000 1.00000\n",
       "                           PC8    PC9\n",
       "Standard deviation     0.02365 0.0109\n",
       "Proportion of Variance 0.00000 0.0000\n",
       "Cumulative Proportion  1.00000 1.0000"
      ]
     },
     "metadata": {},
     "output_type": "display_data"
    }
   ],
   "source": [
    "summary(wi.pca)"
   ]
  },
  {
   "cell_type": "markdown",
   "metadata": {},
   "source": [
    "#### PC1은 전체분산의 97.38%를 설명, 1개의 변수만으로도 독립변수 전체분산을 거의 설명"
   ]
  },
  {
   "cell_type": "markdown",
   "metadata": {},
   "source": [
    "## scree plot"
   ]
  },
  {
   "cell_type": "code",
   "execution_count": 11,
   "metadata": {},
   "outputs": [
    {
     "data": {
      "image/png": "[encoded data removed]",
      "text/plain": [
       "Plot with title \"wi.pca\""
      ]
     },
     "metadata": {},
     "output_type": "display_data"
    }
   ],
   "source": [
    "plot(wi.pca, type='l')"
   ]
  },
  {
   "cell_type": "markdown",
   "metadata": {},
   "source": [
    "#### 이 경우 PC1 한 개만 사용해도 될듯"
   ]
  },
  {
   "cell_type": "code",
   "execution_count": 12,
   "metadata": {},
   "outputs": [
    {
     "data": {
      "text/html": [
       "<table>\n",
       "<thead><tr><th scope=col>PC1</th><th scope=col>PC2</th><th scope=col>PC3</th><th scope=col>PC4</th><th scope=col>PC5</th><th scope=col>PC6</th><th scope=col>PC7</th><th scope=col>PC8</th><th scope=col>PC9</th></tr></thead>\n",
       "<tbody>\n",
       "\t<tr><td>-1138.8289   </td><td> 51.64087    </td><td>-13.21029    </td><td>-0.3889438   </td><td>-0.4993510   </td><td>0.4769412    </td><td>-0.17273149  </td><td> 0.0430609304</td><td>-0.009768975 </td></tr>\n",
       "\t<tr><td>-1023.8790   </td><td>120.31518    </td><td> 13.56166    </td><td>-5.0510679   </td><td>-0.5137726   </td><td>0.7069155    </td><td>-0.11965383  </td><td> 0.0006446114</td><td>-0.016643552 </td></tr>\n",
       "\t<tr><td>-1169.1022   </td><td> 51.89889    </td><td>-22.94611    </td><td>-0.7439815   </td><td>-0.6259345   </td><td>0.4848385    </td><td>-0.09485616  </td><td> 0.0012283896</td><td>-0.022104523 </td></tr>\n",
       "\t<tr><td> -932.9793   </td><td> 58.95133    </td><td>-34.09134    </td><td>-0.9247297   </td><td>-0.4759034   </td><td>0.3602776    </td><td> 0.01246438  </td><td> 0.0015861301</td><td>-0.018329233 </td></tr>\n",
       "\t<tr><td>-1099.9016   </td><td> 65.81126    </td><td>-14.02094    </td><td>-1.0619959   </td><td>-1.6012517   </td><td>0.3328149    </td><td>-0.12081531  </td><td>-0.0283316970</td><td>-0.017569226 </td></tr>\n",
       "\t<tr><td>-1302.8902   </td><td> 90.15052    </td><td>-24.54966    </td><td>-4.3824147   </td><td>-0.2567956   </td><td>0.6480738    </td><td>-0.09530135  </td><td> 0.0254539117</td><td>-0.034066209 </td></tr>\n",
       "</tbody>\n",
       "</table>\n"
      ],
      "text/latex": [
       "\\begin{tabular}{lllllllll}\n",
       " PC1 & PC2 & PC3 & PC4 & PC5 & PC6 & PC7 & PC8 & PC9\\\\\n",
       "\\hline\n",
       "\t -1138.8289    &  51.64087     & -13.21029     & -0.3889438    & -0.4993510    & 0.4769412     & -0.17273149   &  0.0430609304 & -0.009768975 \\\\\n",
       "\t -1023.8790    & 120.31518     &  13.56166     & -5.0510679    & -0.5137726    & 0.7069155     & -0.11965383   &  0.0006446114 & -0.016643552 \\\\\n",
       "\t -1169.1022    &  51.89889     & -22.94611     & -0.7439815    & -0.6259345    & 0.4848385     & -0.09485616   &  0.0012283896 & -0.022104523 \\\\\n",
       "\t  -932.9793    &  58.95133     & -34.09134     & -0.9247297    & -0.4759034    & 0.3602776     &  0.01246438   &  0.0015861301 & -0.018329233 \\\\\n",
       "\t -1099.9016    &  65.81126     & -14.02094     & -1.0619959    & -1.6012517    & 0.3328149     & -0.12081531   & -0.0283316970 & -0.017569226 \\\\\n",
       "\t -1302.8902    &  90.15052     & -24.54966     & -4.3824147    & -0.2567956    & 0.6480738     & -0.09530135   &  0.0254539117 & -0.034066209 \\\\\n",
       "\\end{tabular}\n"
      ],
      "text/markdown": [
       "\n",
       "PC1 | PC2 | PC3 | PC4 | PC5 | PC6 | PC7 | PC8 | PC9 | \n",
       "|---|---|---|---|---|---|\n",
       "| -1138.8289    |  51.64087     | -13.21029     | -0.3889438    | -0.4993510    | 0.4769412     | -0.17273149   |  0.0430609304 | -0.009768975  | \n",
       "| -1023.8790    | 120.31518     |  13.56166     | -5.0510679    | -0.5137726    | 0.7069155     | -0.11965383   |  0.0006446114 | -0.016643552  | \n",
       "| -1169.1022    |  51.89889     | -22.94611     | -0.7439815    | -0.6259345    | 0.4848385     | -0.09485616   |  0.0012283896 | -0.022104523  | \n",
       "|  -932.9793    |  58.95133     | -34.09134     | -0.9247297    | -0.4759034    | 0.3602776     |  0.01246438   |  0.0015861301 | -0.018329233  | \n",
       "| -1099.9016    |  65.81126     | -14.02094     | -1.0619959    | -1.6012517    | 0.3328149     | -0.12081531   | -0.0283316970 | -0.017569226  | \n",
       "| -1302.8902    |  90.15052     | -24.54966     | -4.3824147    | -0.2567956    | 0.6480738     | -0.09530135   |  0.0254539117 | -0.034066209  | \n",
       "\n",
       "\n"
      ],
      "text/plain": [
       "     PC1        PC2       PC3       PC4        PC5        PC6       PC7        \n",
       "[1,] -1138.8289  51.64087 -13.21029 -0.3889438 -0.4993510 0.4769412 -0.17273149\n",
       "[2,] -1023.8790 120.31518  13.56166 -5.0510679 -0.5137726 0.7069155 -0.11965383\n",
       "[3,] -1169.1022  51.89889 -22.94611 -0.7439815 -0.6259345 0.4848385 -0.09485616\n",
       "[4,]  -932.9793  58.95133 -34.09134 -0.9247297 -0.4759034 0.3602776  0.01246438\n",
       "[5,] -1099.9016  65.81126 -14.02094 -1.0619959 -1.6012517 0.3328149 -0.12081531\n",
       "[6,] -1302.8902  90.15052 -24.54966 -4.3824147 -0.2567956 0.6480738 -0.09530135\n",
       "     PC8           PC9         \n",
       "[1,]  0.0430609304 -0.009768975\n",
       "[2,]  0.0006446114 -0.016643552\n",
       "[3,]  0.0012283896 -0.022104523\n",
       "[4,]  0.0015861301 -0.018329233\n",
       "[5,] -0.0283316970 -0.017569226\n",
       "[6,]  0.0254539117 -0.034066209"
      ]
     },
     "metadata": {},
     "output_type": "display_data"
    }
   ],
   "source": [
    "PRC <- as.matrix(wine[,1:9]) %*% wi.pca$rotation\n",
    "head(PRC)"
   ]
  },
  {
   "cell_type": "code",
   "execution_count": 13,
   "metadata": {},
   "outputs": [
    {
     "data": {
      "text/html": [
       "<table>\n",
       "<thead><tr><th scope=col>PC1</th><th scope=col>PC2</th><th scope=col>PC3</th><th scope=col>PC4</th><th scope=col>PC5</th><th scope=col>PC6</th><th scope=col>PC7</th><th scope=col>PC8</th><th scope=col>PC9</th><th scope=col>Aroma</th></tr></thead>\n",
       "<tbody>\n",
       "\t<tr><td>-1138.8289   </td><td> 51.64087    </td><td>-13.21029    </td><td>-0.3889438   </td><td>-0.4993510   </td><td>0.4769412    </td><td>-0.17273149  </td><td> 0.0430609304</td><td>-0.009768975 </td><td>3.3          </td></tr>\n",
       "\t<tr><td>-1023.8790   </td><td>120.31518    </td><td> 13.56166    </td><td>-5.0510679   </td><td>-0.5137726   </td><td>0.7069155    </td><td>-0.11965383  </td><td> 0.0006446114</td><td>-0.016643552 </td><td>4.4          </td></tr>\n",
       "\t<tr><td>-1169.1022   </td><td> 51.89889    </td><td>-22.94611    </td><td>-0.7439815   </td><td>-0.6259345   </td><td>0.4848385    </td><td>-0.09485616  </td><td> 0.0012283896</td><td>-0.022104523 </td><td>3.9          </td></tr>\n",
       "\t<tr><td> -932.9793   </td><td> 58.95133    </td><td>-34.09134    </td><td>-0.9247297   </td><td>-0.4759034   </td><td>0.3602776    </td><td> 0.01246438  </td><td> 0.0015861301</td><td>-0.018329233 </td><td>3.9          </td></tr>\n",
       "\t<tr><td>-1099.9016   </td><td> 65.81126    </td><td>-14.02094    </td><td>-1.0619959   </td><td>-1.6012517   </td><td>0.3328149    </td><td>-0.12081531  </td><td>-0.0283316970</td><td>-0.017569226 </td><td>5.6          </td></tr>\n",
       "\t<tr><td>-1302.8902   </td><td> 90.15052    </td><td>-24.54966    </td><td>-4.3824147   </td><td>-0.2567956   </td><td>0.6480738    </td><td>-0.09530135  </td><td> 0.0254539117</td><td>-0.034066209 </td><td>4.6          </td></tr>\n",
       "</tbody>\n",
       "</table>\n"
      ],
      "text/latex": [
       "\\begin{tabular}{r|llllllllll}\n",
       " PC1 & PC2 & PC3 & PC4 & PC5 & PC6 & PC7 & PC8 & PC9 & Aroma\\\\\n",
       "\\hline\n",
       "\t -1138.8289    &  51.64087     & -13.21029     & -0.3889438    & -0.4993510    & 0.4769412     & -0.17273149   &  0.0430609304 & -0.009768975  & 3.3          \\\\\n",
       "\t -1023.8790    & 120.31518     &  13.56166     & -5.0510679    & -0.5137726    & 0.7069155     & -0.11965383   &  0.0006446114 & -0.016643552  & 4.4          \\\\\n",
       "\t -1169.1022    &  51.89889     & -22.94611     & -0.7439815    & -0.6259345    & 0.4848385     & -0.09485616   &  0.0012283896 & -0.022104523  & 3.9          \\\\\n",
       "\t  -932.9793    &  58.95133     & -34.09134     & -0.9247297    & -0.4759034    & 0.3602776     &  0.01246438   &  0.0015861301 & -0.018329233  & 3.9          \\\\\n",
       "\t -1099.9016    &  65.81126     & -14.02094     & -1.0619959    & -1.6012517    & 0.3328149     & -0.12081531   & -0.0283316970 & -0.017569226  & 5.6          \\\\\n",
       "\t -1302.8902    &  90.15052     & -24.54966     & -4.3824147    & -0.2567956    & 0.6480738     & -0.09530135   &  0.0254539117 & -0.034066209  & 4.6          \\\\\n",
       "\\end{tabular}\n"
      ],
      "text/markdown": [
       "\n",
       "PC1 | PC2 | PC3 | PC4 | PC5 | PC6 | PC7 | PC8 | PC9 | Aroma | \n",
       "|---|---|---|---|---|---|\n",
       "| -1138.8289    |  51.64087     | -13.21029     | -0.3889438    | -0.4993510    | 0.4769412     | -0.17273149   |  0.0430609304 | -0.009768975  | 3.3           | \n",
       "| -1023.8790    | 120.31518     |  13.56166     | -5.0510679    | -0.5137726    | 0.7069155     | -0.11965383   |  0.0006446114 | -0.016643552  | 4.4           | \n",
       "| -1169.1022    |  51.89889     | -22.94611     | -0.7439815    | -0.6259345    | 0.4848385     | -0.09485616   |  0.0012283896 | -0.022104523  | 3.9           | \n",
       "|  -932.9793    |  58.95133     | -34.09134     | -0.9247297    | -0.4759034    | 0.3602776     |  0.01246438   |  0.0015861301 | -0.018329233  | 3.9           | \n",
       "| -1099.9016    |  65.81126     | -14.02094     | -1.0619959    | -1.6012517    | 0.3328149     | -0.12081531   | -0.0283316970 | -0.017569226  | 5.6           | \n",
       "| -1302.8902    |  90.15052     | -24.54966     | -4.3824147    | -0.2567956    | 0.6480738     | -0.09530135   |  0.0254539117 | -0.034066209  | 4.6           | \n",
       "\n",
       "\n"
      ],
      "text/plain": [
       "  PC1        PC2       PC3       PC4        PC5        PC6       PC7        \n",
       "1 -1138.8289  51.64087 -13.21029 -0.3889438 -0.4993510 0.4769412 -0.17273149\n",
       "2 -1023.8790 120.31518  13.56166 -5.0510679 -0.5137726 0.7069155 -0.11965383\n",
       "3 -1169.1022  51.89889 -22.94611 -0.7439815 -0.6259345 0.4848385 -0.09485616\n",
       "4  -932.9793  58.95133 -34.09134 -0.9247297 -0.4759034 0.3602776  0.01246438\n",
       "5 -1099.9016  65.81126 -14.02094 -1.0619959 -1.6012517 0.3328149 -0.12081531\n",
       "6 -1302.8902  90.15052 -24.54966 -4.3824147 -0.2567956 0.6480738 -0.09530135\n",
       "  PC8           PC9          Aroma\n",
       "1  0.0430609304 -0.009768975 3.3  \n",
       "2  0.0006446114 -0.016643552 4.4  \n",
       "3  0.0012283896 -0.022104523 3.9  \n",
       "4  0.0015861301 -0.018329233 3.9  \n",
       "5 -0.0283316970 -0.017569226 5.6  \n",
       "6  0.0254539117 -0.034066209 4.6  "
      ]
     },
     "metadata": {},
     "output_type": "display_data"
    }
   ],
   "source": [
    "wine.pc <- cbind(as.data.frame(PRC), Aroma)\n",
    "head(wine.pc)"
   ]
  },
  {
   "cell_type": "markdown",
   "metadata": {},
   "source": [
    "## 1"
   ]
  },
  {
   "cell_type": "code",
   "execution_count": 15,
   "metadata": {},
   "outputs": [
    {
     "data": {
      "text/plain": [
       "\n",
       "Call:\n",
       "lm(formula = Aroma ~ PC1, data = wine.pc)\n",
       "\n",
       "Residuals:\n",
       "     Min       1Q   Median       3Q      Max \n",
       "-2.01505 -0.61186  0.05833  0.66342  2.15282 \n",
       "\n",
       "Coefficients:\n",
       "             Estimate Std. Error t value Pr(>|t|)    \n",
       "(Intercept) 7.7448471  0.9545674   8.113 1.49e-09 ***\n",
       "PC1         0.0025532  0.0008408   3.037   0.0045 ** \n",
       "---\n",
       "Signif. codes:  0 '***' 0.001 '**' 0.01 '*' 0.05 '.' 0.1 ' ' 1\n",
       "\n",
       "Residual standard error: 0.9653 on 35 degrees of freedom\n",
       "Multiple R-squared:  0.2085,\tAdjusted R-squared:  0.1859 \n",
       "F-statistic: 9.221 on 1 and 35 DF,  p-value: 0.004497\n"
      ]
     },
     "metadata": {},
     "output_type": "display_data"
    }
   ],
   "source": [
    "fit1 <- lm(Aroma ~ PC1, wine.pc)\n",
    "summary(fit1)"
   ]
  },
  {
   "cell_type": "markdown",
   "metadata": {},
   "source": [
    "### $R^2$=0.1859이 너무 작음"
   ]
  },
  {
   "cell_type": "markdown",
   "metadata": {},
   "source": [
    "## 2"
   ]
  },
  {
   "cell_type": "code",
   "execution_count": 16,
   "metadata": {},
   "outputs": [
    {
     "data": {
      "text/plain": [
       "\n",
       "Call:\n",
       "lm(formula = Aroma ~ PC1 + PC2 + PC3 + PC4, data = wine.pc)\n",
       "\n",
       "Residuals:\n",
       "     Min       1Q   Median       3Q      Max \n",
       "-1.37626 -0.66068  0.00352  0.48748  1.35150 \n",
       "\n",
       "Coefficients:\n",
       "              Estimate Std. Error t value Pr(>|t|)    \n",
       "(Intercept)  7.7499387  0.8204063   9.446 8.96e-11 ***\n",
       "PC1          0.0025532  0.0006629   3.852 0.000530 ***\n",
       "PC2         -0.0147475  0.0046404  -3.178 0.003279 ** \n",
       "PC3          0.0031120  0.0082328   0.378 0.707924    \n",
       "PC4         -0.3022774  0.0805886  -3.751 0.000701 ***\n",
       "---\n",
       "Signif. codes:  0 '***' 0.001 '**' 0.01 '*' 0.05 '.' 0.1 ' ' 1\n",
       "\n",
       "Residual standard error: 0.761 on 32 degrees of freedom\n",
       "Multiple R-squared:  0.5502,\tAdjusted R-squared:  0.494 \n",
       "F-statistic: 9.787 on 4 and 32 DF,  p-value: 2.749e-05\n"
      ]
     },
     "metadata": {},
     "output_type": "display_data"
    }
   ],
   "source": [
    "fit2 <- lm(Aroma ~ PC1 + PC2 + PC3 + PC4, wine.pc)\n",
    "summary(fit2)"
   ]
  },
  {
   "cell_type": "markdown",
   "metadata": {},
   "source": [
    "#### 변수 중요도가 PC1 > PC2 > PC3 > PC4이지만 PC3는 X를 잘 설명하지만 Y를 잘 설명하지 못하는걸 볼 수 있다."
   ]
  },
  {
   "cell_type": "markdown",
   "metadata": {},
   "source": [
    "## 3"
   ]
  },
  {
   "cell_type": "code",
   "execution_count": 17,
   "metadata": {},
   "outputs": [
    {
     "data": {
      "text/plain": [
       "\n",
       "Call:\n",
       "lm(formula = Aroma ~ ., data = wine.pc)\n",
       "\n",
       "Residuals:\n",
       "     Min       1Q   Median       3Q      Max \n",
       "-0.86916 -0.32577 -0.02585  0.25665  0.92525 \n",
       "\n",
       "Coefficients:\n",
       "              Estimate Std. Error t value Pr(>|t|)    \n",
       "(Intercept)  5.738e+00  7.174e-01   7.998 1.35e-08 ***\n",
       "PC1          2.553e-03  4.741e-04   5.386 1.08e-05 ***\n",
       "PC2         -1.475e-02  3.319e-03  -4.444 0.000136 ***\n",
       "PC3          3.112e-03  5.888e-03   0.529 0.601455    \n",
       "PC4         -3.023e-01  5.764e-02  -5.244 1.58e-05 ***\n",
       "PC5         -9.251e-01  2.165e-01  -4.273 0.000214 ***\n",
       "PC6          1.695e+00  5.323e-01   3.184 0.003639 ** \n",
       "PC7         -1.002e+00  1.527e+00  -0.656 0.517085    \n",
       "PC8         -7.910e+00  3.835e+00  -2.062 0.048902 *  \n",
       "PC9         -1.309e+01  8.326e+00  -1.573 0.127409    \n",
       "---\n",
       "Signif. codes:  0 '***' 0.001 '**' 0.01 '*' 0.05 '.' 0.1 ' ' 1\n",
       "\n",
       "Residual standard error: 0.5443 on 27 degrees of freedom\n",
       "Multiple R-squared:  0.8059,\tAdjusted R-squared:  0.7412 \n",
       "F-statistic: 12.45 on 9 and 27 DF,  p-value: 1.615e-07\n"
      ]
     },
     "metadata": {},
     "output_type": "display_data"
    }
   ],
   "source": [
    "fit3 <- lm(Aroma ~ ., wine.pc)\n",
    "summary(fit3)"
   ]
  },
  {
   "cell_type": "code",
   "execution_count": 18,
   "metadata": {},
   "outputs": [
    {
     "data": {
      "image/png": "[encoded data removed]",
      "text/plain": [
       "Plot with title \"\""
      ]
     },
     "metadata": {},
     "output_type": "display_data"
    }
   ],
   "source": [
    "layout(matrix(c(1,2,3,4),2,2))\n",
    "plot(fit3)"
   ]
  }
 ],
 "metadata": {
  "kernelspec": {
   "display_name": "R",
   "language": "R",
   "name": "ir"
  },
  "language_info": {
   "codemirror_mode": "r",
   "file_extension": ".r",
   "mimetype": "text/x-r-source",
   "name": "R",
   "pygments_lexer": "r",
   "version": "3.4.3"
  },
  "varInspector": {
   "cols": {
    "lenName": 16,
    "lenType": 16,
    "lenVar": 40
   },
   "kernels_config": {
    "python": {
     "delete_cmd_postfix": "",
     "delete_cmd_prefix": "del ",
     "library": "var_list.py",
     "varRefreshCmd": "print(var_dic_list())"
    },
    "r": {
     "delete_cmd_postfix": ") ",
     "delete_cmd_prefix": "rm(",
     "library": "var_list.r",
     "varRefreshCmd": "cat(var_dic_list()) "
    }
   },
   "types_to_exclude": [
    "module",
    "function",
    "builtin_function_or_method",
    "instance",
    "_Feature"
   ],
   "window_display": false
  }
 },
 "nbformat": 4,
 "nbformat_minor": 2
}
