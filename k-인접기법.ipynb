{
 "cells": [
  {
   "cell_type": "code",
   "execution_count": 2,
   "metadata": {
    "scrolled": true
   },
   "outputs": [
    {
     "name": "stdout",
     "output_type": "stream",
     "text": [
      "package 'class' successfully unpacked and MD5 sums checked\n",
      "\n",
      "The downloaded binary packages are in\n",
      "\tC:\\Users\\15U560\\AppData\\Local\\Temp\\RtmpMldVvn\\downloaded_packages\n"
     ]
    },
    {
     "name": "stderr",
     "output_type": "stream",
     "text": [
      "also installing the dependencies 'gtools', 'gdata'\n",
      "\n"
     ]
    },
    {
     "name": "stdout",
     "output_type": "stream",
     "text": [
      "package 'gtools' successfully unpacked and MD5 sums checked\n",
      "package 'gdata' successfully unpacked and MD5 sums checked\n",
      "package 'gmodels' successfully unpacked and MD5 sums checked\n",
      "\n",
      "The downloaded binary packages are in\n",
      "\tC:\\Users\\15U560\\AppData\\Local\\Temp\\RtmpMldVvn\\downloaded_packages\n",
      "package 'scales' successfully unpacked and MD5 sums checked\n",
      "\n",
      "The downloaded binary packages are in\n",
      "\tC:\\Users\\15U560\\AppData\\Local\\Temp\\RtmpMldVvn\\downloaded_packages\n"
     ]
    }
   ],
   "source": [
    "install.packages('class')\n",
    "install.packages('gmodels')\n",
    "install.packages('scales')"
   ]
  },
  {
   "cell_type": "code",
   "execution_count": 1,
   "metadata": {},
   "outputs": [],
   "source": [
    "library(class)\n",
    "library(gmodels)\n",
    "library(scales)"
   ]
  },
  {
   "cell_type": "code",
   "execution_count": 2,
   "metadata": {},
   "outputs": [],
   "source": [
    "setwd('C:/Users/15U560/Desktop/week10_1')"
   ]
  },
  {
   "cell_type": "code",
   "execution_count": 3,
   "metadata": {},
   "outputs": [],
   "source": [
    "iris <- read.csv('iris.csv')"
   ]
  },
  {
   "cell_type": "code",
   "execution_count": 4,
   "metadata": {},
   "outputs": [],
   "source": [
    "set.seed(1)\n",
    "N = nrow(iris)\n",
    "tr.idx = sample(1:N, size = N*2/3, replace = FALSE)"
   ]
  },
  {
   "cell_type": "code",
   "execution_count": 6,
   "metadata": {},
   "outputs": [],
   "source": [
    "?sample"
   ]
  },
  {
   "cell_type": "code",
   "execution_count": 5,
   "metadata": {},
   "outputs": [],
   "source": [
    "iris.train <- iris[tr.idx, -5]\n",
    "iris.test <- iris[-tr.idx, -5]\n",
    "trainLabels <- iris[tr.idx, 5]\n",
    "testLabels <- iris[-tr.idx, 5]"
   ]
  },
  {
   "cell_type": "code",
   "execution_count": 6,
   "metadata": {},
   "outputs": [],
   "source": [
    "train <- iris[tr.idx,]\n",
    "test <- iris[-tr.idx,]"
   ]
  },
  {
   "cell_type": "code",
   "execution_count": 7,
   "metadata": {},
   "outputs": [
    {
     "data": {
      "text/html": [
       "<ol class=list-inline>\n",
       "\t<li>setosa</li>\n",
       "\t<li>setosa</li>\n",
       "\t<li>setosa</li>\n",
       "\t<li>setosa</li>\n",
       "\t<li>setosa</li>\n",
       "\t<li>setosa</li>\n",
       "\t<li>setosa</li>\n",
       "\t<li>setosa</li>\n",
       "\t<li>setosa</li>\n",
       "\t<li>setosa</li>\n",
       "\t<li>setosa</li>\n",
       "\t<li>setosa</li>\n",
       "\t<li>setosa</li>\n",
       "\t<li>setosa</li>\n",
       "\t<li>setosa</li>\n",
       "\t<li>setosa</li>\n",
       "\t<li>setosa</li>\n",
       "\t<li>setosa</li>\n",
       "\t<li>versicolor</li>\n",
       "\t<li>versicolor</li>\n",
       "\t<li>versicolor</li>\n",
       "\t<li>versicolor</li>\n",
       "\t<li>versicolor</li>\n",
       "\t<li>versicolor</li>\n",
       "\t<li>versicolor</li>\n",
       "\t<li>versicolor</li>\n",
       "\t<li>versicolor</li>\n",
       "\t<li>versicolor</li>\n",
       "\t<li>versicolor</li>\n",
       "\t<li>versicolor</li>\n",
       "\t<li>versicolor</li>\n",
       "\t<li>versicolor</li>\n",
       "\t<li>virginica</li>\n",
       "\t<li>virginica</li>\n",
       "\t<li>virginica</li>\n",
       "\t<li>virginica</li>\n",
       "\t<li>virginica</li>\n",
       "\t<li>virginica</li>\n",
       "\t<li>virginica</li>\n",
       "\t<li>virginica</li>\n",
       "\t<li>virginica</li>\n",
       "\t<li>virginica</li>\n",
       "\t<li>versicolor</li>\n",
       "\t<li>virginica</li>\n",
       "\t<li>virginica</li>\n",
       "\t<li>virginica</li>\n",
       "\t<li>virginica</li>\n",
       "\t<li>virginica</li>\n",
       "\t<li>virginica</li>\n",
       "\t<li>virginica</li>\n",
       "</ol>\n"
      ],
      "text/latex": [
       "\\begin{enumerate*}\n",
       "\\item setosa\n",
       "\\item setosa\n",
       "\\item setosa\n",
       "\\item setosa\n",
       "\\item setosa\n",
       "\\item setosa\n",
       "\\item setosa\n",
       "\\item setosa\n",
       "\\item setosa\n",
       "\\item setosa\n",
       "\\item setosa\n",
       "\\item setosa\n",
       "\\item setosa\n",
       "\\item setosa\n",
       "\\item setosa\n",
       "\\item setosa\n",
       "\\item setosa\n",
       "\\item setosa\n",
       "\\item versicolor\n",
       "\\item versicolor\n",
       "\\item versicolor\n",
       "\\item versicolor\n",
       "\\item versicolor\n",
       "\\item versicolor\n",
       "\\item versicolor\n",
       "\\item versicolor\n",
       "\\item versicolor\n",
       "\\item versicolor\n",
       "\\item versicolor\n",
       "\\item versicolor\n",
       "\\item versicolor\n",
       "\\item versicolor\n",
       "\\item virginica\n",
       "\\item virginica\n",
       "\\item virginica\n",
       "\\item virginica\n",
       "\\item virginica\n",
       "\\item virginica\n",
       "\\item virginica\n",
       "\\item virginica\n",
       "\\item virginica\n",
       "\\item virginica\n",
       "\\item versicolor\n",
       "\\item virginica\n",
       "\\item virginica\n",
       "\\item virginica\n",
       "\\item virginica\n",
       "\\item virginica\n",
       "\\item virginica\n",
       "\\item virginica\n",
       "\\end{enumerate*}\n"
      ],
      "text/markdown": [
       "1. setosa\n",
       "2. setosa\n",
       "3. setosa\n",
       "4. setosa\n",
       "5. setosa\n",
       "6. setosa\n",
       "7. setosa\n",
       "8. setosa\n",
       "9. setosa\n",
       "10. setosa\n",
       "11. setosa\n",
       "12. setosa\n",
       "13. setosa\n",
       "14. setosa\n",
       "15. setosa\n",
       "16. setosa\n",
       "17. setosa\n",
       "18. setosa\n",
       "19. versicolor\n",
       "20. versicolor\n",
       "21. versicolor\n",
       "22. versicolor\n",
       "23. versicolor\n",
       "24. versicolor\n",
       "25. versicolor\n",
       "26. versicolor\n",
       "27. versicolor\n",
       "28. versicolor\n",
       "29. versicolor\n",
       "30. versicolor\n",
       "31. versicolor\n",
       "32. versicolor\n",
       "33. virginica\n",
       "34. virginica\n",
       "35. virginica\n",
       "36. virginica\n",
       "37. virginica\n",
       "38. virginica\n",
       "39. virginica\n",
       "40. virginica\n",
       "41. virginica\n",
       "42. virginica\n",
       "43. versicolor\n",
       "44. virginica\n",
       "45. virginica\n",
       "46. virginica\n",
       "47. virginica\n",
       "48. virginica\n",
       "49. virginica\n",
       "50. virginica\n",
       "\n",
       "\n"
      ],
      "text/plain": [
       " [1] setosa     setosa     setosa     setosa     setosa     setosa    \n",
       " [7] setosa     setosa     setosa     setosa     setosa     setosa    \n",
       "[13] setosa     setosa     setosa     setosa     setosa     setosa    \n",
       "[19] versicolor versicolor versicolor versicolor versicolor versicolor\n",
       "[25] versicolor versicolor versicolor versicolor versicolor versicolor\n",
       "[31] versicolor versicolor virginica  virginica  virginica  virginica \n",
       "[37] virginica  virginica  virginica  virginica  virginica  virginica \n",
       "[43] versicolor virginica  virginica  virginica  virginica  virginica \n",
       "[49] virginica  virginica \n",
       "Levels: setosa versicolor virginica"
      ]
     },
     "metadata": {},
     "output_type": "display_data"
    }
   ],
   "source": [
    "md1 <- knn(train=iris.train, test=iris.test, cl=trainLabels, k=5)\n",
    "md1\n",
    "# md1에는 test 데이터(50개)들을 예측한 결과가 저장되어 있음"
   ]
  },
  {
   "cell_type": "code",
   "execution_count": 10,
   "metadata": {},
   "outputs": [
    {
     "name": "stdout",
     "output_type": "stream",
     "text": [
      "\n",
      " \n",
      "   Cell Contents\n",
      "|-------------------------|\n",
      "|                       N |\n",
      "|           N / Row Total |\n",
      "|           N / Col Total |\n",
      "|         N / Table Total |\n",
      "|-------------------------|\n",
      "\n",
      " \n",
      "Total Observations in Table:  50 \n",
      "\n",
      " \n",
      "             | md1 \n",
      "  testLabels |     setosa | versicolor |  virginica |  Row Total | \n",
      "-------------|------------|------------|------------|------------|\n",
      "      setosa |         18 |          0 |          0 |         18 | \n",
      "             |      1.000 |      0.000 |      0.000 |      0.360 | \n",
      "             |      1.000 |      0.000 |      0.000 |            | \n",
      "             |      0.360 |      0.000 |      0.000 |            | \n",
      "-------------|------------|------------|------------|------------|\n",
      "  versicolor |          0 |         14 |          0 |         14 | \n",
      "             |      0.000 |      1.000 |      0.000 |      0.280 | \n",
      "             |      0.000 |      0.933 |      0.000 |            | \n",
      "             |      0.000 |      0.280 |      0.000 |            | \n",
      "-------------|------------|------------|------------|------------|\n",
      "   virginica |          0 |          1 |         17 |         18 | \n",
      "             |      0.000 |      0.056 |      0.944 |      0.360 | \n",
      "             |      0.000 |      0.067 |      1.000 |            | \n",
      "             |      0.000 |      0.020 |      0.340 |            | \n",
      "-------------|------------|------------|------------|------------|\n",
      "Column Total |         18 |         15 |         17 |         50 | \n",
      "             |      0.360 |      0.300 |      0.340 |            | \n",
      "-------------|------------|------------|------------|------------|\n",
      "\n",
      " \n"
     ]
    }
   ],
   "source": [
    "CrossTable(x=testLabels, y=md1, prop.chisq=FALSE)\n",
    "# 정확도 : 49/50 = 98%\n",
    "# 오분류율 : 1/50 = 2%\n",
    "help(CrossTable)"
   ]
  },
  {
   "cell_type": "code",
   "execution_count": 8,
   "metadata": {},
   "outputs": [],
   "source": [
    "# knn에서 최적 k 탐색\n",
    "accuracy_k <- NULL\n",
    "# 적합한 k를 찾기위한 \n",
    "nnum <- nrow(iris.train)/2\n",
    "for(kk in c(1:nnum))\n",
    "    {\n",
    "    set.seed(1234)\n",
    "    knn_k <- knn(train=iris.train, test=iris.test, cl=trainLabels, k=kk)\n",
    "    accuracy_k <- c(accuracy_k, sum(knn_k == testLabels)/length(testLabels))\n",
    "}"
   ]
  },
  {
   "cell_type": "code",
   "execution_count": 9,
   "metadata": {},
   "outputs": [
    {
     "data": {
      "text/html": [
       "<ol class=list-inline>\n",
       "\t<li>0.94</li>\n",
       "\t<li>0.94</li>\n",
       "\t<li>0.96</li>\n",
       "\t<li>0.98</li>\n",
       "\t<li>0.98</li>\n",
       "\t<li>0.98</li>\n",
       "\t<li>0.98</li>\n",
       "\t<li>1</li>\n",
       "\t<li>1</li>\n",
       "\t<li>0.98</li>\n",
       "\t<li>0.98</li>\n",
       "\t<li>1</li>\n",
       "\t<li>1</li>\n",
       "\t<li>0.98</li>\n",
       "\t<li>0.96</li>\n",
       "\t<li>0.96</li>\n",
       "\t<li>0.96</li>\n",
       "\t<li>0.96</li>\n",
       "\t<li>0.96</li>\n",
       "\t<li>0.96</li>\n",
       "\t<li>0.98</li>\n",
       "\t<li>0.96</li>\n",
       "\t<li>0.96</li>\n",
       "\t<li>0.94</li>\n",
       "\t<li>0.94</li>\n",
       "\t<li>0.94</li>\n",
       "\t<li>0.96</li>\n",
       "\t<li>0.96</li>\n",
       "\t<li>0.94</li>\n",
       "\t<li>0.94</li>\n",
       "\t<li>0.94</li>\n",
       "\t<li>0.94</li>\n",
       "\t<li>0.92</li>\n",
       "\t<li>0.92</li>\n",
       "\t<li>0.92</li>\n",
       "\t<li>0.92</li>\n",
       "\t<li>0.92</li>\n",
       "\t<li>0.92</li>\n",
       "\t<li>0.92</li>\n",
       "\t<li>0.92</li>\n",
       "\t<li>0.92</li>\n",
       "\t<li>0.92</li>\n",
       "\t<li>0.9</li>\n",
       "\t<li>0.9</li>\n",
       "\t<li>0.9</li>\n",
       "\t<li>0.9</li>\n",
       "\t<li>0.9</li>\n",
       "\t<li>0.9</li>\n",
       "\t<li>0.9</li>\n",
       "\t<li>0.9</li>\n",
       "</ol>\n"
      ],
      "text/latex": [
       "\\begin{enumerate*}\n",
       "\\item 0.94\n",
       "\\item 0.94\n",
       "\\item 0.96\n",
       "\\item 0.98\n",
       "\\item 0.98\n",
       "\\item 0.98\n",
       "\\item 0.98\n",
       "\\item 1\n",
       "\\item 1\n",
       "\\item 0.98\n",
       "\\item 0.98\n",
       "\\item 1\n",
       "\\item 1\n",
       "\\item 0.98\n",
       "\\item 0.96\n",
       "\\item 0.96\n",
       "\\item 0.96\n",
       "\\item 0.96\n",
       "\\item 0.96\n",
       "\\item 0.96\n",
       "\\item 0.98\n",
       "\\item 0.96\n",
       "\\item 0.96\n",
       "\\item 0.94\n",
       "\\item 0.94\n",
       "\\item 0.94\n",
       "\\item 0.96\n",
       "\\item 0.96\n",
       "\\item 0.94\n",
       "\\item 0.94\n",
       "\\item 0.94\n",
       "\\item 0.94\n",
       "\\item 0.92\n",
       "\\item 0.92\n",
       "\\item 0.92\n",
       "\\item 0.92\n",
       "\\item 0.92\n",
       "\\item 0.92\n",
       "\\item 0.92\n",
       "\\item 0.92\n",
       "\\item 0.92\n",
       "\\item 0.92\n",
       "\\item 0.9\n",
       "\\item 0.9\n",
       "\\item 0.9\n",
       "\\item 0.9\n",
       "\\item 0.9\n",
       "\\item 0.9\n",
       "\\item 0.9\n",
       "\\item 0.9\n",
       "\\end{enumerate*}\n"
      ],
      "text/markdown": [
       "1. 0.94\n",
       "2. 0.94\n",
       "3. 0.96\n",
       "4. 0.98\n",
       "5. 0.98\n",
       "6. 0.98\n",
       "7. 0.98\n",
       "8. 1\n",
       "9. 1\n",
       "10. 0.98\n",
       "11. 0.98\n",
       "12. 1\n",
       "13. 1\n",
       "14. 0.98\n",
       "15. 0.96\n",
       "16. 0.96\n",
       "17. 0.96\n",
       "18. 0.96\n",
       "19. 0.96\n",
       "20. 0.96\n",
       "21. 0.98\n",
       "22. 0.96\n",
       "23. 0.96\n",
       "24. 0.94\n",
       "25. 0.94\n",
       "26. 0.94\n",
       "27. 0.96\n",
       "28. 0.96\n",
       "29. 0.94\n",
       "30. 0.94\n",
       "31. 0.94\n",
       "32. 0.94\n",
       "33. 0.92\n",
       "34. 0.92\n",
       "35. 0.92\n",
       "36. 0.92\n",
       "37. 0.92\n",
       "38. 0.92\n",
       "39. 0.92\n",
       "40. 0.92\n",
       "41. 0.92\n",
       "42. 0.92\n",
       "43. 0.9\n",
       "44. 0.9\n",
       "45. 0.9\n",
       "46. 0.9\n",
       "47. 0.9\n",
       "48. 0.9\n",
       "49. 0.9\n",
       "50. 0.9\n",
       "\n",
       "\n"
      ],
      "text/plain": [
       " [1] 0.94 0.94 0.96 0.98 0.98 0.98 0.98 1.00 1.00 0.98 0.98 1.00 1.00 0.98 0.96\n",
       "[16] 0.96 0.96 0.96 0.96 0.96 0.98 0.96 0.96 0.94 0.94 0.94 0.96 0.96 0.94 0.94\n",
       "[31] 0.94 0.94 0.92 0.92 0.92 0.92 0.92 0.92 0.92 0.92 0.92 0.92 0.90 0.90 0.90\n",
       "[46] 0.90 0.90 0.90 0.90 0.90"
      ]
     },
     "metadata": {},
     "output_type": "display_data"
    }
   ],
   "source": [
    "accuracy_k"
   ]
  },
  {
   "cell_type": "code",
   "execution_count": 10,
   "metadata": {},
   "outputs": [
    {
     "data": {
      "image/png": "[encoded data removed]",
      "text/plain": [
       "Plot with title \"validation-optimal k\""
      ]
     },
     "metadata": {},
     "output_type": "display_data"
    }
   ],
   "source": [
    "test_k <- data.frame(k=c(1:nnum), accuracy=accuracy_k[c(1:nnum)])\n",
    "plot(formula=accuracy~k, data=test_k, type='o', ylim=c(0.5, 1), pch=20, col=3, main='validation-optimal k')\n",
    "with(test_k, text(accuracy ~k, labels= k, pos=1, cex = 0.7))"
   ]
  },
  {
   "cell_type": "code",
   "execution_count": 14,
   "metadata": {},
   "outputs": [],
   "source": [
    "?text"
   ]
  },
  {
   "cell_type": "code",
   "execution_count": 11,
   "metadata": {},
   "outputs": [
    {
     "data": {
      "text/html": [
       "8"
      ],
      "text/latex": [
       "8"
      ],
      "text/markdown": [
       "8"
      ],
      "text/plain": [
       "[1] 8"
      ]
     },
     "metadata": {},
     "output_type": "display_data"
    }
   ],
   "source": [
    "# minimum k for the highest accuracy\n",
    "min(test_k[test_k$accuracy %in% max(accuracy_k), 'k'])"
   ]
  },
  {
   "cell_type": "code",
   "execution_count": 26,
   "metadata": {
    "scrolled": false
   },
   "outputs": [
    {
     "name": "stdout",
     "output_type": "stream",
     "text": [
      "\n",
      " \n",
      "   Cell Contents\n",
      "|-------------------------|\n",
      "|                       N |\n",
      "|           N / Row Total |\n",
      "|           N / Col Total |\n",
      "|         N / Table Total |\n",
      "|-------------------------|\n",
      "\n",
      " \n",
      "Total Observations in Table:  50 \n",
      "\n",
      " \n",
      "             | md1 \n",
      "  testLabels |     setosa | versicolor |  virginica |  Row Total | \n",
      "-------------|------------|------------|------------|------------|\n",
      "      setosa |         18 |          0 |          0 |         18 | \n",
      "             |      1.000 |      0.000 |      0.000 |      0.360 | \n",
      "             |      1.000 |      0.000 |      0.000 |            | \n",
      "             |      0.360 |      0.000 |      0.000 |            | \n",
      "-------------|------------|------------|------------|------------|\n",
      "  versicolor |          0 |         14 |          0 |         14 | \n",
      "             |      0.000 |      1.000 |      0.000 |      0.280 | \n",
      "             |      0.000 |      1.000 |      0.000 |            | \n",
      "             |      0.000 |      0.280 |      0.000 |            | \n",
      "-------------|------------|------------|------------|------------|\n",
      "   virginica |          0 |          0 |         18 |         18 | \n",
      "             |      0.000 |      0.000 |      1.000 |      0.360 | \n",
      "             |      0.000 |      0.000 |      1.000 |            | \n",
      "             |      0.000 |      0.000 |      0.360 |            | \n",
      "-------------|------------|------------|------------|------------|\n",
      "Column Total |         18 |         14 |         18 |         50 | \n",
      "             |      0.360 |      0.280 |      0.360 |            | \n",
      "-------------|------------|------------|------------|------------|\n",
      "\n",
      " \n"
     ]
    }
   ],
   "source": [
    "# 최종 knn 모형 k =8 \n",
    "md1 = knn(train=iris.train, test = iris.test, cl= trainLabels, k=8)\n",
    "CrossTable(x=testLabels, y=md1, prop.chisq=FALSE)"
   ]
  },
  {
   "cell_type": "code",
   "execution_count": 27,
   "metadata": {},
   "outputs": [],
   "source": [
    "# 정확도 100% 오분류율 0% 라고 볼 수 있다. "
   ]
  },
  {
   "cell_type": "code",
   "execution_count": 16,
   "metadata": {
    "scrolled": false
   },
   "outputs": [
    {
     "data": {
      "image/png": "[encoded data removed]",
      "text/plain": [
       "Plot with title \"knn(k=7)\""
      ]
     },
     "metadata": {},
     "output_type": "display_data"
    }
   ],
   "source": [
    "# graphic display\n",
    "plot(formula=Petal.Length ~ Petal.Width, data = iris.train,\n",
    "    col = alpha(c('purple', 'blue', 'green'), 0.7)[trainLabels],\n",
    "    main = 'knn(k=7)')\n",
    "points(formula = Petal.Length~ Petal.Width, data = iris.test,\n",
    "      pch = 17, cex= 1.2, col= alpha(c('purple', 'blue', 'green'),0.7)[md1]\n",
    "       )\n",
    "legend('bottomright',\n",
    "      c(paste('train', levels(trainLabels)),paste('test', levels(testLabels))),\n",
    "      pch= c(rep(1, 3), rep(17, 3)),\n",
    "      col= c(rep(alpha(c('purple', 'blue', 'green'), 0.7), 2)),\n",
    "      cex = 0.9)"
   ]
  },
  {
   "cell_type": "code",
   "execution_count": 18,
   "metadata": {},
   "outputs": [
    {
     "name": "stderr",
     "output_type": "stream",
     "text": [
      "also installing the dependencies 'irlba', 'igraph'\n",
      "\n"
     ]
    },
    {
     "name": "stdout",
     "output_type": "stream",
     "text": [
      "package 'irlba' successfully unpacked and MD5 sums checked\n",
      "package 'igraph' successfully unpacked and MD5 sums checked\n",
      "package 'kknn' successfully unpacked and MD5 sums checked\n",
      "\n",
      "The downloaded binary packages are in\n",
      "\tC:\\Users\\15U560\\AppData\\Local\\Temp\\Rtmpi2PRsi\\downloaded_packages\n"
     ]
    }
   ],
   "source": [
    "install.packages('kknn')"
   ]
  },
  {
   "cell_type": "code",
   "execution_count": 19,
   "metadata": {},
   "outputs": [],
   "source": [
    "# 거리에 따라 가중치를 부여하는 알고리즘\n",
    "library(kknn)\n",
    "?kknn"
   ]
  },
  {
   "cell_type": "code",
   "execution_count": 20,
   "metadata": {},
   "outputs": [
    {
     "data": {
      "text/plain": [
       "\n",
       "Call:\n",
       "kknn(formula = Species ~ ., train = train, test = iris.test,     k = 5, distance = 1, kernel = \"triangular\")\n",
       "\n",
       "Response: \"nominal\""
      ]
     },
     "metadata": {},
     "output_type": "display_data"
    }
   ],
   "source": [
    "# k=5 일때\n",
    "md2 <- kknn(Species~., train=train, test=iris.test, k=5, distance=1, kernel='triangular')\n",
    "md2"
   ]
  },
  {
   "cell_type": "code",
   "execution_count": 21,
   "metadata": {},
   "outputs": [
    {
     "data": {
      "text/html": [
       "<ol class=list-inline>\n",
       "\t<li>setosa</li>\n",
       "\t<li>setosa</li>\n",
       "\t<li>setosa</li>\n",
       "\t<li>setosa</li>\n",
       "\t<li>setosa</li>\n",
       "\t<li>setosa</li>\n",
       "\t<li>setosa</li>\n",
       "\t<li>setosa</li>\n",
       "\t<li>setosa</li>\n",
       "\t<li>setosa</li>\n",
       "\t<li>setosa</li>\n",
       "\t<li>setosa</li>\n",
       "\t<li>setosa</li>\n",
       "\t<li>setosa</li>\n",
       "\t<li>setosa</li>\n",
       "\t<li>setosa</li>\n",
       "\t<li>setosa</li>\n",
       "\t<li>setosa</li>\n",
       "\t<li>versicolor</li>\n",
       "\t<li>versicolor</li>\n",
       "\t<li>versicolor</li>\n",
       "\t<li>versicolor</li>\n",
       "\t<li>versicolor</li>\n",
       "\t<li>versicolor</li>\n",
       "\t<li>versicolor</li>\n",
       "\t<li>versicolor</li>\n",
       "\t<li>versicolor</li>\n",
       "\t<li>versicolor</li>\n",
       "\t<li>versicolor</li>\n",
       "\t<li>versicolor</li>\n",
       "\t<li>versicolor</li>\n",
       "\t<li>versicolor</li>\n",
       "\t<li>virginica</li>\n",
       "\t<li>virginica</li>\n",
       "\t<li>virginica</li>\n",
       "\t<li>virginica</li>\n",
       "\t<li>virginica</li>\n",
       "\t<li>virginica</li>\n",
       "\t<li>versicolor</li>\n",
       "\t<li>virginica</li>\n",
       "\t<li>virginica</li>\n",
       "\t<li>virginica</li>\n",
       "\t<li>virginica</li>\n",
       "\t<li>virginica</li>\n",
       "\t<li>virginica</li>\n",
       "\t<li>versicolor</li>\n",
       "\t<li>virginica</li>\n",
       "\t<li>virginica</li>\n",
       "\t<li>virginica</li>\n",
       "\t<li>virginica</li>\n",
       "</ol>\n"
      ],
      "text/latex": [
       "\\begin{enumerate*}\n",
       "\\item setosa\n",
       "\\item setosa\n",
       "\\item setosa\n",
       "\\item setosa\n",
       "\\item setosa\n",
       "\\item setosa\n",
       "\\item setosa\n",
       "\\item setosa\n",
       "\\item setosa\n",
       "\\item setosa\n",
       "\\item setosa\n",
       "\\item setosa\n",
       "\\item setosa\n",
       "\\item setosa\n",
       "\\item setosa\n",
       "\\item setosa\n",
       "\\item setosa\n",
       "\\item setosa\n",
       "\\item versicolor\n",
       "\\item versicolor\n",
       "\\item versicolor\n",
       "\\item versicolor\n",
       "\\item versicolor\n",
       "\\item versicolor\n",
       "\\item versicolor\n",
       "\\item versicolor\n",
       "\\item versicolor\n",
       "\\item versicolor\n",
       "\\item versicolor\n",
       "\\item versicolor\n",
       "\\item versicolor\n",
       "\\item versicolor\n",
       "\\item virginica\n",
       "\\item virginica\n",
       "\\item virginica\n",
       "\\item virginica\n",
       "\\item virginica\n",
       "\\item virginica\n",
       "\\item versicolor\n",
       "\\item virginica\n",
       "\\item virginica\n",
       "\\item virginica\n",
       "\\item virginica\n",
       "\\item virginica\n",
       "\\item virginica\n",
       "\\item versicolor\n",
       "\\item virginica\n",
       "\\item virginica\n",
       "\\item virginica\n",
       "\\item virginica\n",
       "\\end{enumerate*}\n"
      ],
      "text/markdown": [
       "1. setosa\n",
       "2. setosa\n",
       "3. setosa\n",
       "4. setosa\n",
       "5. setosa\n",
       "6. setosa\n",
       "7. setosa\n",
       "8. setosa\n",
       "9. setosa\n",
       "10. setosa\n",
       "11. setosa\n",
       "12. setosa\n",
       "13. setosa\n",
       "14. setosa\n",
       "15. setosa\n",
       "16. setosa\n",
       "17. setosa\n",
       "18. setosa\n",
       "19. versicolor\n",
       "20. versicolor\n",
       "21. versicolor\n",
       "22. versicolor\n",
       "23. versicolor\n",
       "24. versicolor\n",
       "25. versicolor\n",
       "26. versicolor\n",
       "27. versicolor\n",
       "28. versicolor\n",
       "29. versicolor\n",
       "30. versicolor\n",
       "31. versicolor\n",
       "32. versicolor\n",
       "33. virginica\n",
       "34. virginica\n",
       "35. virginica\n",
       "36. virginica\n",
       "37. virginica\n",
       "38. virginica\n",
       "39. versicolor\n",
       "40. virginica\n",
       "41. virginica\n",
       "42. virginica\n",
       "43. virginica\n",
       "44. virginica\n",
       "45. virginica\n",
       "46. versicolor\n",
       "47. virginica\n",
       "48. virginica\n",
       "49. virginica\n",
       "50. virginica\n",
       "\n",
       "\n"
      ],
      "text/plain": [
       " [1] setosa     setosa     setosa     setosa     setosa     setosa    \n",
       " [7] setosa     setosa     setosa     setosa     setosa     setosa    \n",
       "[13] setosa     setosa     setosa     setosa     setosa     setosa    \n",
       "[19] versicolor versicolor versicolor versicolor versicolor versicolor\n",
       "[25] versicolor versicolor versicolor versicolor versicolor versicolor\n",
       "[31] versicolor versicolor virginica  virginica  virginica  virginica \n",
       "[37] virginica  virginica  versicolor virginica  virginica  virginica \n",
       "[43] virginica  virginica  virginica  versicolor virginica  virginica \n",
       "[49] virginica  virginica \n",
       "Levels: setosa versicolor virginica"
      ]
     },
     "metadata": {},
     "output_type": "display_data"
    }
   ],
   "source": [
    "md2_fit <- fitted(md2)\n",
    "md2_fit"
   ]
  },
  {
   "cell_type": "code",
   "execution_count": 22,
   "metadata": {},
   "outputs": [
    {
     "name": "stdout",
     "output_type": "stream",
     "text": [
      "\n",
      " \n",
      "   Cell Contents\n",
      "|-------------------------|\n",
      "|                       N |\n",
      "|           N / Row Total |\n",
      "|         N / Table Total |\n",
      "|-------------------------|\n",
      "\n",
      " \n",
      "Total Observations in Table:  50 \n",
      "\n",
      " \n",
      "             | md2_fit \n",
      "  testLabels |     setosa | versicolor |  virginica |  Row Total | \n",
      "-------------|------------|------------|------------|------------|\n",
      "      setosa |         18 |          0 |          0 |         18 | \n",
      "             |      1.000 |      0.000 |      0.000 |      0.360 | \n",
      "             |      0.360 |      0.000 |      0.000 |            | \n",
      "-------------|------------|------------|------------|------------|\n",
      "  versicolor |          0 |         14 |          0 |         14 | \n",
      "             |      0.000 |      1.000 |      0.000 |      0.280 | \n",
      "             |      0.000 |      0.280 |      0.000 |            | \n",
      "-------------|------------|------------|------------|------------|\n",
      "   virginica |          0 |          2 |         16 |         18 | \n",
      "             |      0.000 |      0.111 |      0.889 |      0.360 | \n",
      "             |      0.000 |      0.040 |      0.320 |            | \n",
      "-------------|------------|------------|------------|------------|\n",
      "Column Total |         18 |         16 |         16 |         50 | \n",
      "-------------|------------|------------|------------|------------|\n",
      "\n",
      " \n"
     ]
    }
   ],
   "source": [
    "CrossTable(x=testLabels, y=md2_fit, prop.chisq=FALSE, prop.c=FALSE)"
   ]
  },
  {
   "cell_type": "code",
   "execution_count": 23,
   "metadata": {},
   "outputs": [
    {
     "data": {
      "text/plain": [
       "\n",
       "Call:\n",
       "kknn(formula = Species ~ ., train = train, test = iris.test,     k = 8, distance = 2, kernel = \"triangular\")\n",
       "\n",
       "Response: \"nominal\""
      ]
     },
     "metadata": {},
     "output_type": "display_data"
    }
   ],
   "source": [
    "# k=8 일때 \n",
    "md3 <-kknn(Species~., train=train, test= iris.test, k=8, distance=2, kernel='triangular')\n",
    "md3"
   ]
  },
  {
   "cell_type": "code",
   "execution_count": 24,
   "metadata": {},
   "outputs": [
    {
     "data": {
      "text/html": [
       "<ol class=list-inline>\n",
       "\t<li>setosa</li>\n",
       "\t<li>setosa</li>\n",
       "\t<li>setosa</li>\n",
       "\t<li>setosa</li>\n",
       "\t<li>setosa</li>\n",
       "\t<li>setosa</li>\n",
       "\t<li>setosa</li>\n",
       "\t<li>setosa</li>\n",
       "\t<li>setosa</li>\n",
       "\t<li>setosa</li>\n",
       "\t<li>setosa</li>\n",
       "\t<li>setosa</li>\n",
       "\t<li>setosa</li>\n",
       "\t<li>setosa</li>\n",
       "\t<li>setosa</li>\n",
       "\t<li>setosa</li>\n",
       "\t<li>setosa</li>\n",
       "\t<li>setosa</li>\n",
       "\t<li>versicolor</li>\n",
       "\t<li>versicolor</li>\n",
       "\t<li>versicolor</li>\n",
       "\t<li>versicolor</li>\n",
       "\t<li>versicolor</li>\n",
       "\t<li>versicolor</li>\n",
       "\t<li>versicolor</li>\n",
       "\t<li>versicolor</li>\n",
       "\t<li>versicolor</li>\n",
       "\t<li>versicolor</li>\n",
       "\t<li>versicolor</li>\n",
       "\t<li>versicolor</li>\n",
       "\t<li>versicolor</li>\n",
       "\t<li>versicolor</li>\n",
       "\t<li>virginica</li>\n",
       "\t<li>virginica</li>\n",
       "\t<li>virginica</li>\n",
       "\t<li>virginica</li>\n",
       "\t<li>virginica</li>\n",
       "\t<li>virginica</li>\n",
       "\t<li>versicolor</li>\n",
       "\t<li>virginica</li>\n",
       "\t<li>virginica</li>\n",
       "\t<li>virginica</li>\n",
       "\t<li>virginica</li>\n",
       "\t<li>virginica</li>\n",
       "\t<li>virginica</li>\n",
       "\t<li>virginica</li>\n",
       "\t<li>virginica</li>\n",
       "\t<li>virginica</li>\n",
       "\t<li>virginica</li>\n",
       "\t<li>virginica</li>\n",
       "</ol>\n"
      ],
      "text/latex": [
       "\\begin{enumerate*}\n",
       "\\item setosa\n",
       "\\item setosa\n",
       "\\item setosa\n",
       "\\item setosa\n",
       "\\item setosa\n",
       "\\item setosa\n",
       "\\item setosa\n",
       "\\item setosa\n",
       "\\item setosa\n",
       "\\item setosa\n",
       "\\item setosa\n",
       "\\item setosa\n",
       "\\item setosa\n",
       "\\item setosa\n",
       "\\item setosa\n",
       "\\item setosa\n",
       "\\item setosa\n",
       "\\item setosa\n",
       "\\item versicolor\n",
       "\\item versicolor\n",
       "\\item versicolor\n",
       "\\item versicolor\n",
       "\\item versicolor\n",
       "\\item versicolor\n",
       "\\item versicolor\n",
       "\\item versicolor\n",
       "\\item versicolor\n",
       "\\item versicolor\n",
       "\\item versicolor\n",
       "\\item versicolor\n",
       "\\item versicolor\n",
       "\\item versicolor\n",
       "\\item virginica\n",
       "\\item virginica\n",
       "\\item virginica\n",
       "\\item virginica\n",
       "\\item virginica\n",
       "\\item virginica\n",
       "\\item versicolor\n",
       "\\item virginica\n",
       "\\item virginica\n",
       "\\item virginica\n",
       "\\item virginica\n",
       "\\item virginica\n",
       "\\item virginica\n",
       "\\item virginica\n",
       "\\item virginica\n",
       "\\item virginica\n",
       "\\item virginica\n",
       "\\item virginica\n",
       "\\end{enumerate*}\n"
      ],
      "text/markdown": [
       "1. setosa\n",
       "2. setosa\n",
       "3. setosa\n",
       "4. setosa\n",
       "5. setosa\n",
       "6. setosa\n",
       "7. setosa\n",
       "8. setosa\n",
       "9. setosa\n",
       "10. setosa\n",
       "11. setosa\n",
       "12. setosa\n",
       "13. setosa\n",
       "14. setosa\n",
       "15. setosa\n",
       "16. setosa\n",
       "17. setosa\n",
       "18. setosa\n",
       "19. versicolor\n",
       "20. versicolor\n",
       "21. versicolor\n",
       "22. versicolor\n",
       "23. versicolor\n",
       "24. versicolor\n",
       "25. versicolor\n",
       "26. versicolor\n",
       "27. versicolor\n",
       "28. versicolor\n",
       "29. versicolor\n",
       "30. versicolor\n",
       "31. versicolor\n",
       "32. versicolor\n",
       "33. virginica\n",
       "34. virginica\n",
       "35. virginica\n",
       "36. virginica\n",
       "37. virginica\n",
       "38. virginica\n",
       "39. versicolor\n",
       "40. virginica\n",
       "41. virginica\n",
       "42. virginica\n",
       "43. virginica\n",
       "44. virginica\n",
       "45. virginica\n",
       "46. virginica\n",
       "47. virginica\n",
       "48. virginica\n",
       "49. virginica\n",
       "50. virginica\n",
       "\n",
       "\n"
      ],
      "text/plain": [
       " [1] setosa     setosa     setosa     setosa     setosa     setosa    \n",
       " [7] setosa     setosa     setosa     setosa     setosa     setosa    \n",
       "[13] setosa     setosa     setosa     setosa     setosa     setosa    \n",
       "[19] versicolor versicolor versicolor versicolor versicolor versicolor\n",
       "[25] versicolor versicolor versicolor versicolor versicolor versicolor\n",
       "[31] versicolor versicolor virginica  virginica  virginica  virginica \n",
       "[37] virginica  virginica  versicolor virginica  virginica  virginica \n",
       "[43] virginica  virginica  virginica  virginica  virginica  virginica \n",
       "[49] virginica  virginica \n",
       "Levels: setosa versicolor virginica"
      ]
     },
     "metadata": {},
     "output_type": "display_data"
    }
   ],
   "source": [
    "md3_fit <- fitted(md3)\n",
    "md3_fit"
   ]
  },
  {
   "cell_type": "code",
   "execution_count": 25,
   "metadata": {},
   "outputs": [
    {
     "name": "stdout",
     "output_type": "stream",
     "text": [
      "\n",
      " \n",
      "   Cell Contents\n",
      "|-------------------------|\n",
      "|                       N |\n",
      "|           N / Row Total |\n",
      "|         N / Table Total |\n",
      "|-------------------------|\n",
      "\n",
      " \n",
      "Total Observations in Table:  50 \n",
      "\n",
      " \n",
      "             | md3_fit \n",
      "  testLabels |     setosa | versicolor |  virginica |  Row Total | \n",
      "-------------|------------|------------|------------|------------|\n",
      "      setosa |         18 |          0 |          0 |         18 | \n",
      "             |      1.000 |      0.000 |      0.000 |      0.360 | \n",
      "             |      0.360 |      0.000 |      0.000 |            | \n",
      "-------------|------------|------------|------------|------------|\n",
      "  versicolor |          0 |         14 |          0 |         14 | \n",
      "             |      0.000 |      1.000 |      0.000 |      0.280 | \n",
      "             |      0.000 |      0.280 |      0.000 |            | \n",
      "-------------|------------|------------|------------|------------|\n",
      "   virginica |          0 |          1 |         17 |         18 | \n",
      "             |      0.000 |      0.056 |      0.944 |      0.360 | \n",
      "             |      0.000 |      0.020 |      0.340 |            | \n",
      "-------------|------------|------------|------------|------------|\n",
      "Column Total |         18 |         15 |         17 |         50 | \n",
      "-------------|------------|------------|------------|------------|\n",
      "\n",
      " \n"
     ]
    }
   ],
   "source": [
    "CrossTable(x=testLabels, y=md3_fit, prop.chisq=FALSE, prop.c=FALSE)"
   ]
  },
  {
   "cell_type": "code",
   "execution_count": 28,
   "metadata": {},
   "outputs": [],
   "source": [
    "# 정확도 98% 오분류율 2% \n",
    "# iris데이터라서 거리에 가중치를 준것과 주지 않은 것과 별 차이가 없는것으로 나왔는데 현장에서 복잡한 데이터들은 차이가 날 수 있으므로 두가지를 꼭 비교해보길 "
   ]
  },
  {
   "cell_type": "code",
   "execution_count": null,
   "metadata": {},
   "outputs": [],
   "source": []
  }
 ],
 "metadata": {
  "kernelspec": {
   "display_name": "R",
   "language": "R",
   "name": "ir"
  },
  "language_info": {
   "codemirror_mode": "r",
   "file_extension": ".r",
   "mimetype": "text/x-r-source",
   "name": "R",
   "pygments_lexer": "r",
   "version": "3.4.3"
  }
 },
 "nbformat": 4,
 "nbformat_minor": 2
}
