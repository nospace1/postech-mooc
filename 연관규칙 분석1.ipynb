{
 "cells": [
  {
   "cell_type": "markdown",
   "metadata": {},
   "source": [
    "### 지지도 : A와 B를 동시에 포함하는 거래수/ 전체 거래수\n",
    "### 신뢰도 : A와 B를 동시에 포함하는 거래수/ A를 포함하는 거래수\n",
    "### 향상도 : A와 B를 동시에 포함하는 거래수/ (A를 포함하는 거래수 * B를 포함하는 거래수)"
   ]
  },
  {
   "cell_type": "markdown",
   "metadata": {},
   "source": [
    "#### 지지도가 어느 정도 수준에 도달해야만 한다.\n",
    "#### 신뢰도가 높을 경우에는 두 항목 A --> B에서 항목 B의 확률이 커야지 연관규칙이 의미가 있다.\n",
    "#### 향상도가 1보다 큰 값을 주어야 유용한 정보를 준다고 볼 수 있다."
   ]
  },
  {
   "cell_type": "markdown",
   "metadata": {},
   "source": [
    "### 향상도 : A가 거래된 경우, 그 거래가 B를 포함하는 경우와 B가 임의로 거래되는 경우의 비율"
   ]
  },
  {
   "cell_type": "code",
   "execution_count": 1,
   "metadata": {},
   "outputs": [
    {
     "name": "stdout",
     "output_type": "stream",
     "text": [
      "package 'arules' successfully unpacked and MD5 sums checked\n",
      "\n",
      "The downloaded binary packages are in\n",
      "\tC:\\Users\\15U560\\AppData\\Local\\Temp\\RtmpAVzLFS\\downloaded_packages\n"
     ]
    }
   ],
   "source": [
    "install.packages(\"arules\")"
   ]
  },
  {
   "cell_type": "code",
   "execution_count": 36,
   "metadata": {},
   "outputs": [],
   "source": [
    "library(Matrix)\n",
    "library(arules)"
   ]
  },
  {
   "cell_type": "code",
   "execution_count": 7,
   "metadata": {},
   "outputs": [
    {
     "data": {
      "text/html": [
       "<table>\n",
       "<thead><tr><th scope=col>ID</th><th scope=col>Item</th></tr></thead>\n",
       "<tbody>\n",
       "\t<tr><td>1            </td><td>Sixth Sense  </td></tr>\n",
       "\t<tr><td>1            </td><td>LOTR1        </td></tr>\n",
       "\t<tr><td>1            </td><td>Harry Potter1</td></tr>\n",
       "\t<tr><td>1            </td><td>Green Mile   </td></tr>\n",
       "\t<tr><td>1            </td><td>LOTR2        </td></tr>\n",
       "\t<tr><td>2            </td><td>Gladiator    </td></tr>\n",
       "\t<tr><td>2            </td><td>Patriot      </td></tr>\n",
       "\t<tr><td>2            </td><td>Braveheart   </td></tr>\n",
       "\t<tr><td>3            </td><td>LOTR1        </td></tr>\n",
       "\t<tr><td>3            </td><td>LOTR2        </td></tr>\n",
       "</tbody>\n",
       "</table>\n"
      ],
      "text/latex": [
       "\\begin{tabular}{r|ll}\n",
       " ID & Item\\\\\n",
       "\\hline\n",
       "\t 1             & Sixth Sense  \\\\\n",
       "\t 1             & LOTR1        \\\\\n",
       "\t 1             & Harry Potter1\\\\\n",
       "\t 1             & Green Mile   \\\\\n",
       "\t 1             & LOTR2        \\\\\n",
       "\t 2             & Gladiator    \\\\\n",
       "\t 2             & Patriot      \\\\\n",
       "\t 2             & Braveheart   \\\\\n",
       "\t 3             & LOTR1        \\\\\n",
       "\t 3             & LOTR2        \\\\\n",
       "\\end{tabular}\n"
      ],
      "text/markdown": [
       "\n",
       "ID | Item | \n",
       "|---|---|---|---|---|---|---|---|---|---|\n",
       "| 1             | Sixth Sense   | \n",
       "| 1             | LOTR1         | \n",
       "| 1             | Harry Potter1 | \n",
       "| 1             | Green Mile    | \n",
       "| 1             | LOTR2         | \n",
       "| 2             | Gladiator     | \n",
       "| 2             | Patriot       | \n",
       "| 2             | Braveheart    | \n",
       "| 3             | LOTR1         | \n",
       "| 3             | LOTR2         | \n",
       "\n",
       "\n"
      ],
      "text/plain": [
       "   ID Item         \n",
       "1  1  Sixth Sense  \n",
       "2  1  LOTR1        \n",
       "3  1  Harry Potter1\n",
       "4  1  Green Mile   \n",
       "5  1  LOTR2        \n",
       "6  2  Gladiator    \n",
       "7  2  Patriot      \n",
       "8  2  Braveheart   \n",
       "9  3  LOTR1        \n",
       "10 3  LOTR2        "
      ]
     },
     "metadata": {},
     "output_type": "display_data"
    }
   ],
   "source": [
    "dvd1 <- read.csv('dvdtrans.csv')\n",
    "head(dvd1,10)"
   ]
  },
  {
   "cell_type": "markdown",
   "metadata": {},
   "source": [
    "### split을 통해 id별로 item들을 as 함수를 통해 transaction 데이터로 변환"
   ]
  },
  {
   "cell_type": "code",
   "execution_count": 16,
   "metadata": {},
   "outputs": [
    {
     "data": {
      "text/html": [
       "<dl>\n",
       "\t<dt>$`1`</dt>\n",
       "\t\t<dd><ol class=list-inline>\n",
       "\t<li>Sixth Sense</li>\n",
       "\t<li>LOTR1</li>\n",
       "\t<li>Harry Potter1</li>\n",
       "\t<li>Green Mile</li>\n",
       "\t<li>LOTR2</li>\n",
       "</ol>\n",
       "</dd>\n",
       "\t<dt>$`2`</dt>\n",
       "\t\t<dd><ol class=list-inline>\n",
       "\t<li>Gladiator</li>\n",
       "\t<li>Patriot</li>\n",
       "\t<li>Braveheart</li>\n",
       "</ol>\n",
       "</dd>\n",
       "\t<dt>$`3`</dt>\n",
       "\t\t<dd><ol class=list-inline>\n",
       "\t<li>LOTR1</li>\n",
       "\t<li>LOTR2</li>\n",
       "</ol>\n",
       "</dd>\n",
       "\t<dt>$`4`</dt>\n",
       "\t\t<dd><ol class=list-inline>\n",
       "\t<li>Gladiator</li>\n",
       "\t<li>Patriot</li>\n",
       "\t<li>Sixth Sense</li>\n",
       "</ol>\n",
       "</dd>\n",
       "\t<dt>$`5`</dt>\n",
       "\t\t<dd><ol class=list-inline>\n",
       "\t<li>Gladiator</li>\n",
       "\t<li>Patriot</li>\n",
       "\t<li>Sixth Sense</li>\n",
       "</ol>\n",
       "</dd>\n",
       "\t<dt>$`6`</dt>\n",
       "\t\t<dd><ol class=list-inline>\n",
       "\t<li>Gladiator</li>\n",
       "\t<li>Patriot</li>\n",
       "\t<li>Sixth Sense</li>\n",
       "</ol>\n",
       "</dd>\n",
       "</dl>\n"
      ],
      "text/latex": [
       "\\begin{description}\n",
       "\\item[\\$`1`] \\begin{enumerate*}\n",
       "\\item Sixth Sense\n",
       "\\item LOTR1\n",
       "\\item Harry Potter1\n",
       "\\item Green Mile\n",
       "\\item LOTR2\n",
       "\\end{enumerate*}\n",
       "\n",
       "\\item[\\$`2`] \\begin{enumerate*}\n",
       "\\item Gladiator\n",
       "\\item Patriot\n",
       "\\item Braveheart\n",
       "\\end{enumerate*}\n",
       "\n",
       "\\item[\\$`3`] \\begin{enumerate*}\n",
       "\\item LOTR1\n",
       "\\item LOTR2\n",
       "\\end{enumerate*}\n",
       "\n",
       "\\item[\\$`4`] \\begin{enumerate*}\n",
       "\\item Gladiator\n",
       "\\item Patriot\n",
       "\\item Sixth Sense\n",
       "\\end{enumerate*}\n",
       "\n",
       "\\item[\\$`5`] \\begin{enumerate*}\n",
       "\\item Gladiator\n",
       "\\item Patriot\n",
       "\\item Sixth Sense\n",
       "\\end{enumerate*}\n",
       "\n",
       "\\item[\\$`6`] \\begin{enumerate*}\n",
       "\\item Gladiator\n",
       "\\item Patriot\n",
       "\\item Sixth Sense\n",
       "\\end{enumerate*}\n",
       "\n",
       "\\end{description}\n"
      ],
      "text/markdown": [
       "$`1`\n",
       ":   1. Sixth Sense\n",
       "2. LOTR1\n",
       "3. Harry Potter1\n",
       "4. Green Mile\n",
       "5. LOTR2\n",
       "\n",
       "\n",
       "\n",
       "$`2`\n",
       ":   1. Gladiator\n",
       "2. Patriot\n",
       "3. Braveheart\n",
       "\n",
       "\n",
       "\n",
       "$`3`\n",
       ":   1. LOTR1\n",
       "2. LOTR2\n",
       "\n",
       "\n",
       "\n",
       "$`4`\n",
       ":   1. Gladiator\n",
       "2. Patriot\n",
       "3. Sixth Sense\n",
       "\n",
       "\n",
       "\n",
       "$`5`\n",
       ":   1. Gladiator\n",
       "2. Patriot\n",
       "3. Sixth Sense\n",
       "\n",
       "\n",
       "\n",
       "$`6`\n",
       ":   1. Gladiator\n",
       "2. Patriot\n",
       "3. Sixth Sense\n",
       "\n",
       "\n",
       "\n",
       "\n",
       "\n"
      ],
      "text/plain": [
       "$`1`\n",
       "[1] Sixth Sense   LOTR1         Harry Potter1 Green Mile    LOTR2        \n",
       "10 Levels: Braveheart Gladiator Green Mile Harry Potter1 Harry Potter2 ... Sixth Sense\n",
       "\n",
       "$`2`\n",
       "[1] Gladiator  Patriot    Braveheart\n",
       "10 Levels: Braveheart Gladiator Green Mile Harry Potter1 Harry Potter2 ... Sixth Sense\n",
       "\n",
       "$`3`\n",
       "[1] LOTR1 LOTR2\n",
       "10 Levels: Braveheart Gladiator Green Mile Harry Potter1 Harry Potter2 ... Sixth Sense\n",
       "\n",
       "$`4`\n",
       "[1] Gladiator   Patriot     Sixth Sense\n",
       "10 Levels: Braveheart Gladiator Green Mile Harry Potter1 Harry Potter2 ... Sixth Sense\n",
       "\n",
       "$`5`\n",
       "[1] Gladiator   Patriot     Sixth Sense\n",
       "10 Levels: Braveheart Gladiator Green Mile Harry Potter1 Harry Potter2 ... Sixth Sense\n",
       "\n",
       "$`6`\n",
       "[1] Gladiator   Patriot     Sixth Sense\n",
       "10 Levels: Braveheart Gladiator Green Mile Harry Potter1 Harry Potter2 ... Sixth Sense\n"
      ]
     },
     "metadata": {},
     "output_type": "display_data"
    }
   ],
   "source": [
    "dvd.list <- split(dvd1$Item, dvd1$ID)\n",
    "head(dvd.list)"
   ]
  },
  {
   "cell_type": "code",
   "execution_count": 14,
   "metadata": {},
   "outputs": [
    {
     "data": {
      "text/html": [
       "<ol class=list-inline>\n",
       "\t<li>Sixth Sense</li>\n",
       "\t<li>LOTR1</li>\n",
       "\t<li>Harry Potter1</li>\n",
       "\t<li>Green Mile</li>\n",
       "\t<li>LOTR2</li>\n",
       "\t<li>Gladiator</li>\n",
       "\t<li>Patriot</li>\n",
       "\t<li>Braveheart</li>\n",
       "\t<li>LOTR1</li>\n",
       "\t<li>LOTR2</li>\n",
       "\t<li>Gladiator</li>\n",
       "\t<li>Patriot</li>\n",
       "\t<li>Sixth Sense</li>\n",
       "\t<li>Gladiator</li>\n",
       "\t<li>Patriot</li>\n",
       "\t<li>Sixth Sense</li>\n",
       "\t<li>Gladiator</li>\n",
       "\t<li>Patriot</li>\n",
       "\t<li>Sixth Sense</li>\n",
       "\t<li>Harry Potter1</li>\n",
       "\t<li>Harry Potter2</li>\n",
       "\t<li>Gladiator</li>\n",
       "\t<li>Patriot</li>\n",
       "\t<li>Gladiator</li>\n",
       "\t<li>Patriot</li>\n",
       "\t<li>Sixth Sense</li>\n",
       "\t<li>Sixth Sense</li>\n",
       "\t<li>LOTR</li>\n",
       "\t<li>Gladiator</li>\n",
       "\t<li>Green Mile</li>\n",
       "</ol>\n"
      ],
      "text/latex": [
       "\\begin{enumerate*}\n",
       "\\item Sixth Sense\n",
       "\\item LOTR1\n",
       "\\item Harry Potter1\n",
       "\\item Green Mile\n",
       "\\item LOTR2\n",
       "\\item Gladiator\n",
       "\\item Patriot\n",
       "\\item Braveheart\n",
       "\\item LOTR1\n",
       "\\item LOTR2\n",
       "\\item Gladiator\n",
       "\\item Patriot\n",
       "\\item Sixth Sense\n",
       "\\item Gladiator\n",
       "\\item Patriot\n",
       "\\item Sixth Sense\n",
       "\\item Gladiator\n",
       "\\item Patriot\n",
       "\\item Sixth Sense\n",
       "\\item Harry Potter1\n",
       "\\item Harry Potter2\n",
       "\\item Gladiator\n",
       "\\item Patriot\n",
       "\\item Gladiator\n",
       "\\item Patriot\n",
       "\\item Sixth Sense\n",
       "\\item Sixth Sense\n",
       "\\item LOTR\n",
       "\\item Gladiator\n",
       "\\item Green Mile\n",
       "\\end{enumerate*}\n"
      ],
      "text/markdown": [
       "1. Sixth Sense\n",
       "2. LOTR1\n",
       "3. Harry Potter1\n",
       "4. Green Mile\n",
       "5. LOTR2\n",
       "6. Gladiator\n",
       "7. Patriot\n",
       "8. Braveheart\n",
       "9. LOTR1\n",
       "10. LOTR2\n",
       "11. Gladiator\n",
       "12. Patriot\n",
       "13. Sixth Sense\n",
       "14. Gladiator\n",
       "15. Patriot\n",
       "16. Sixth Sense\n",
       "17. Gladiator\n",
       "18. Patriot\n",
       "19. Sixth Sense\n",
       "20. Harry Potter1\n",
       "21. Harry Potter2\n",
       "22. Gladiator\n",
       "23. Patriot\n",
       "24. Gladiator\n",
       "25. Patriot\n",
       "26. Sixth Sense\n",
       "27. Sixth Sense\n",
       "28. LOTR\n",
       "29. Gladiator\n",
       "30. Green Mile\n",
       "\n",
       "\n"
      ],
      "text/plain": [
       " [1] Sixth Sense   LOTR1         Harry Potter1 Green Mile    LOTR2        \n",
       " [6] Gladiator     Patriot       Braveheart    LOTR1         LOTR2        \n",
       "[11] Gladiator     Patriot       Sixth Sense   Gladiator     Patriot      \n",
       "[16] Sixth Sense   Gladiator     Patriot       Sixth Sense   Harry Potter1\n",
       "[21] Harry Potter2 Gladiator     Patriot       Gladiator     Patriot      \n",
       "[26] Sixth Sense   Sixth Sense   LOTR          Gladiator     Green Mile   \n",
       "10 Levels: Braveheart Gladiator Green Mile Harry Potter1 Harry Potter2 ... Sixth Sense"
      ]
     },
     "metadata": {},
     "output_type": "display_data"
    },
    {
     "data": {
      "text/html": [
       "<ol class=list-inline>\n",
       "\t<li>1</li>\n",
       "\t<li>1</li>\n",
       "\t<li>1</li>\n",
       "\t<li>1</li>\n",
       "\t<li>1</li>\n",
       "\t<li>2</li>\n",
       "\t<li>2</li>\n",
       "\t<li>2</li>\n",
       "\t<li>3</li>\n",
       "\t<li>3</li>\n",
       "\t<li>4</li>\n",
       "\t<li>4</li>\n",
       "\t<li>4</li>\n",
       "\t<li>5</li>\n",
       "\t<li>5</li>\n",
       "\t<li>5</li>\n",
       "\t<li>6</li>\n",
       "\t<li>6</li>\n",
       "\t<li>6</li>\n",
       "\t<li>7</li>\n",
       "\t<li>7</li>\n",
       "\t<li>8</li>\n",
       "\t<li>8</li>\n",
       "\t<li>9</li>\n",
       "\t<li>9</li>\n",
       "\t<li>9</li>\n",
       "\t<li>10</li>\n",
       "\t<li>10</li>\n",
       "\t<li>10</li>\n",
       "\t<li>10</li>\n",
       "</ol>\n"
      ],
      "text/latex": [
       "\\begin{enumerate*}\n",
       "\\item 1\n",
       "\\item 1\n",
       "\\item 1\n",
       "\\item 1\n",
       "\\item 1\n",
       "\\item 2\n",
       "\\item 2\n",
       "\\item 2\n",
       "\\item 3\n",
       "\\item 3\n",
       "\\item 4\n",
       "\\item 4\n",
       "\\item 4\n",
       "\\item 5\n",
       "\\item 5\n",
       "\\item 5\n",
       "\\item 6\n",
       "\\item 6\n",
       "\\item 6\n",
       "\\item 7\n",
       "\\item 7\n",
       "\\item 8\n",
       "\\item 8\n",
       "\\item 9\n",
       "\\item 9\n",
       "\\item 9\n",
       "\\item 10\n",
       "\\item 10\n",
       "\\item 10\n",
       "\\item 10\n",
       "\\end{enumerate*}\n"
      ],
      "text/markdown": [
       "1. 1\n",
       "2. 1\n",
       "3. 1\n",
       "4. 1\n",
       "5. 1\n",
       "6. 2\n",
       "7. 2\n",
       "8. 2\n",
       "9. 3\n",
       "10. 3\n",
       "11. 4\n",
       "12. 4\n",
       "13. 4\n",
       "14. 5\n",
       "15. 5\n",
       "16. 5\n",
       "17. 6\n",
       "18. 6\n",
       "19. 6\n",
       "20. 7\n",
       "21. 7\n",
       "22. 8\n",
       "23. 8\n",
       "24. 9\n",
       "25. 9\n",
       "26. 9\n",
       "27. 10\n",
       "28. 10\n",
       "29. 10\n",
       "30. 10\n",
       "\n",
       "\n"
      ],
      "text/plain": [
       " [1]  1  1  1  1  1  2  2  2  3  3  4  4  4  5  5  5  6  6  6  7  7  8  8  9  9\n",
       "[26]  9 10 10 10 10"
      ]
     },
     "metadata": {},
     "output_type": "display_data"
    }
   ],
   "source": [
    "dvd1$Item; dvd1$ID"
   ]
  },
  {
   "cell_type": "markdown",
   "metadata": {},
   "source": [
    "### as()함수를 이용하면 해당 데이터 구조를 정해진 클래스 데이터로 변환 가능하다."
   ]
  },
  {
   "cell_type": "code",
   "execution_count": 5,
   "metadata": {},
   "outputs": [
    {
     "data": {
      "text/plain": [
       "transactions in sparse format with\n",
       " 10 transactions (rows) and\n",
       " 10 items (columns)"
      ]
     },
     "metadata": {},
     "output_type": "display_data"
    }
   ],
   "source": [
    "dvd.trans <- as(dvd.list, 'transactions')\n",
    "dvd.trans"
   ]
  },
  {
   "cell_type": "code",
   "execution_count": 6,
   "metadata": {},
   "outputs": [
    {
     "name": "stdout",
     "output_type": "stream",
     "text": [
      "     items                                              transactionID\n",
      "[1]  {Green Mile,Harry Potter1,LOTR1,LOTR2,Sixth Sense} 1            \n",
      "[2]  {Braveheart,Gladiator,Patriot}                     2            \n",
      "[3]  {LOTR1,LOTR2}                                      3            \n",
      "[4]  {Gladiator,Patriot,Sixth Sense}                    4            \n",
      "[5]  {Gladiator,Patriot,Sixth Sense}                    5            \n",
      "[6]  {Gladiator,Patriot,Sixth Sense}                    6            \n",
      "[7]  {Harry Potter1,Harry Potter2}                      7            \n",
      "[8]  {Gladiator,Patriot}                                8            \n",
      "[9]  {Gladiator,Patriot,Sixth Sense}                    9            \n",
      "[10] {Gladiator,Green Mile,LOTR,Sixth Sense}            10           \n"
     ]
    }
   ],
   "source": [
    "inspect(dvd.trans)"
   ]
  },
  {
   "cell_type": "markdown",
   "metadata": {},
   "source": [
    "### id별로 item이 묶인것을 확인할 수 있다."
   ]
  },
  {
   "cell_type": "code",
   "execution_count": 8,
   "metadata": {},
   "outputs": [
    {
     "data": {
      "text/plain": [
       "transactions as itemMatrix in sparse format with\n",
       " 10 rows (elements/itemsets/transactions) and\n",
       " 10 columns (items) and a density of 0.3 \n",
       "\n",
       "most frequent items:\n",
       "    Gladiator       Patriot   Sixth Sense    Green Mile Harry Potter1 \n",
       "            7             6             6             2             2 \n",
       "      (Other) \n",
       "            7 \n",
       "\n",
       "element (itemset/transaction) length distribution:\n",
       "sizes\n",
       "2 3 4 5 \n",
       "3 5 1 1 \n",
       "\n",
       "   Min. 1st Qu.  Median    Mean 3rd Qu.    Max. \n",
       "   2.00    2.25    3.00    3.00    3.00    5.00 \n",
       "\n",
       "includes extended item information - examples:\n",
       "      labels\n",
       "1 Braveheart\n",
       "2  Gladiator\n",
       "3 Green Mile\n",
       "\n",
       "includes extended transaction information - examples:\n",
       "  transactionID\n",
       "1             1\n",
       "2             2\n",
       "3             3"
      ]
     },
     "metadata": {},
     "output_type": "display_data"
    }
   ],
   "source": [
    "summary(dvd.trans)"
   ]
  },
  {
   "cell_type": "markdown",
   "metadata": {},
   "source": [
    "### 밀도가 0.3라고 되어 있는데, 10*10 cell중에서 30%의 cell에 거래가 발생해 데이터가 있다는 뜻"
   ]
  },
  {
   "cell_type": "code",
   "execution_count": 19,
   "metadata": {},
   "outputs": [
    {
     "name": "stdout",
     "output_type": "stream",
     "text": [
      "'data.frame':\t30 obs. of  2 variables:\n",
      " $ ID  : int  1 1 1 1 1 2 2 2 3 3 ...\n",
      " $ Item: Factor w/ 10 levels \"Braveheart\",\"Gladiator\",..: 10 7 4 3 8 2 9 1 7 8 ...\n"
     ]
    }
   ],
   "source": [
    "str(dvd1)"
   ]
  },
  {
   "cell_type": "markdown",
   "metadata": {},
   "source": [
    "### 연관규칙 함수 : apriori(transaction, parameter= list(support=0.0#, confidence=0.##))"
   ]
  },
  {
   "cell_type": "code",
   "execution_count": 23,
   "metadata": {},
   "outputs": [
    {
     "name": "stdout",
     "output_type": "stream",
     "text": [
      "Apriori\n",
      "\n",
      "Parameter specification:\n",
      " confidence minval smax arem  aval originalSupport maxtime support minlen\n",
      "        0.2    0.1    1 none FALSE            TRUE       5     0.2      2\n",
      " maxlen target   ext\n",
      "     10  rules FALSE\n",
      "\n",
      "Algorithmic control:\n",
      " filter tree heap memopt load sort verbose\n",
      "    0.1 TRUE TRUE  FALSE TRUE    2    TRUE\n",
      "\n",
      "Absolute minimum support count: 2 \n",
      "\n",
      "set item appearances ...[0 item(s)] done [0.00s].\n",
      "set transactions ...[10 item(s), 10 transaction(s)] done [0.00s].\n",
      "sorting and recoding items ... [7 item(s)] done [0.00s].\n",
      "creating transaction tree ... done [0.00s].\n",
      "checking subsets of size 1 2 3 done [0.00s].\n",
      "writing ... [13 rule(s)] done [0.00s].\n",
      "creating S4 object  ... done [0.00s].\n"
     ]
    }
   ],
   "source": [
    "dvd_rule <- apriori(dvd.trans, parameter = list(support=0.2, confidence= 0.20, minlen= 2))"
   ]
  },
  {
   "cell_type": "markdown",
   "metadata": {},
   "source": [
    "### minlen=2란 두개의 물건을 동시에 구매한것을 고려한것"
   ]
  },
  {
   "cell_type": "code",
   "execution_count": 38,
   "metadata": {},
   "outputs": [
    {
     "data": {
      "text/plain": [
       "set of 13 rules "
      ]
     },
     "metadata": {},
     "output_type": "display_data"
    }
   ],
   "source": [
    "dvd_rule "
   ]
  },
  {
   "cell_type": "markdown",
   "metadata": {},
   "source": [
    "### support= 0.2, confidence= 0.2 이상인 13개의 연관규칙 생성됨"
   ]
  },
  {
   "cell_type": "code",
   "execution_count": 24,
   "metadata": {},
   "outputs": [
    {
     "name": "stdout",
     "output_type": "stream",
     "text": [
      "     lhs                        rhs           support confidence lift    \n",
      "[1]  {LOTR1}                 => {LOTR2}       0.2     1.0000000  5.000000\n",
      "[2]  {LOTR2}                 => {LOTR1}       0.2     1.0000000  5.000000\n",
      "[3]  {Green Mile}            => {Sixth Sense} 0.2     1.0000000  1.666667\n",
      "[4]  {Sixth Sense}           => {Green Mile}  0.2     0.3333333  1.666667\n",
      "[5]  {Patriot}               => {Sixth Sense} 0.4     0.6666667  1.111111\n",
      "[6]  {Sixth Sense}           => {Patriot}     0.4     0.6666667  1.111111\n",
      "[7]  {Patriot}               => {Gladiator}   0.6     1.0000000  1.428571\n",
      "[8]  {Gladiator}             => {Patriot}     0.6     0.8571429  1.428571\n",
      "[9]  {Sixth Sense}           => {Gladiator}   0.5     0.8333333  1.190476\n",
      "[10] {Gladiator}             => {Sixth Sense} 0.5     0.7142857  1.190476\n",
      "[11] {Patriot,Sixth Sense}   => {Gladiator}   0.4     1.0000000  1.428571\n",
      "[12] {Gladiator,Patriot}     => {Sixth Sense} 0.4     0.6666667  1.111111\n",
      "[13] {Gladiator,Sixth Sense} => {Patriot}     0.4     0.8000000  1.333333\n"
     ]
    }
   ],
   "source": [
    "inspect(dvd_rule)"
   ]
  },
  {
   "cell_type": "markdown",
   "metadata": {},
   "source": [
    "#### 3번의 경우\n",
    "#### 지지도: Green Mile과 Six Sense를 동시에 구매할 확률: 20%\n",
    "#### 신뢰도: Green Mile을 구매한 경우는 모두 Sixth Sense를 구매: 100%\n",
    "#### 향상도: Green Mile을 구매하면 Six Sense의 구매비율이 1.667배 향상됨을 의미"
   ]
  }
 ],
 "metadata": {
  "kernelspec": {
   "display_name": "R",
   "language": "R",
   "name": "ir"
  },
  "language_info": {
   "codemirror_mode": "r",
   "file_extension": ".r",
   "mimetype": "text/x-r-source",
   "name": "R",
   "pygments_lexer": "r",
   "version": "3.4.3"
  },
  "varInspector": {
   "cols": {
    "lenName": 16,
    "lenType": 16,
    "lenVar": 40
   },
   "kernels_config": {
    "python": {
     "delete_cmd_postfix": "",
     "delete_cmd_prefix": "del ",
     "library": "var_list.py",
     "varRefreshCmd": "print(var_dic_list())"
    },
    "r": {
     "delete_cmd_postfix": ") ",
     "delete_cmd_prefix": "rm(",
     "library": "var_list.r",
     "varRefreshCmd": "cat(var_dic_list()) "
    }
   },
   "types_to_exclude": [
    "module",
    "function",
    "builtin_function_or_method",
    "instance",
    "_Feature"
   ],
   "window_display": false
  }
 },
 "nbformat": 4,
 "nbformat_minor": 2
}
