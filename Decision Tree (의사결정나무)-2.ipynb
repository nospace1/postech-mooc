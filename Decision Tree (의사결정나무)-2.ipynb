{
 "cells": [
  {
   "cell_type": "markdown",
   "metadata": {},
   "source": [
    "## 1. tree\n",
    "## 2. rpart\n",
    "## 3. party"
   ]
  },
  {
   "cell_type": "code",
   "execution_count": 3,
   "metadata": {},
   "outputs": [
    {
     "name": "stdout",
     "output_type": "stream",
     "text": [
      "package 'rpart' successfully unpacked and MD5 sums checked\n",
      "package 'survival' successfully unpacked and MD5 sums checked\n",
      "\n",
      "The downloaded binary packages are in\n",
      "\tC:\\Users\\15U560\\AppData\\Local\\Temp\\RtmpukQlAq\\downloaded_packages\n"
     ]
    }
   ],
   "source": [
    "install.packages(c('rpart', 'survival'))"
   ]
  },
  {
   "cell_type": "code",
   "execution_count": 5,
   "metadata": {},
   "outputs": [
    {
     "name": "stderr",
     "output_type": "stream",
     "text": [
      "Warning message:\n",
      "\"package 'party' is in use and will not be installed\""
     ]
    }
   ],
   "source": [
    "install.packages('party')"
   ]
  },
  {
   "cell_type": "code",
   "execution_count": 1,
   "metadata": {},
   "outputs": [
    {
     "name": "stderr",
     "output_type": "stream",
     "text": [
      "Loading required package: grid\n",
      "Loading required package: mvtnorm\n",
      "Loading required package: modeltools\n",
      "Loading required package: stats4\n",
      "Loading required package: strucchange\n",
      "Loading required package: zoo\n",
      "\n",
      "Attaching package: 'zoo'\n",
      "\n",
      "The following objects are masked from 'package:base':\n",
      "\n",
      "    as.Date, as.Date.numeric\n",
      "\n",
      "Loading required package: sandwich\n",
      "Loading required package: lattice\n",
      "Loading required package: ggplot2\n"
     ]
    }
   ],
   "source": [
    "library(rpart)\n",
    "library(party)\n",
    "library(caret)"
   ]
  },
  {
   "cell_type": "code",
   "execution_count": 4,
   "metadata": {},
   "outputs": [],
   "source": [
    "set.seed(123)\n",
    "N <- nrow(iris)\n",
    "tr.idx <- sample(1:N, N*2/3)\n",
    "train <- iris[tr.idx, ]\n",
    "test <- iris[-tr.idx, ]"
   ]
  },
  {
   "cell_type": "code",
   "execution_count": 5,
   "metadata": {},
   "outputs": [
    {
     "data": {
      "image/png": "[encoded data removed]",
      "text/plain": [
       "plot without title"
      ]
     },
     "metadata": {},
     "output_type": "display_data"
    }
   ],
   "source": [
    "cl1 <- rpart(Species ~., train)\n",
    "plot(cl1)\n",
    "text(cl1, cex=1)"
   ]
  },
  {
   "cell_type": "markdown",
   "metadata": {},
   "source": [
    "### repart 함수는 가지치기를 해서 나온 결과\n",
    "    * 데이터에 따라 부가적인 가지치기가 필요할 수도 있음\n",
    "    * tree패키지에서 pruning한 결과와 동일"
   ]
  },
  {
   "cell_type": "markdown",
   "metadata": {},
   "source": [
    "### repart 패키지는 과적합의 우려가 있으므로 pruning을 해줘야 함"
   ]
  },
  {
   "cell_type": "code",
   "execution_count": 6,
   "metadata": {},
   "outputs": [
    {
     "name": "stdout",
     "output_type": "stream",
     "text": [
      "\n",
      "Classification tree:\n",
      "rpart(formula = Species ~ ., data = train)\n",
      "\n",
      "Variables actually used in tree construction:\n",
      "[1] Petal.Length\n",
      "\n",
      "Root node error: 64/100 = 0.64\n",
      "\n",
      "n= 100 \n",
      "\n",
      "       CP nsplit rel error   xerror     xstd\n",
      "1 0.51562      0  1.000000 1.125000 0.070156\n",
      "2 0.43750      1  0.484375 0.578125 0.075438\n",
      "3 0.01000      2  0.046875 0.078125 0.034054\n"
     ]
    }
   ],
   "source": [
    "printcp(cl1)"
   ]
  },
  {
   "cell_type": "markdown",
   "metadata": {},
   "source": [
    "### xerror(cross validation error)가 최소가 되는 node의 값을 정함\n",
    "### nsplit(number of split) --> 2번째 split까지 사용하는게 최적이다."
   ]
  },
  {
   "cell_type": "code",
   "execution_count": 7,
   "metadata": {},
   "outputs": [
    {
     "data": {
      "image/png": "[encoded data removed]",
      "text/plain": [
       "plot without title"
      ]
     },
     "metadata": {},
     "output_type": "display_data"
    }
   ],
   "source": [
    "plotcp(cl1)"
   ]
  },
  {
   "cell_type": "markdown",
   "metadata": {},
   "source": [
    "## rpart를 사용한 최종 tree 모형 "
   ]
  },
  {
   "cell_type": "code",
   "execution_count": 12,
   "metadata": {
    "scrolled": false
   },
   "outputs": [
    {
     "data": {
      "image/png": "[encoded data removed]",
      "text/plain": [
       "plot without title"
      ]
     },
     "metadata": {},
     "output_type": "display_data"
    }
   ],
   "source": [
    "pcl1 <- prune(cl1, cp=cl1$cptable[which.min(cl1$cptable[,'xerror']), 'CP'])\n",
    "plot(pcl1)\n",
    "text(pcl1)"
   ]
  },
  {
   "cell_type": "code",
   "execution_count": 13,
   "metadata": {},
   "outputs": [
    {
     "data": {
      "text/plain": [
       "Confusion Matrix and Statistics\n",
       "\n",
       "            Reference\n",
       "Prediction   setosa versicolor virginica\n",
       "  setosa         14          0         0\n",
       "  versicolor      0         16         1\n",
       "  virginica       0          3        16\n",
       "\n",
       "Overall Statistics\n",
       "                                          \n",
       "               Accuracy : 0.92            \n",
       "                 95% CI : (0.8077, 0.9778)\n",
       "    No Information Rate : 0.38            \n",
       "    P-Value [Acc > NIR] : 1.678e-15       \n",
       "                                          \n",
       "                  Kappa : 0.8794          \n",
       " Mcnemar's Test P-Value : NA              \n",
       "\n",
       "Statistics by Class:\n",
       "\n",
       "                     Class: setosa Class: versicolor Class: virginica\n",
       "Sensitivity                   1.00            0.8421           0.9412\n",
       "Specificity                   1.00            0.9677           0.9091\n",
       "Pos Pred Value                1.00            0.9412           0.8421\n",
       "Neg Pred Value                1.00            0.9091           0.9677\n",
       "Prevalence                    0.28            0.3800           0.3400\n",
       "Detection Rate                0.28            0.3200           0.3200\n",
       "Detection Prevalence          0.28            0.3400           0.3800\n",
       "Balanced Accuracy             1.00            0.9049           0.9251"
      ]
     },
     "metadata": {},
     "output_type": "display_data"
    }
   ],
   "source": [
    "pred2 <- predict(cl1, test, type='class')\n",
    "confusionMatrix(pred2, test$Species)"
   ]
  },
  {
   "cell_type": "markdown",
   "metadata": {},
   "source": [
    "### iris데이터는 방법론 별로 변동성이 적다. 조금 복잡한 데이터를 가지고 하면 방법마다 다른걸 알 수 있다."
   ]
  },
  {
   "cell_type": "markdown",
   "metadata": {},
   "source": [
    "### party 패키지 - ctree (의사결정나무 함수)"
   ]
  },
  {
   "cell_type": "code",
   "execution_count": 14,
   "metadata": {},
   "outputs": [
    {
     "data": {
      "image/png": "[encoded data removed]",
      "text/plain": [
       "plot without title"
      ]
     },
     "metadata": {},
     "output_type": "display_data"
    }
   ],
   "source": [
    "partymod <- ctree(Species ~., train)\n",
    "plot(partymod)"
   ]
  },
  {
   "cell_type": "code",
   "execution_count": 15,
   "metadata": {},
   "outputs": [
    {
     "data": {
      "text/plain": [
       "\n",
       "\t Conditional inference tree with 4 terminal nodes\n",
       "\n",
       "Response:  Species \n",
       "Inputs:  Sepal.Length, Sepal.Width, Petal.Length, Petal.Width \n",
       "Number of observations:  100 \n",
       "\n",
       "1) Petal.Length <= 1.9; criterion = 1, statistic = 93.139\n",
       "  2)*  weights = 36 \n",
       "1) Petal.Length > 1.9\n",
       "  3) Petal.Width <= 1.6; criterion = 1, statistic = 42.038\n",
       "    4) Petal.Length <= 4.6; criterion = 0.999, statistic = 14.023\n",
       "      5)*  weights = 24 \n",
       "    4) Petal.Length > 4.6\n",
       "      6)*  weights = 9 \n",
       "  3) Petal.Width > 1.6\n",
       "    7)*  weights = 31 "
      ]
     },
     "metadata": {},
     "output_type": "display_data"
    }
   ],
   "source": [
    "partymod"
   ]
  },
  {
   "cell_type": "code",
   "execution_count": 16,
   "metadata": {},
   "outputs": [
    {
     "data": {
      "text/plain": [
       "Confusion Matrix and Statistics\n",
       "\n",
       "            Reference\n",
       "Prediction   setosa versicolor virginica\n",
       "  setosa         14          0         0\n",
       "  versicolor      0         18         1\n",
       "  virginica       0          1        16\n",
       "\n",
       "Overall Statistics\n",
       "                                          \n",
       "               Accuracy : 0.96            \n",
       "                 95% CI : (0.8629, 0.9951)\n",
       "    No Information Rate : 0.38            \n",
       "    P-Value [Acc > NIR] : < 2.2e-16       \n",
       "                                          \n",
       "                  Kappa : 0.9395          \n",
       " Mcnemar's Test P-Value : NA              \n",
       "\n",
       "Statistics by Class:\n",
       "\n",
       "                     Class: setosa Class: versicolor Class: virginica\n",
       "Sensitivity                   1.00            0.9474           0.9412\n",
       "Specificity                   1.00            0.9677           0.9697\n",
       "Pos Pred Value                1.00            0.9474           0.9412\n",
       "Neg Pred Value                1.00            0.9677           0.9697\n",
       "Prevalence                    0.28            0.3800           0.3400\n",
       "Detection Rate                0.28            0.3600           0.3200\n",
       "Detection Prevalence          0.28            0.3800           0.3400\n",
       "Balanced Accuracy             1.00            0.9576           0.9554"
      ]
     },
     "metadata": {},
     "output_type": "display_data"
    }
   ],
   "source": [
    "partypred <- predict(partymod, test)\n",
    "confusionMatrix(partypred, test$Species)"
   ]
  },
  {
   "cell_type": "code",
   "execution_count": null,
   "metadata": {},
   "outputs": [],
   "source": []
  }
 ],
 "metadata": {
  "kernelspec": {
   "display_name": "R",
   "language": "R",
   "name": "ir"
  },
  "language_info": {
   "codemirror_mode": "r",
   "file_extension": ".r",
   "mimetype": "text/x-r-source",
   "name": "R",
   "pygments_lexer": "r",
   "version": "3.4.3"
  },
  "varInspector": {
   "cols": {
    "lenName": 16,
    "lenType": 16,
    "lenVar": 40
   },
   "kernels_config": {
    "python": {
     "delete_cmd_postfix": "",
     "delete_cmd_prefix": "del ",
     "library": "var_list.py",
     "varRefreshCmd": "print(var_dic_list())"
    },
    "r": {
     "delete_cmd_postfix": ") ",
     "delete_cmd_prefix": "rm(",
     "library": "var_list.r",
     "varRefreshCmd": "cat(var_dic_list()) "
    }
   },
   "types_to_exclude": [
    "module",
    "function",
    "builtin_function_or_method",
    "instance",
    "_Feature"
   ],
   "window_display": false
  }
 },
 "nbformat": 4,
 "nbformat_minor": 2
}
