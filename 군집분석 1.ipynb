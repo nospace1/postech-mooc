{
 "cells": [
  {
   "cell_type": "markdown",
   "metadata": {},
   "source": [
    "## 군집분석 1"
   ]
  },
  {
   "cell_type": "code",
   "execution_count": 2,
   "metadata": {},
   "outputs": [],
   "source": [
    "m1 <- matrix(c(150,50,130,55,80,80,100,85,95,91),\n",
    "            nrow = 5,\n",
    "            ncol = 2,\n",
    "            byrow = TRUE)"
   ]
  },
  {
   "cell_type": "code",
   "execution_count": 3,
   "metadata": {},
   "outputs": [
    {
     "data": {
      "text/html": [
       "<table>\n",
       "<tbody>\n",
       "\t<tr><td>150</td><td>50 </td></tr>\n",
       "\t<tr><td>130</td><td>55 </td></tr>\n",
       "\t<tr><td> 80</td><td>80 </td></tr>\n",
       "\t<tr><td>100</td><td>85 </td></tr>\n",
       "\t<tr><td> 95</td><td>91 </td></tr>\n",
       "</tbody>\n",
       "</table>\n"
      ],
      "text/latex": [
       "\\begin{tabular}{ll}\n",
       "\t 150 & 50 \\\\\n",
       "\t 130 & 55 \\\\\n",
       "\t  80 & 80 \\\\\n",
       "\t 100 & 85 \\\\\n",
       "\t  95 & 91 \\\\\n",
       "\\end{tabular}\n"
      ],
      "text/markdown": [
       "\n",
       "| 150 | 50  | \n",
       "| 130 | 55  | \n",
       "|  80 | 80  | \n",
       "| 100 | 85  | \n",
       "|  95 | 91  | \n",
       "\n",
       "\n"
      ],
      "text/plain": [
       "     [,1] [,2]\n",
       "[1,] 150  50  \n",
       "[2,] 130  55  \n",
       "[3,]  80  80  \n",
       "[4,] 100  85  \n",
       "[5,]  95  91  "
      ]
     },
     "metadata": {},
     "output_type": "display_data"
    }
   ],
   "source": [
    "m1"
   ]
  },
  {
   "cell_type": "code",
   "execution_count": 5,
   "metadata": {},
   "outputs": [
    {
     "data": {
      "text/plain": [
       "         1        2        3        4\n",
       "2 20.61553                           \n",
       "3 76.15773 55.90170                  \n",
       "4 61.03278 42.42641 20.61553         \n",
       "5 68.60029 50.20956 18.60108  7.81025"
      ]
     },
     "metadata": {},
     "output_type": "display_data"
    }
   ],
   "source": [
    "D1 <- dist(m1)\n",
    "D1"
   ]
  },
  {
   "cell_type": "code",
   "execution_count": 6,
   "metadata": {},
   "outputs": [],
   "source": [
    "?dist"
   ]
  },
  {
   "cell_type": "markdown",
   "metadata": {},
   "source": [
    "### dist는 데이터의 거리를 계산하는 함수이다. method의 default값은 유클리디안 거리이다. "
   ]
  },
  {
   "cell_type": "code",
   "execution_count": 8,
   "metadata": {},
   "outputs": [
    {
     "data": {
      "text/plain": [
       "          1         2         3         4\n",
       "2 20.103629                              \n",
       "3 71.790544 52.002096                    \n",
       "4 55.164795 37.797631 20.103629          \n",
       "5 61.735957 44.736068 16.757812  6.986368"
      ]
     },
     "metadata": {},
     "output_type": "display_data"
    }
   ],
   "source": [
    "D2 <- dist(m1, method = 'minkowski', p=3)\n",
    "D2"
   ]
  },
  {
   "cell_type": "code",
   "execution_count": 10,
   "metadata": {},
   "outputs": [
    {
     "data": {
      "text/html": [
       "<table>\n",
       "<thead><tr><th></th><th scope=col>age</th><th scope=col>exp</th><th scope=col>time</th></tr></thead>\n",
       "<tbody>\n",
       "\t<tr><th scope=row>obs1</th><td>20</td><td>6 </td><td>14</td></tr>\n",
       "\t<tr><th scope=row>obs2</th><td>30</td><td>7 </td><td>15</td></tr>\n",
       "\t<tr><th scope=row>obs3</th><td>46</td><td>4 </td><td> 2</td></tr>\n",
       "</tbody>\n",
       "</table>\n"
      ],
      "text/latex": [
       "\\begin{tabular}{r|lll}\n",
       "  & age & exp & time\\\\\n",
       "\\hline\n",
       "\tobs1 & 20 & 6  & 14\\\\\n",
       "\tobs2 & 30 & 7  & 15\\\\\n",
       "\tobs3 & 46 & 4  &  2\\\\\n",
       "\\end{tabular}\n"
      ],
      "text/markdown": [
       "\n",
       "| <!--/--> | age | exp | time | \n",
       "|---|---|---|\n",
       "| obs1 | 20 | 6  | 14 | \n",
       "| obs2 | 30 | 7  | 15 | \n",
       "| obs3 | 46 | 4  |  2 | \n",
       "\n",
       "\n"
      ],
      "text/plain": [
       "     age exp time\n",
       "obs1 20  6   14  \n",
       "obs2 30  7   15  \n",
       "obs3 46  4    2  "
      ]
     },
     "metadata": {},
     "output_type": "display_data"
    }
   ],
   "source": [
    "m2 <- matrix(c(20,6,14,30,7,15,46,4,2),\n",
    "            nrow = 3,\n",
    "            ncol = 3,\n",
    "            byrow = TRUE,\n",
    "            dimnames = list(c('obs1', 'obs2', 'obs3'),\n",
    "                           c('age', 'exp', 'time')))\n",
    "m2"
   ]
  },
  {
   "cell_type": "code",
   "execution_count": 11,
   "metadata": {},
   "outputs": [
    {
     "data": {
      "text/html": [
       "0.967351802779959"
      ],
      "text/latex": [
       "0.967351802779959"
      ],
      "text/markdown": [
       "0.967351802779959"
      ],
      "text/plain": [
       "[1] 0.9673518"
      ]
     },
     "metadata": {},
     "output_type": "display_data"
    }
   ],
   "source": [
    "cor(m2[1,], m2[2,])"
   ]
  },
  {
   "cell_type": "code",
   "execution_count": 12,
   "metadata": {},
   "outputs": [
    {
     "data": {
      "text/html": [
       "0.798408097433438"
      ],
      "text/latex": [
       "0.798408097433438"
      ],
      "text/markdown": [
       "0.798408097433438"
      ],
      "text/plain": [
       "[1] 0.7984081"
      ]
     },
     "metadata": {},
     "output_type": "display_data"
    }
   ],
   "source": [
    "cor(m2[1,], m2[3,])"
   ]
  },
  {
   "cell_type": "markdown",
   "metadata": {},
   "source": [
    "### 객체1(obs1)과 객체2의 유사성이 객체1과 객체3간의 유사성보다 크다 (0.9674 > 0.7984)"
   ]
  }
 ],
 "metadata": {
  "kernelspec": {
   "display_name": "R",
   "language": "R",
   "name": "ir"
  },
  "language_info": {
   "codemirror_mode": "r",
   "file_extension": ".r",
   "mimetype": "text/x-r-source",
   "name": "R",
   "pygments_lexer": "r",
   "version": "3.4.3"
  },
  "varInspector": {
   "cols": {
    "lenName": 16,
    "lenType": 16,
    "lenVar": 40
   },
   "kernels_config": {
    "python": {
     "delete_cmd_postfix": "",
     "delete_cmd_prefix": "del ",
     "library": "var_list.py",
     "varRefreshCmd": "print(var_dic_list())"
    },
    "r": {
     "delete_cmd_postfix": ") ",
     "delete_cmd_prefix": "rm(",
     "library": "var_list.r",
     "varRefreshCmd": "cat(var_dic_list()) "
    }
   },
   "types_to_exclude": [
    "module",
    "function",
    "builtin_function_or_method",
    "instance",
    "_Feature"
   ],
   "window_display": false
  }
 },
 "nbformat": 4,
 "nbformat_minor": 2
}
