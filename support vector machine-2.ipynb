{
 "cells": [
  {
   "cell_type": "markdown",
   "metadata": {},
   "source": [
    "### 커널이란 새로운 공간으로 원래의 x 데이터를 변환해주는 것\n",
    "### 좋은 변환함수란 원래 x 데이터 갖고 있는 정보를 보존하면서 class를 잘 분류할 수 있는 것"
   ]
  },
  {
   "cell_type": "code",
   "execution_count": 2,
   "metadata": {},
   "outputs": [],
   "source": [
    "library(lattice)\n",
    "library(ggplot2)\n",
    "library(e1071)\n",
    "library(caret)\n",
    "# 오분류율 교차표(confusion matrix) 생성을 위한 패키지 : caret"
   ]
  },
  {
   "cell_type": "code",
   "execution_count": 4,
   "metadata": {},
   "outputs": [],
   "source": [
    "iris <- read.csv('iris.csv')"
   ]
  },
  {
   "cell_type": "code",
   "execution_count": 5,
   "metadata": {},
   "outputs": [],
   "source": [
    "set.seed(11)\n",
    "N <- nrow(iris)\n",
    "tr.idx <- sample(1:N, size = N*2/3, replace = FALSE)\n",
    "y <- iris[,5]\n",
    "train <- iris[tr.idx, ]\n",
    "test <- iris[-tr.idx, ]"
   ]
  },
  {
   "cell_type": "code",
   "execution_count": 7,
   "metadata": {},
   "outputs": [
    {
     "data": {
      "text/plain": [
       "\n",
       "Call:\n",
       "svm(formula = Species ~ ., data = train)\n",
       "\n",
       "\n",
       "Parameters:\n",
       "   SVM-Type:  C-classification \n",
       " SVM-Kernel:  radial \n",
       "       cost:  1 \n",
       "      gamma:  0.25 \n",
       "\n",
       "Number of Support Vectors:  39\n",
       "\n",
       " ( 7 17 15 )\n",
       "\n",
       "\n",
       "Number of Classes:  3 \n",
       "\n",
       "Levels: \n",
       " setosa versicolor virginica\n",
       "\n",
       "\n"
      ]
     },
     "metadata": {},
     "output_type": "display_data"
    }
   ],
   "source": [
    "m1 <-svm(Species ~ ., train)\n",
    "summary(m1)"
   ]
  },
  {
   "cell_type": "code",
   "execution_count": 9,
   "metadata": {},
   "outputs": [
    {
     "data": {
      "text/plain": [
       "Confusion Matrix and Statistics\n",
       "\n",
       "            Reference\n",
       "Prediction   setosa versicolor virginica\n",
       "  setosa         14          0         0\n",
       "  versicolor      0         15         1\n",
       "  virginica       0          1        19\n",
       "\n",
       "Overall Statistics\n",
       "                                          \n",
       "               Accuracy : 0.96            \n",
       "                 95% CI : (0.8629, 0.9951)\n",
       "    No Information Rate : 0.4             \n",
       "    P-Value [Acc > NIR] : < 2.2e-16       \n",
       "                                          \n",
       "                  Kappa : 0.9393          \n",
       " Mcnemar's Test P-Value : NA              \n",
       "\n",
       "Statistics by Class:\n",
       "\n",
       "                     Class: setosa Class: versicolor Class: virginica\n",
       "Sensitivity                   1.00            0.9375           0.9500\n",
       "Specificity                   1.00            0.9706           0.9667\n",
       "Pos Pred Value                1.00            0.9375           0.9500\n",
       "Neg Pred Value                1.00            0.9706           0.9667\n",
       "Prevalence                    0.28            0.3200           0.4000\n",
       "Detection Rate                0.28            0.3000           0.3800\n",
       "Detection Prevalence          0.28            0.3200           0.4000\n",
       "Balanced Accuracy             1.00            0.9540           0.9583"
      ]
     },
     "metadata": {},
     "output_type": "display_data"
    }
   ],
   "source": [
    "pred11 <- predict(m1, test)\n",
    "confusionMatrix(pred11, test$Species)"
   ]
  },
  {
   "cell_type": "markdown",
   "metadata": {},
   "source": [
    "### Reference : 실제 범주, Prediction : 예측 범주\n",
    "### accuracy : 0.96"
   ]
  },
  {
   "cell_type": "code",
   "execution_count": 11,
   "metadata": {},
   "outputs": [
    {
     "data": {
      "text/plain": [
       "\n",
       "Call:\n",
       "svm(formula = Species ~ ., data = train, kernel = \"polynomial\")\n",
       "\n",
       "\n",
       "Parameters:\n",
       "   SVM-Type:  C-classification \n",
       " SVM-Kernel:  polynomial \n",
       "       cost:  1 \n",
       "     degree:  3 \n",
       "      gamma:  0.25 \n",
       "     coef.0:  0 \n",
       "\n",
       "Number of Support Vectors:  38\n",
       "\n",
       " ( 5 20 13 )\n",
       "\n",
       "\n",
       "Number of Classes:  3 \n",
       "\n",
       "Levels: \n",
       " setosa versicolor virginica\n",
       "\n",
       "\n"
      ]
     },
     "metadata": {},
     "output_type": "display_data"
    }
   ],
   "source": [
    "m2 <- svm(Species ~ ., train, kernel = 'polynomial')\n",
    "summary(m2)"
   ]
  },
  {
   "cell_type": "code",
   "execution_count": 18,
   "metadata": {},
   "outputs": [
    {
     "data": {
      "text/plain": [
       "Confusion Matrix and Statistics\n",
       "\n",
       "            Reference\n",
       "Prediction   setosa versicolor virginica\n",
       "  setosa         14          0         0\n",
       "  versicolor      0         16         6\n",
       "  virginica       0          0        14\n",
       "\n",
       "Overall Statistics\n",
       "                                          \n",
       "               Accuracy : 0.88            \n",
       "                 95% CI : (0.7569, 0.9547)\n",
       "    No Information Rate : 0.4             \n",
       "    P-Value [Acc > NIR] : 2.514e-12       \n",
       "                                          \n",
       "                  Kappa : 0.8206          \n",
       " Mcnemar's Test P-Value : NA              \n",
       "\n",
       "Statistics by Class:\n",
       "\n",
       "                     Class: setosa Class: versicolor Class: virginica\n",
       "Sensitivity                   1.00            1.0000           0.7000\n",
       "Specificity                   1.00            0.8235           1.0000\n",
       "Pos Pred Value                1.00            0.7273           1.0000\n",
       "Neg Pred Value                1.00            1.0000           0.8333\n",
       "Prevalence                    0.28            0.3200           0.4000\n",
       "Detection Rate                0.28            0.3200           0.2800\n",
       "Detection Prevalence          0.28            0.4400           0.2800\n",
       "Balanced Accuracy             1.00            0.9118           0.8500"
      ]
     },
     "metadata": {},
     "output_type": "display_data"
    }
   ],
   "source": [
    "pred12 <- predict(m2, test)\n",
    "confusionMatrix(pred12, test$Species)"
   ]
  },
  {
   "cell_type": "markdown",
   "metadata": {},
   "source": [
    "### virginica를 cersicolor로 오분류 6개 함. \n",
    "### polynomial의 성능이 낮은 것을 알 수 있다."
   ]
  },
  {
   "cell_type": "code",
   "execution_count": 13,
   "metadata": {},
   "outputs": [
    {
     "data": {
      "text/plain": [
       "\n",
       "Call:\n",
       "svm(formula = Species ~ ., data = train, kernel = \"sigmoid\")\n",
       "\n",
       "\n",
       "Parameters:\n",
       "   SVM-Type:  C-classification \n",
       " SVM-Kernel:  sigmoid \n",
       "       cost:  1 \n",
       "      gamma:  0.25 \n",
       "     coef.0:  0 \n",
       "\n",
       "Number of Support Vectors:  37\n",
       "\n",
       " ( 3 18 16 )\n",
       "\n",
       "\n",
       "Number of Classes:  3 \n",
       "\n",
       "Levels: \n",
       " setosa versicolor virginica\n",
       "\n",
       "\n"
      ]
     },
     "metadata": {},
     "output_type": "display_data"
    }
   ],
   "source": [
    "m3 <- svm(Species ~ ., train, kernel = 'sigmoid')\n",
    "summary(m3)"
   ]
  },
  {
   "cell_type": "code",
   "execution_count": 14,
   "metadata": {},
   "outputs": [
    {
     "data": {
      "text/plain": [
       "Confusion Matrix and Statistics\n",
       "\n",
       "            Reference\n",
       "Prediction   setosa versicolor virginica\n",
       "  setosa         14          0         0\n",
       "  versicolor      0         13         1\n",
       "  virginica       0          3        19\n",
       "\n",
       "Overall Statistics\n",
       "                                          \n",
       "               Accuracy : 0.92            \n",
       "                 95% CI : (0.8077, 0.9778)\n",
       "    No Information Rate : 0.4             \n",
       "    P-Value [Acc > NIR] : 1.565e-14       \n",
       "                                          \n",
       "                  Kappa : 0.878           \n",
       " Mcnemar's Test P-Value : NA              \n",
       "\n",
       "Statistics by Class:\n",
       "\n",
       "                     Class: setosa Class: versicolor Class: virginica\n",
       "Sensitivity                   1.00            0.8125           0.9500\n",
       "Specificity                   1.00            0.9706           0.9000\n",
       "Pos Pred Value                1.00            0.9286           0.8636\n",
       "Neg Pred Value                1.00            0.9167           0.9643\n",
       "Prevalence                    0.28            0.3200           0.4000\n",
       "Detection Rate                0.28            0.2600           0.3800\n",
       "Detection Prevalence          0.28            0.2800           0.4400\n",
       "Balanced Accuracy             1.00            0.8915           0.9250"
      ]
     },
     "metadata": {},
     "output_type": "display_data"
    }
   ],
   "source": [
    "pred13 <- predict(m3, test)\n",
    "confusionMatrix(pred13, test$Species)"
   ]
  },
  {
   "cell_type": "code",
   "execution_count": 16,
   "metadata": {},
   "outputs": [
    {
     "data": {
      "text/plain": [
       "\n",
       "Call:\n",
       "svm(formula = Species ~ ., data = train, kernel = \"linear\")\n",
       "\n",
       "\n",
       "Parameters:\n",
       "   SVM-Type:  C-classification \n",
       " SVM-Kernel:  linear \n",
       "       cost:  1 \n",
       "      gamma:  0.25 \n",
       "\n",
       "Number of Support Vectors:  22\n",
       "\n",
       " ( 2 11 9 )\n",
       "\n",
       "\n",
       "Number of Classes:  3 \n",
       "\n",
       "Levels: \n",
       " setosa versicolor virginica\n",
       "\n",
       "\n"
      ]
     },
     "metadata": {},
     "output_type": "display_data"
    }
   ],
   "source": [
    "m4 <- svm(Species ~ ., train, kernel = 'linear')\n",
    "summary(m4)"
   ]
  },
  {
   "cell_type": "code",
   "execution_count": 17,
   "metadata": {},
   "outputs": [
    {
     "data": {
      "text/plain": [
       "Confusion Matrix and Statistics\n",
       "\n",
       "            Reference\n",
       "Prediction   setosa versicolor virginica\n",
       "  setosa         14          0         0\n",
       "  versicolor      0         15         0\n",
       "  virginica       0          1        20\n",
       "\n",
       "Overall Statistics\n",
       "                                          \n",
       "               Accuracy : 0.98            \n",
       "                 95% CI : (0.8935, 0.9995)\n",
       "    No Information Rate : 0.4             \n",
       "    P-Value [Acc > NIR] : < 2.2e-16       \n",
       "                                          \n",
       "                  Kappa : 0.9696          \n",
       " Mcnemar's Test P-Value : NA              \n",
       "\n",
       "Statistics by Class:\n",
       "\n",
       "                     Class: setosa Class: versicolor Class: virginica\n",
       "Sensitivity                   1.00            0.9375           1.0000\n",
       "Specificity                   1.00            1.0000           0.9667\n",
       "Pos Pred Value                1.00            1.0000           0.9524\n",
       "Neg Pred Value                1.00            0.9714           1.0000\n",
       "Prevalence                    0.28            0.3200           0.4000\n",
       "Detection Rate                0.28            0.3000           0.4000\n",
       "Detection Prevalence          0.28            0.3000           0.4200\n",
       "Balanced Accuracy             1.00            0.9688           0.9833"
      ]
     },
     "metadata": {},
     "output_type": "display_data"
    }
   ],
   "source": [
    "pred14 <- predict(m4, test)\n",
    "confusionMatrix(pred14, test$Species)"
   ]
  },
  {
   "cell_type": "markdown",
   "metadata": {},
   "source": [
    "### linear 함수가 꽤 높은 성능을 보여준다.\n",
    "### 데이터 구조가 단순할땐 충분히 좋은 성능을 얻을 수 있다."
   ]
  }
 ],
 "metadata": {
  "kernelspec": {
   "display_name": "R",
   "language": "R",
   "name": "ir"
  },
  "language_info": {
   "codemirror_mode": "r",
   "file_extension": ".r",
   "mimetype": "text/x-r-source",
   "name": "R",
   "pygments_lexer": "r",
   "version": "3.4.3"
  },
  "varInspector": {
   "cols": {
    "lenName": 16,
    "lenType": 16,
    "lenVar": 40
   },
   "kernels_config": {
    "python": {
     "delete_cmd_postfix": "",
     "delete_cmd_prefix": "del ",
     "library": "var_list.py",
     "varRefreshCmd": "print(var_dic_list())"
    },
    "r": {
     "delete_cmd_postfix": ") ",
     "delete_cmd_prefix": "rm(",
     "library": "var_list.r",
     "varRefreshCmd": "cat(var_dic_list()) "
    }
   },
   "types_to_exclude": [
    "module",
    "function",
    "builtin_function_or_method",
    "instance",
    "_Feature"
   ],
   "window_display": false
  }
 },
 "nbformat": 4,
 "nbformat_minor": 2
}
