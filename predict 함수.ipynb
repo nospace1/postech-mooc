{
 "cells": [
  {
   "cell_type": "markdown",
   "metadata": {},
   "source": [
    "## predict(object, newdata, interval = c(\"none\", \"confidence\", \"prediction\"))"
   ]
  },
  {
   "cell_type": "markdown",
   "metadata": {},
   "source": [
    "### object : 선형 모형 또는 기타 모형 객체\n",
    "### newdata : 예측을 수행할 새로운 데이터. 여기서 조심해야할 부분이 이 데이터의 변수명은 해당 모형의 변수명과 똑같이 설정을 해주셔야 합니다.\n",
    "### interval : 계수에 대한 신뢰구간 또는 예측구간(prediction interval) 출력"
   ]
  },
  {
   "cell_type": "markdown",
   "metadata": {},
   "source": [
    "## 반응변수가 수치일때"
   ]
  },
  {
   "cell_type": "code",
   "execution_count": 52,
   "metadata": {},
   "outputs": [
    {
     "name": "stdout",
     "output_type": "stream",
     "text": [
      "'data.frame':\t50 obs. of  2 variables:\n",
      " $ speed: num  4 4 7 7 8 9 10 10 10 11 ...\n",
      " $ dist : num  2 10 4 22 16 10 18 26 34 17 ...\n"
     ]
    }
   ],
   "source": [
    "str(cars)"
   ]
  },
  {
   "cell_type": "code",
   "execution_count": 53,
   "metadata": {
    "code_folding": []
   },
   "outputs": [],
   "source": [
    "set.seed(111)\n",
    "N = nrow(cars)\n",
    "tr.idx <- sample(1:N, size = N*2/3)\n",
    "train <- cars[tr.idx,]\n",
    "test <- cars[-tr.idx,]"
   ]
  },
  {
   "cell_type": "code",
   "execution_count": 54,
   "metadata": {},
   "outputs": [],
   "source": [
    "m1 = lm(dist ~ speed, train)"
   ]
  },
  {
   "cell_type": "code",
   "execution_count": 55,
   "metadata": {},
   "outputs": [
    {
     "data": {
      "text/html": [
       "<dl class=dl-horizontal>\n",
       "\t<dt>5</dt>\n",
       "\t\t<dd>13.6640998554431</dd>\n",
       "\t<dt>8</dt>\n",
       "\t\t<dd>21.8656455020572</dd>\n",
       "\t<dt>12</dt>\n",
       "\t\t<dd>30.0671911486712</dd>\n",
       "\t<dt>14</dt>\n",
       "\t\t<dd>30.0671911486712</dd>\n",
       "\t<dt>15</dt>\n",
       "\t\t<dd>30.0671911486712</dd>\n",
       "\t<dt>17</dt>\n",
       "\t\t<dd>34.1679639719782</dd>\n",
       "\t<dt>21</dt>\n",
       "\t\t<dd>38.2687367952852</dd>\n",
       "\t<dt>22</dt>\n",
       "\t\t<dd>38.2687367952852</dd>\n",
       "\t<dt>27</dt>\n",
       "\t\t<dd>46.4702824418993</dd>\n",
       "\t<dt>31</dt>\n",
       "\t\t<dd>50.5710552652063</dd>\n",
       "\t<dt>34</dt>\n",
       "\t\t<dd>54.6718280885133</dd>\n",
       "\t<dt>38</dt>\n",
       "\t\t<dd>58.7726009118203</dd>\n",
       "\t<dt>39</dt>\n",
       "\t\t<dd>62.8733737351273</dd>\n",
       "\t<dt>40</dt>\n",
       "\t\t<dd>62.8733737351273</dd>\n",
       "\t<dt>41</dt>\n",
       "\t\t<dd>62.8733737351273</dd>\n",
       "\t<dt>42</dt>\n",
       "\t\t<dd>62.8733737351273</dd>\n",
       "\t<dt>44</dt>\n",
       "\t\t<dd>71.0749193817414</dd>\n",
       "</dl>\n"
      ],
      "text/latex": [
       "\\begin{description*}\n",
       "\\item[5] 13.6640998554431\n",
       "\\item[8] 21.8656455020572\n",
       "\\item[12] 30.0671911486712\n",
       "\\item[14] 30.0671911486712\n",
       "\\item[15] 30.0671911486712\n",
       "\\item[17] 34.1679639719782\n",
       "\\item[21] 38.2687367952852\n",
       "\\item[22] 38.2687367952852\n",
       "\\item[27] 46.4702824418993\n",
       "\\item[31] 50.5710552652063\n",
       "\\item[34] 54.6718280885133\n",
       "\\item[38] 58.7726009118203\n",
       "\\item[39] 62.8733737351273\n",
       "\\item[40] 62.8733737351273\n",
       "\\item[41] 62.8733737351273\n",
       "\\item[42] 62.8733737351273\n",
       "\\item[44] 71.0749193817414\n",
       "\\end{description*}\n"
      ],
      "text/markdown": [
       "5\n",
       ":   13.66409985544318\n",
       ":   21.865645502057212\n",
       ":   30.067191148671214\n",
       ":   30.067191148671215\n",
       ":   30.067191148671217\n",
       ":   34.167963971978221\n",
       ":   38.268736795285222\n",
       ":   38.268736795285227\n",
       ":   46.470282441899331\n",
       ":   50.571055265206334\n",
       ":   54.671828088513338\n",
       ":   58.772600911820339\n",
       ":   62.873373735127340\n",
       ":   62.873373735127341\n",
       ":   62.873373735127342\n",
       ":   62.873373735127344\n",
       ":   71.0749193817414\n",
       "\n"
      ],
      "text/plain": [
       "       5        8       12       14       15       17       21       22 \n",
       "13.66410 21.86565 30.06719 30.06719 30.06719 34.16796 38.26874 38.26874 \n",
       "      27       31       34       38       39       40       41       42 \n",
       "46.47028 50.57106 54.67183 58.77260 62.87337 62.87337 62.87337 62.87337 \n",
       "      44 \n",
       "71.07492 "
      ]
     },
     "metadata": {},
     "output_type": "display_data"
    }
   ],
   "source": [
    "predict(m1, test)"
   ]
  },
  {
   "cell_type": "code",
   "execution_count": 56,
   "metadata": {},
   "outputs": [
    {
     "data": {
      "text/html": [
       "<table>\n",
       "<thead><tr><th></th><th scope=col>fit</th><th scope=col>lwr</th><th scope=col>upr</th></tr></thead>\n",
       "<tbody>\n",
       "\t<tr><th scope=row>5</th><td>13.66410 </td><td> 4.189517</td><td>23.13868 </td></tr>\n",
       "\t<tr><th scope=row>8</th><td>21.86565 </td><td>13.894007</td><td>29.83728 </td></tr>\n",
       "\t<tr><th scope=row>12</th><td>30.06719 </td><td>23.305008</td><td>36.82937 </td></tr>\n",
       "\t<tr><th scope=row>14</th><td>30.06719 </td><td>23.305008</td><td>36.82937 </td></tr>\n",
       "\t<tr><th scope=row>15</th><td>30.06719 </td><td>23.305008</td><td>36.82937 </td></tr>\n",
       "\t<tr><th scope=row>17</th><td>34.16796 </td><td>27.845980</td><td>40.48995 </td></tr>\n",
       "\t<tr><th scope=row>21</th><td>38.26874 </td><td>32.243122</td><td>44.29435 </td></tr>\n",
       "\t<tr><th scope=row>22</th><td>38.26874 </td><td>32.243122</td><td>44.29435 </td></tr>\n",
       "\t<tr><th scope=row>27</th><td>46.47028 </td><td>40.529764</td><td>52.41080 </td></tr>\n",
       "\t<tr><th scope=row>31</th><td>50.57106 </td><td>44.412247</td><td>56.72986 </td></tr>\n",
       "\t<tr><th scope=row>34</th><td>54.67183 </td><td>48.139426</td><td>61.20423 </td></tr>\n",
       "\t<tr><th scope=row>38</th><td>58.77260 </td><td>51.735993</td><td>65.80921 </td></tr>\n",
       "\t<tr><th scope=row>39</th><td>62.87337 </td><td>55.227746</td><td>70.51900 </td></tr>\n",
       "\t<tr><th scope=row>40</th><td>62.87337 </td><td>55.227746</td><td>70.51900 </td></tr>\n",
       "\t<tr><th scope=row>41</th><td>62.87337 </td><td>55.227746</td><td>70.51900 </td></tr>\n",
       "\t<tr><th scope=row>42</th><td>62.87337 </td><td>55.227746</td><td>70.51900 </td></tr>\n",
       "\t<tr><th scope=row>44</th><td>71.07492 </td><td>61.984278</td><td>80.16556 </td></tr>\n",
       "</tbody>\n",
       "</table>\n"
      ],
      "text/latex": [
       "\\begin{tabular}{r|lll}\n",
       "  & fit & lwr & upr\\\\\n",
       "\\hline\n",
       "\t5 & 13.66410  &  4.189517 & 23.13868 \\\\\n",
       "\t8 & 21.86565  & 13.894007 & 29.83728 \\\\\n",
       "\t12 & 30.06719  & 23.305008 & 36.82937 \\\\\n",
       "\t14 & 30.06719  & 23.305008 & 36.82937 \\\\\n",
       "\t15 & 30.06719  & 23.305008 & 36.82937 \\\\\n",
       "\t17 & 34.16796  & 27.845980 & 40.48995 \\\\\n",
       "\t21 & 38.26874  & 32.243122 & 44.29435 \\\\\n",
       "\t22 & 38.26874  & 32.243122 & 44.29435 \\\\\n",
       "\t27 & 46.47028  & 40.529764 & 52.41080 \\\\\n",
       "\t31 & 50.57106  & 44.412247 & 56.72986 \\\\\n",
       "\t34 & 54.67183  & 48.139426 & 61.20423 \\\\\n",
       "\t38 & 58.77260  & 51.735993 & 65.80921 \\\\\n",
       "\t39 & 62.87337  & 55.227746 & 70.51900 \\\\\n",
       "\t40 & 62.87337  & 55.227746 & 70.51900 \\\\\n",
       "\t41 & 62.87337  & 55.227746 & 70.51900 \\\\\n",
       "\t42 & 62.87337  & 55.227746 & 70.51900 \\\\\n",
       "\t44 & 71.07492  & 61.984278 & 80.16556 \\\\\n",
       "\\end{tabular}\n"
      ],
      "text/markdown": [
       "\n",
       "| <!--/--> | fit | lwr | upr | \n",
       "|---|---|---|---|---|---|---|---|---|---|---|---|---|---|---|---|---|\n",
       "| 5 | 13.66410  |  4.189517 | 23.13868  | \n",
       "| 8 | 21.86565  | 13.894007 | 29.83728  | \n",
       "| 12 | 30.06719  | 23.305008 | 36.82937  | \n",
       "| 14 | 30.06719  | 23.305008 | 36.82937  | \n",
       "| 15 | 30.06719  | 23.305008 | 36.82937  | \n",
       "| 17 | 34.16796  | 27.845980 | 40.48995  | \n",
       "| 21 | 38.26874  | 32.243122 | 44.29435  | \n",
       "| 22 | 38.26874  | 32.243122 | 44.29435  | \n",
       "| 27 | 46.47028  | 40.529764 | 52.41080  | \n",
       "| 31 | 50.57106  | 44.412247 | 56.72986  | \n",
       "| 34 | 54.67183  | 48.139426 | 61.20423  | \n",
       "| 38 | 58.77260  | 51.735993 | 65.80921  | \n",
       "| 39 | 62.87337  | 55.227746 | 70.51900  | \n",
       "| 40 | 62.87337  | 55.227746 | 70.51900  | \n",
       "| 41 | 62.87337  | 55.227746 | 70.51900  | \n",
       "| 42 | 62.87337  | 55.227746 | 70.51900  | \n",
       "| 44 | 71.07492  | 61.984278 | 80.16556  | \n",
       "\n",
       "\n"
      ],
      "text/plain": [
       "   fit      lwr       upr     \n",
       "5  13.66410  4.189517 23.13868\n",
       "8  21.86565 13.894007 29.83728\n",
       "12 30.06719 23.305008 36.82937\n",
       "14 30.06719 23.305008 36.82937\n",
       "15 30.06719 23.305008 36.82937\n",
       "17 34.16796 27.845980 40.48995\n",
       "21 38.26874 32.243122 44.29435\n",
       "22 38.26874 32.243122 44.29435\n",
       "27 46.47028 40.529764 52.41080\n",
       "31 50.57106 44.412247 56.72986\n",
       "34 54.67183 48.139426 61.20423\n",
       "38 58.77260 51.735993 65.80921\n",
       "39 62.87337 55.227746 70.51900\n",
       "40 62.87337 55.227746 70.51900\n",
       "41 62.87337 55.227746 70.51900\n",
       "42 62.87337 55.227746 70.51900\n",
       "44 71.07492 61.984278 80.16556"
      ]
     },
     "metadata": {},
     "output_type": "display_data"
    }
   ],
   "source": [
    "predict(m1, test, interval = 'confidence')"
   ]
  },
  {
   "cell_type": "markdown",
   "metadata": {},
   "source": [
    "## 반응변수가 범주일때"
   ]
  },
  {
   "cell_type": "code",
   "execution_count": 41,
   "metadata": {},
   "outputs": [
    {
     "name": "stdout",
     "output_type": "stream",
     "text": [
      "'data.frame':\t150 obs. of  5 variables:\n",
      " $ Sepal.Length: num  5.1 4.9 4.7 4.6 5 5.4 4.6 5 4.4 4.9 ...\n",
      " $ Sepal.Width : num  3.5 3 3.2 3.1 3.6 3.9 3.4 3.4 2.9 3.1 ...\n",
      " $ Petal.Length: num  1.4 1.4 1.3 1.5 1.4 1.7 1.4 1.5 1.4 1.5 ...\n",
      " $ Petal.Width : num  0.2 0.2 0.2 0.2 0.2 0.4 0.3 0.2 0.2 0.1 ...\n",
      " $ Species     : Factor w/ 3 levels \"setosa\",\"versicolor\",..: 1 1 1 1 1 1 1 1 1 1 ...\n"
     ]
    }
   ],
   "source": [
    "str(iris)"
   ]
  },
  {
   "cell_type": "code",
   "execution_count": 45,
   "metadata": {},
   "outputs": [],
   "source": [
    "set.seed(13)\n",
    "N = nrow(iris)\n",
    "tr.idx = sample(1:N, size = N*2/3)\n",
    "train = iris[tr.idx,]\n",
    "test = iris[-tr.idx,]"
   ]
  },
  {
   "cell_type": "code",
   "execution_count": 46,
   "metadata": {},
   "outputs": [],
   "source": [
    "library(e1071)\n",
    "m2 <- svm(Species~ ., train)"
   ]
  },
  {
   "cell_type": "code",
   "execution_count": 49,
   "metadata": {},
   "outputs": [],
   "source": [
    "pred = predict(m2, test)\n",
    "# predict(m2, test[,1:4]) 싱동"
   ]
  },
  {
   "cell_type": "code",
   "execution_count": 50,
   "metadata": {},
   "outputs": [
    {
     "data": {
      "text/plain": [
       "Confusion Matrix and Statistics\n",
       "\n",
       "            Reference\n",
       "Prediction   setosa versicolor virginica\n",
       "  setosa         15          0         0\n",
       "  versicolor      0         12         3\n",
       "  virginica       0          0        20\n",
       "\n",
       "Overall Statistics\n",
       "                                          \n",
       "               Accuracy : 0.94            \n",
       "                 95% CI : (0.8345, 0.9875)\n",
       "    No Information Rate : 0.46            \n",
       "    P-Value [Acc > NIR] : 4.596e-13       \n",
       "                                          \n",
       "                  Kappa : 0.9083          \n",
       " Mcnemar's Test P-Value : NA              \n",
       "\n",
       "Statistics by Class:\n",
       "\n",
       "                     Class: setosa Class: versicolor Class: virginica\n",
       "Sensitivity                    1.0            1.0000           0.8696\n",
       "Specificity                    1.0            0.9211           1.0000\n",
       "Pos Pred Value                 1.0            0.8000           1.0000\n",
       "Neg Pred Value                 1.0            1.0000           0.9000\n",
       "Prevalence                     0.3            0.2400           0.4600\n",
       "Detection Rate                 0.3            0.2400           0.4000\n",
       "Detection Prevalence           0.3            0.3000           0.4000\n",
       "Balanced Accuracy              1.0            0.9605           0.9348"
      ]
     },
     "metadata": {},
     "output_type": "display_data"
    }
   ],
   "source": [
    "library(lattice)\n",
    "library(ggplot2)\n",
    "library(caret)\n",
    "confusionMatrix(pred, test$Species)"
   ]
  }
 ],
 "metadata": {
  "kernelspec": {
   "display_name": "R",
   "language": "R",
   "name": "ir"
  },
  "language_info": {
   "codemirror_mode": "r",
   "file_extension": ".r",
   "mimetype": "text/x-r-source",
   "name": "R",
   "pygments_lexer": "r",
   "version": "3.4.3"
  },
  "varInspector": {
   "cols": {
    "lenName": 16,
    "lenType": 16,
    "lenVar": 40
   },
   "kernels_config": {
    "python": {
     "delete_cmd_postfix": "",
     "delete_cmd_prefix": "del ",
     "library": "var_list.py",
     "varRefreshCmd": "print(var_dic_list())"
    },
    "r": {
     "delete_cmd_postfix": ") ",
     "delete_cmd_prefix": "rm(",
     "library": "var_list.r",
     "varRefreshCmd": "cat(var_dic_list()) "
    }
   },
   "types_to_exclude": [
    "module",
    "function",
    "builtin_function_or_method",
    "instance",
    "_Feature"
   ],
   "window_display": false
  }
 },
 "nbformat": 4,
 "nbformat_minor": 2
}
