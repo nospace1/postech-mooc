{
 "cells": [
  {
   "cell_type": "code",
   "execution_count": 3,
   "metadata": {},
   "outputs": [
    {
     "name": "stderr",
     "output_type": "stream",
     "text": [
      "Warning message:\n",
      "\"package 'arulesSequences' is in use and will not be installed\""
     ]
    }
   ],
   "source": [
    "install.packages('arulesSequences')"
   ]
  },
  {
   "cell_type": "code",
   "execution_count": 4,
   "metadata": {},
   "outputs": [],
   "source": [
    "library(arules)\n",
    "library(Matrix)\n",
    "library(arulesSequences)\n",
    "data(zaki)"
   ]
  },
  {
   "cell_type": "code",
   "execution_count": 5,
   "metadata": {},
   "outputs": [
    {
     "data": {
      "text/plain": [
       "transactions as itemMatrix in sparse format with\n",
       " 10 rows (elements/itemsets/transactions) and\n",
       " 8 columns (items) and a density of 0.3375 \n",
       "\n",
       "most frequent items:\n",
       "      A       B       F       C       D (Other) \n",
       "      6       5       5       3       3       5 \n",
       "\n",
       "element (itemset/transaction) length distribution:\n",
       "sizes\n",
       "1 2 3 4 \n",
       "1 2 6 1 \n",
       "\n",
       "   Min. 1st Qu.  Median    Mean 3rd Qu.    Max. \n",
       "   1.00    2.25    3.00    2.70    3.00    4.00 \n",
       "\n",
       "includes extended item information - examples:\n",
       "  labels\n",
       "1      A\n",
       "2      B\n",
       "3      C\n",
       "\n",
       "includes extended transaction information - examples:\n",
       "  sequenceID eventID SIZE\n",
       "1          1      10    2\n",
       "2          1      15    3\n",
       "3          1      20    3"
      ]
     },
     "metadata": {},
     "output_type": "display_data"
    }
   ],
   "source": [
    "summary(zaki)"
   ]
  },
  {
   "cell_type": "code",
   "execution_count": 6,
   "metadata": {},
   "outputs": [
    {
     "name": "stdout",
     "output_type": "stream",
     "text": [
      "     items     sequenceID eventID SIZE\n",
      "[1]  {C,D}     1          10      2   \n",
      "[2]  {A,B,C}   1          15      3   \n",
      "[3]  {A,B,F}   1          20      3   \n",
      "[4]  {A,C,D,F} 1          25      4   \n",
      "[5]  {A,B,F}   2          15      3   \n",
      "[6]  {E}       2          20      1   \n",
      "[7]  {A,B,F}   3          10      3   \n",
      "[8]  {D,G,H}   4          10      3   \n",
      "[9]  {B,F}     4          20      2   \n",
      "[10] {A,G,H}   4          25      3   \n"
     ]
    }
   ],
   "source": [
    "inspect(zaki)"
   ]
  },
  {
   "cell_type": "code",
   "execution_count": 7,
   "metadata": {},
   "outputs": [
    {
     "data": {
      "text/html": [
       "<table>\n",
       "<thead><tr><th scope=col>items</th><th scope=col>sequenceID</th><th scope=col>eventID</th><th scope=col>SIZE</th></tr></thead>\n",
       "<tbody>\n",
       "\t<tr><td>{C,D}    </td><td>1        </td><td>10       </td><td>2        </td></tr>\n",
       "\t<tr><td>{A,B,C}  </td><td>1        </td><td>15       </td><td>3        </td></tr>\n",
       "\t<tr><td>{A,B,F}  </td><td>1        </td><td>20       </td><td>3        </td></tr>\n",
       "\t<tr><td>{A,C,D,F}</td><td>1        </td><td>25       </td><td>4        </td></tr>\n",
       "\t<tr><td>{A,B,F}  </td><td>2        </td><td>15       </td><td>3        </td></tr>\n",
       "\t<tr><td>{E}      </td><td>2        </td><td>20       </td><td>1        </td></tr>\n",
       "\t<tr><td>{A,B,F}  </td><td>3        </td><td>10       </td><td>3        </td></tr>\n",
       "\t<tr><td>{D,G,H}  </td><td>4        </td><td>10       </td><td>3        </td></tr>\n",
       "\t<tr><td>{B,F}    </td><td>4        </td><td>20       </td><td>2        </td></tr>\n",
       "\t<tr><td>{A,G,H}  </td><td>4        </td><td>25       </td><td>3        </td></tr>\n",
       "</tbody>\n",
       "</table>\n"
      ],
      "text/latex": [
       "\\begin{tabular}{r|llll}\n",
       " items & sequenceID & eventID & SIZE\\\\\n",
       "\\hline\n",
       "\t \\{C,D\\}     & 1             & 10            & 2            \\\\\n",
       "\t \\{A,B,C\\}   & 1             & 15            & 3            \\\\\n",
       "\t \\{A,B,F\\}   & 1             & 20            & 3            \\\\\n",
       "\t \\{A,C,D,F\\} & 1             & 25            & 4            \\\\\n",
       "\t \\{A,B,F\\}   & 2             & 15            & 3            \\\\\n",
       "\t \\{E\\}       & 2             & 20            & 1            \\\\\n",
       "\t \\{A,B,F\\}   & 3             & 10            & 3            \\\\\n",
       "\t \\{D,G,H\\}   & 4             & 10            & 3            \\\\\n",
       "\t \\{B,F\\}     & 4             & 20            & 2            \\\\\n",
       "\t \\{A,G,H\\}   & 4             & 25            & 3            \\\\\n",
       "\\end{tabular}\n"
      ],
      "text/markdown": [
       "\n",
       "items | sequenceID | eventID | SIZE | \n",
       "|---|---|---|---|---|---|---|---|---|---|\n",
       "| {C,D}     | 1         | 10        | 2         | \n",
       "| {A,B,C}   | 1         | 15        | 3         | \n",
       "| {A,B,F}   | 1         | 20        | 3         | \n",
       "| {A,C,D,F} | 1         | 25        | 4         | \n",
       "| {A,B,F}   | 2         | 15        | 3         | \n",
       "| {E}       | 2         | 20        | 1         | \n",
       "| {A,B,F}   | 3         | 10        | 3         | \n",
       "| {D,G,H}   | 4         | 10        | 3         | \n",
       "| {B,F}     | 4         | 20        | 2         | \n",
       "| {A,G,H}   | 4         | 25        | 3         | \n",
       "\n",
       "\n"
      ],
      "text/plain": [
       "   items     sequenceID eventID SIZE\n",
       "1  {C,D}     1          10      2   \n",
       "2  {A,B,C}   1          15      3   \n",
       "3  {A,B,F}   1          20      3   \n",
       "4  {A,C,D,F} 1          25      4   \n",
       "5  {A,B,F}   2          15      3   \n",
       "6  {E}       2          20      1   \n",
       "7  {A,B,F}   3          10      3   \n",
       "8  {D,G,H}   4          10      3   \n",
       "9  {B,F}     4          20      2   \n",
       "10 {A,G,H}   4          25      3   "
      ]
     },
     "metadata": {},
     "output_type": "display_data"
    }
   ],
   "source": [
    "as(zaki, 'data.frame')"
   ]
  },
  {
   "cell_type": "code",
   "execution_count": 8,
   "metadata": {},
   "outputs": [
    {
     "name": "stdout",
     "output_type": "stream",
     "text": [
      "\n",
      "parameter specification:\n",
      "support : 0.3\n",
      "maxsize :   5\n",
      "maxlen  :   4\n",
      "\n",
      "algorithmic control:\n",
      "bfstype  : FALSE\n",
      "verbose  :  TRUE\n",
      "summary  : FALSE\n",
      "tidLists : FALSE\n",
      "\n",
      "preprocessing ... 1 partition(s), 0 MB [0.08s]\n",
      "mining transactions ... 0 MB [0.03s]\n",
      "reading sequences ... [0.05s]\n",
      "\n",
      "total elapsed time: 0.16s\n"
     ]
    }
   ],
   "source": [
    "seq_rule1 <- cspade(zaki, parameter = list(support = 0.3,\n",
    "                                          maxsize= 5, maxlen= 4),\n",
    "                   control = list(verbose=TRUE))"
   ]
  },
  {
   "cell_type": "code",
   "execution_count": 9,
   "metadata": {},
   "outputs": [
    {
     "data": {
      "text/plain": [
       "set of 18 sequences with\n",
       "\n",
       "most frequent items:\n",
       "      A       B       F       D (Other) \n",
       "     11      10      10       8      28 \n",
       "\n",
       "most frequent elements:\n",
       "    {A}     {D}     {B}     {F}   {B,F} (Other) \n",
       "      8       8       4       4       4       3 \n",
       "\n",
       "element (sequence) size distribution:\n",
       "sizes\n",
       "1 2 3 \n",
       "8 7 3 \n",
       "\n",
       "sequence length distribution:\n",
       "lengths\n",
       "1 2 3 4 \n",
       "4 8 5 1 \n",
       "\n",
       "summary of quality measures:\n",
       "    support      \n",
       " Min.   :0.5000  \n",
       " 1st Qu.:0.5000  \n",
       " Median :0.5000  \n",
       " Mean   :0.6528  \n",
       " 3rd Qu.:0.7500  \n",
       " Max.   :1.0000  \n",
       "\n",
       "includes transaction ID lists: FALSE \n",
       "\n",
       "mining info:\n",
       " data ntransactions nsequences support\n",
       " zaki            10          4     0.3"
      ]
     },
     "metadata": {},
     "output_type": "display_data"
    }
   ],
   "source": [
    "summary(seq_rule1)"
   ]
  },
  {
   "cell_type": "code",
   "execution_count": 11,
   "metadata": {},
   "outputs": [
    {
     "data": {
      "text/html": [
       "<table>\n",
       "<thead><tr><th scope=col>sequence</th><th scope=col>support</th></tr></thead>\n",
       "<tbody>\n",
       "\t<tr><td><span style=white-space:pre-wrap>&lt;{A}&gt;          </span></td><td>1.00                                                         </td></tr>\n",
       "\t<tr><td><span style=white-space:pre-wrap>&lt;{B}&gt;          </span></td><td>1.00                                                         </td></tr>\n",
       "\t<tr><td><span style=white-space:pre-wrap>&lt;{D}&gt;          </span></td><td>0.50                                                         </td></tr>\n",
       "\t<tr><td><span style=white-space:pre-wrap>&lt;{F}&gt;          </span></td><td>1.00                                                         </td></tr>\n",
       "\t<tr><td><span style=white-space:pre-wrap>&lt;{A,F}&gt;        </span></td><td>0.75                                                         </td></tr>\n",
       "\t<tr><td><span style=white-space:pre-wrap>&lt;{B,F}&gt;        </span></td><td>1.00                                                         </td></tr>\n",
       "\t<tr><td><span style=white-space:pre-wrap>&lt;{D},{F}&gt;      </span></td><td>0.50                                                         </td></tr>\n",
       "\t<tr><td><span style=white-space:pre-wrap>&lt;{D},{B,F}&gt;    </span></td><td>0.50                                                         </td></tr>\n",
       "\t<tr><td><span style=white-space:pre-wrap>&lt;{A,B,F}&gt;      </span></td><td>0.75                                                         </td></tr>\n",
       "\t<tr><td><span style=white-space:pre-wrap>&lt;{A,B}&gt;        </span></td><td>0.75                                                         </td></tr>\n",
       "\t<tr><td><span style=white-space:pre-wrap>&lt;{D},{B}&gt;      </span></td><td>0.50                                                         </td></tr>\n",
       "\t<tr><td><span style=white-space:pre-wrap>&lt;{B},{A}&gt;      </span></td><td>0.50                                                         </td></tr>\n",
       "\t<tr><td><span style=white-space:pre-wrap>&lt;{D},{A}&gt;      </span></td><td>0.50                                                         </td></tr>\n",
       "\t<tr><td><span style=white-space:pre-wrap>&lt;{F},{A}&gt;      </span></td><td>0.50                                                         </td></tr>\n",
       "\t<tr><td><span style=white-space:pre-wrap>&lt;{D},{F},{A}&gt;  </span></td><td>0.50                                                         </td></tr>\n",
       "\t<tr><td><span style=white-space:pre-wrap>&lt;{B,F},{A}&gt;    </span></td><td>0.50                                                         </td></tr>\n",
       "\t<tr><td>&lt;{D},{B,F},{A}&gt;</td><td>0.50                 </td></tr>\n",
       "\t<tr><td><span style=white-space:pre-wrap>&lt;{D},{B},{A}&gt;  </span></td><td>0.50                                                         </td></tr>\n",
       "</tbody>\n",
       "</table>\n"
      ],
      "text/latex": [
       "\\begin{tabular}{r|ll}\n",
       " sequence & support\\\\\n",
       "\\hline\n",
       "\t <\\{A\\}>           & 1.00               \\\\\n",
       "\t <\\{B\\}>           & 1.00               \\\\\n",
       "\t <\\{D\\}>           & 0.50               \\\\\n",
       "\t <\\{F\\}>           & 1.00               \\\\\n",
       "\t <\\{A,F\\}>         & 0.75               \\\\\n",
       "\t <\\{B,F\\}>         & 1.00               \\\\\n",
       "\t <\\{D\\},\\{F\\}>       & 0.50                   \\\\\n",
       "\t <\\{D\\},\\{B,F\\}>     & 0.50                   \\\\\n",
       "\t <\\{A,B,F\\}>       & 0.75               \\\\\n",
       "\t <\\{A,B\\}>         & 0.75               \\\\\n",
       "\t <\\{D\\},\\{B\\}>       & 0.50                   \\\\\n",
       "\t <\\{B\\},\\{A\\}>       & 0.50                   \\\\\n",
       "\t <\\{D\\},\\{A\\}>       & 0.50                   \\\\\n",
       "\t <\\{F\\},\\{A\\}>       & 0.50                   \\\\\n",
       "\t <\\{D\\},\\{F\\},\\{A\\}>   & 0.50                       \\\\\n",
       "\t <\\{B,F\\},\\{A\\}>     & 0.50                   \\\\\n",
       "\t <\\{D\\},\\{B,F\\},\\{A\\}> & 0.50                       \\\\\n",
       "\t <\\{D\\},\\{B\\},\\{A\\}>   & 0.50                       \\\\\n",
       "\\end{tabular}\n"
      ],
      "text/markdown": [
       "\n",
       "sequence | support | \n",
       "|---|---|---|---|---|---|---|---|---|---|---|---|---|---|---|---|---|---|\n",
       "| <{A}>           | 1.00            | \n",
       "| <{B}>           | 1.00            | \n",
       "| <{D}>           | 0.50            | \n",
       "| <{F}>           | 1.00            | \n",
       "| <{A,F}>         | 0.75            | \n",
       "| <{B,F}>         | 1.00            | \n",
       "| <{D},{F}>       | 0.50            | \n",
       "| <{D},{B,F}>     | 0.50            | \n",
       "| <{A,B,F}>       | 0.75            | \n",
       "| <{A,B}>         | 0.75            | \n",
       "| <{D},{B}>       | 0.50            | \n",
       "| <{B},{A}>       | 0.50            | \n",
       "| <{D},{A}>       | 0.50            | \n",
       "| <{F},{A}>       | 0.50            | \n",
       "| <{D},{F},{A}>   | 0.50            | \n",
       "| <{B,F},{A}>     | 0.50            | \n",
       "| <{D},{B,F},{A}> | 0.50            | \n",
       "| <{D},{B},{A}>   | 0.50            | \n",
       "\n",
       "\n"
      ],
      "text/plain": [
       "   sequence        support\n",
       "1  <{A}>           1.00   \n",
       "2  <{B}>           1.00   \n",
       "3  <{D}>           0.50   \n",
       "4  <{F}>           1.00   \n",
       "5  <{A,F}>         0.75   \n",
       "6  <{B,F}>         1.00   \n",
       "7  <{D},{F}>       0.50   \n",
       "8  <{D},{B,F}>     0.50   \n",
       "9  <{A,B,F}>       0.75   \n",
       "10 <{A,B}>         0.75   \n",
       "11 <{D},{B}>       0.50   \n",
       "12 <{B},{A}>       0.50   \n",
       "13 <{D},{A}>       0.50   \n",
       "14 <{F},{A}>       0.50   \n",
       "15 <{D},{F},{A}>   0.50   \n",
       "16 <{B,F},{A}>     0.50   \n",
       "17 <{D},{B,F},{A}> 0.50   \n",
       "18 <{D},{B},{A}>   0.50   "
      ]
     },
     "metadata": {},
     "output_type": "display_data"
    }
   ],
   "source": [
    "as(seq_rule1, 'data.frame')"
   ]
  },
  {
   "cell_type": "code",
   "execution_count": 14,
   "metadata": {},
   "outputs": [
    {
     "data": {
      "text/html": [
       "<table>\n",
       "<thead><tr><th></th><th scope=col>sequence</th><th scope=col>support</th><th scope=col>seq_rule1_size</th></tr></thead>\n",
       "<tbody>\n",
       "\t<tr><th scope=row>1</th><td><span style=white-space:pre-wrap>&lt;{A}&gt;      </span></td><td>1.00                                                     </td><td>1                                                        </td></tr>\n",
       "\t<tr><th scope=row>2</th><td><span style=white-space:pre-wrap>&lt;{B}&gt;      </span></td><td>1.00                                                     </td><td>1                                                        </td></tr>\n",
       "\t<tr><th scope=row>3</th><td><span style=white-space:pre-wrap>&lt;{D}&gt;      </span></td><td>0.50                                                     </td><td>1                                                        </td></tr>\n",
       "\t<tr><th scope=row>4</th><td><span style=white-space:pre-wrap>&lt;{F}&gt;      </span></td><td>1.00                                                     </td><td>1                                                        </td></tr>\n",
       "\t<tr><th scope=row>5</th><td><span style=white-space:pre-wrap>&lt;{A,F}&gt;    </span></td><td>0.75                                                     </td><td>1                                                        </td></tr>\n",
       "\t<tr><th scope=row>6</th><td><span style=white-space:pre-wrap>&lt;{B,F}&gt;    </span></td><td>1.00                                                     </td><td>1                                                        </td></tr>\n",
       "\t<tr><th scope=row>7</th><td><span style=white-space:pre-wrap>&lt;{D},{F}&gt;  </span></td><td>0.50                                                     </td><td>2                                                        </td></tr>\n",
       "\t<tr><th scope=row>8</th><td>&lt;{D},{B,F}&gt;</td><td>0.50             </td><td>2                </td></tr>\n",
       "\t<tr><th scope=row>9</th><td><span style=white-space:pre-wrap>&lt;{A,B,F}&gt;  </span></td><td>0.75                                                     </td><td>1                                                        </td></tr>\n",
       "\t<tr><th scope=row>10</th><td><span style=white-space:pre-wrap>&lt;{A,B}&gt;    </span></td><td>0.75                                                     </td><td>1                                                        </td></tr>\n",
       "\t<tr><th scope=row>11</th><td><span style=white-space:pre-wrap>&lt;{D},{B}&gt;  </span></td><td>0.50                                                     </td><td>2                                                        </td></tr>\n",
       "\t<tr><th scope=row>12</th><td><span style=white-space:pre-wrap>&lt;{B},{A}&gt;  </span></td><td>0.50                                                     </td><td>2                                                        </td></tr>\n",
       "\t<tr><th scope=row>13</th><td><span style=white-space:pre-wrap>&lt;{D},{A}&gt;  </span></td><td>0.50                                                     </td><td>2                                                        </td></tr>\n",
       "\t<tr><th scope=row>14</th><td><span style=white-space:pre-wrap>&lt;{F},{A}&gt;  </span></td><td>0.50                                                     </td><td>2                                                        </td></tr>\n",
       "\t<tr><th scope=row>16</th><td>&lt;{B,F},{A}&gt;</td><td>0.50             </td><td>2                </td></tr>\n",
       "</tbody>\n",
       "</table>\n"
      ],
      "text/latex": [
       "\\begin{tabular}{r|lll}\n",
       "  & sequence & support & seq\\_rule1\\_size\\\\\n",
       "\\hline\n",
       "\t1 & <\\{A\\}>       & 1.00            & 1              \\\\\n",
       "\t2 & <\\{B\\}>       & 1.00            & 1              \\\\\n",
       "\t3 & <\\{D\\}>       & 0.50            & 1              \\\\\n",
       "\t4 & <\\{F\\}>       & 1.00            & 1              \\\\\n",
       "\t5 & <\\{A,F\\}>     & 0.75            & 1              \\\\\n",
       "\t6 & <\\{B,F\\}>     & 1.00            & 1              \\\\\n",
       "\t7 & <\\{D\\},\\{F\\}>   & 0.50                & 2                  \\\\\n",
       "\t8 & <\\{D\\},\\{B,F\\}> & 0.50                & 2                  \\\\\n",
       "\t9 & <\\{A,B,F\\}>   & 0.75            & 1              \\\\\n",
       "\t10 & <\\{A,B\\}>     & 0.75            & 1              \\\\\n",
       "\t11 & <\\{D\\},\\{B\\}>   & 0.50                & 2                  \\\\\n",
       "\t12 & <\\{B\\},\\{A\\}>   & 0.50                & 2                  \\\\\n",
       "\t13 & <\\{D\\},\\{A\\}>   & 0.50                & 2                  \\\\\n",
       "\t14 & <\\{F\\},\\{A\\}>   & 0.50                & 2                  \\\\\n",
       "\t16 & <\\{B,F\\},\\{A\\}> & 0.50                & 2                  \\\\\n",
       "\\end{tabular}\n"
      ],
      "text/markdown": [
       "\n",
       "| <!--/--> | sequence | support | seq_rule1_size | \n",
       "|---|---|---|---|---|---|---|---|---|---|---|---|---|---|---|\n",
       "| 1 | <{A}>       | 1.00        | 1           | \n",
       "| 2 | <{B}>       | 1.00        | 1           | \n",
       "| 3 | <{D}>       | 0.50        | 1           | \n",
       "| 4 | <{F}>       | 1.00        | 1           | \n",
       "| 5 | <{A,F}>     | 0.75        | 1           | \n",
       "| 6 | <{B,F}>     | 1.00        | 1           | \n",
       "| 7 | <{D},{F}>   | 0.50        | 2           | \n",
       "| 8 | <{D},{B,F}> | 0.50        | 2           | \n",
       "| 9 | <{A,B,F}>   | 0.75        | 1           | \n",
       "| 10 | <{A,B}>     | 0.75        | 1           | \n",
       "| 11 | <{D},{B}>   | 0.50        | 2           | \n",
       "| 12 | <{B},{A}>   | 0.50        | 2           | \n",
       "| 13 | <{D},{A}>   | 0.50        | 2           | \n",
       "| 14 | <{F},{A}>   | 0.50        | 2           | \n",
       "| 16 | <{B,F},{A}> | 0.50        | 2           | \n",
       "\n",
       "\n"
      ],
      "text/plain": [
       "   sequence    support seq_rule1_size\n",
       "1  <{A}>       1.00    1             \n",
       "2  <{B}>       1.00    1             \n",
       "3  <{D}>       0.50    1             \n",
       "4  <{F}>       1.00    1             \n",
       "5  <{A,F}>     0.75    1             \n",
       "6  <{B,F}>     1.00    1             \n",
       "7  <{D},{F}>   0.50    2             \n",
       "8  <{D},{B,F}> 0.50    2             \n",
       "9  <{A,B,F}>   0.75    1             \n",
       "10 <{A,B}>     0.75    1             \n",
       "11 <{D},{B}>   0.50    2             \n",
       "12 <{B},{A}>   0.50    2             \n",
       "13 <{D},{A}>   0.50    2             \n",
       "14 <{F},{A}>   0.50    2             \n",
       "16 <{B,F},{A}> 0.50    2             "
      ]
     },
     "metadata": {},
     "output_type": "display_data"
    }
   ],
   "source": [
    "seq_rule1_df <- as(seq_rule1, 'data.frame')\n",
    "seq_rule1_size <- size(seq_rule1)\n",
    "\n",
    "seq_rule1_df <- cbind(seq_rule1_df, seq_rule1_size)\n",
    "seq_rule_1_df_size2 <-subset(seq_rule1_df,\n",
    "                            subset= seq_rule1_size<=2)\n",
    "seq_rule_1_df_size2"
   ]
  }
 ],
 "metadata": {
  "kernelspec": {
   "display_name": "R",
   "language": "R",
   "name": "ir"
  },
  "language_info": {
   "codemirror_mode": "r",
   "file_extension": ".r",
   "mimetype": "text/x-r-source",
   "name": "R",
   "pygments_lexer": "r",
   "version": "3.4.3"
  },
  "varInspector": {
   "cols": {
    "lenName": 16,
    "lenType": 16,
    "lenVar": 40
   },
   "kernels_config": {
    "python": {
     "delete_cmd_postfix": "",
     "delete_cmd_prefix": "del ",
     "library": "var_list.py",
     "varRefreshCmd": "print(var_dic_list())"
    },
    "r": {
     "delete_cmd_postfix": ") ",
     "delete_cmd_prefix": "rm(",
     "library": "var_list.r",
     "varRefreshCmd": "cat(var_dic_list()) "
    }
   },
   "types_to_exclude": [
    "module",
    "function",
    "builtin_function_or_method",
    "instance",
    "_Feature"
   ],
   "window_display": false
  }
 },
 "nbformat": 4,
 "nbformat_minor": 2
}
