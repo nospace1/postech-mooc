{
 "cells": [
  {
   "cell_type": "code",
   "execution_count": 1,
   "metadata": {},
   "outputs": [
    {
     "name": "stdout",
     "output_type": "stream",
     "text": [
      "'data.frame':\t150 obs. of  5 variables:\n",
      " $ Sepal.Length: num  5.1 4.9 4.7 4.6 5 5.4 4.6 5 4.4 4.9 ...\n",
      " $ Sepal.Width : num  3.5 3 3.2 3.1 3.6 3.9 3.4 3.4 2.9 3.1 ...\n",
      " $ Petal.Length: num  1.4 1.4 1.3 1.5 1.4 1.7 1.4 1.5 1.4 1.5 ...\n",
      " $ Petal.Width : num  0.2 0.2 0.2 0.2 0.2 0.4 0.3 0.2 0.2 0.1 ...\n",
      " $ Species     : Factor w/ 3 levels \"setosa\",\"versicolor\",..: 1 1 1 1 1 1 1 1 1 1 ...\n"
     ]
    }
   ],
   "source": [
    "str(iris)"
   ]
  },
  {
   "cell_type": "code",
   "execution_count": 2,
   "metadata": {},
   "outputs": [],
   "source": [
    "attach(iris)"
   ]
  },
  {
   "cell_type": "code",
   "execution_count": 3,
   "metadata": {},
   "outputs": [
    {
     "data": {
      "text/html": [
       "<table>\n",
       "<thead><tr><th></th><th scope=col>Sepal.Length</th><th scope=col>Sepal.Width</th><th scope=col>Petal.Length</th><th scope=col>Petal.Width</th></tr></thead>\n",
       "<tbody>\n",
       "\t<tr><th scope=row>Sepal.Length</th><td> 1.0000000</td><td>-0.1175698</td><td> 0.8717538</td><td> 0.8179411</td></tr>\n",
       "\t<tr><th scope=row>Sepal.Width</th><td>-0.1175698</td><td> 1.0000000</td><td>-0.4284401</td><td>-0.3661259</td></tr>\n",
       "\t<tr><th scope=row>Petal.Length</th><td> 0.8717538</td><td>-0.4284401</td><td> 1.0000000</td><td> 0.9628654</td></tr>\n",
       "\t<tr><th scope=row>Petal.Width</th><td> 0.8179411</td><td>-0.3661259</td><td> 0.9628654</td><td> 1.0000000</td></tr>\n",
       "</tbody>\n",
       "</table>\n"
      ],
      "text/latex": [
       "\\begin{tabular}{r|llll}\n",
       "  & Sepal.Length & Sepal.Width & Petal.Length & Petal.Width\\\\\n",
       "\\hline\n",
       "\tSepal.Length &  1.0000000 & -0.1175698 &  0.8717538 &  0.8179411\\\\\n",
       "\tSepal.Width & -0.1175698 &  1.0000000 & -0.4284401 & -0.3661259\\\\\n",
       "\tPetal.Length &  0.8717538 & -0.4284401 &  1.0000000 &  0.9628654\\\\\n",
       "\tPetal.Width &  0.8179411 & -0.3661259 &  0.9628654 &  1.0000000\\\\\n",
       "\\end{tabular}\n"
      ],
      "text/markdown": [
       "\n",
       "| <!--/--> | Sepal.Length | Sepal.Width | Petal.Length | Petal.Width | \n",
       "|---|---|---|---|\n",
       "| Sepal.Length |  1.0000000 | -0.1175698 |  0.8717538 |  0.8179411 | \n",
       "| Sepal.Width | -0.1175698 |  1.0000000 | -0.4284401 | -0.3661259 | \n",
       "| Petal.Length |  0.8717538 | -0.4284401 |  1.0000000 |  0.9628654 | \n",
       "| Petal.Width |  0.8179411 | -0.3661259 |  0.9628654 |  1.0000000 | \n",
       "\n",
       "\n"
      ],
      "text/plain": [
       "             Sepal.Length Sepal.Width Petal.Length Petal.Width\n",
       "Sepal.Length  1.0000000   -0.1175698   0.8717538    0.8179411 \n",
       "Sepal.Width  -0.1175698    1.0000000  -0.4284401   -0.3661259 \n",
       "Petal.Length  0.8717538   -0.4284401   1.0000000    0.9628654 \n",
       "Petal.Width   0.8179411   -0.3661259   0.9628654    1.0000000 "
      ]
     },
     "metadata": {},
     "output_type": "display_data"
    }
   ],
   "source": [
    "cor(iris[,1:4])"
   ]
  },
  {
   "cell_type": "markdown",
   "metadata": {},
   "source": [
    "### 주성분분석에서 차원을 축소할때 독립변수 간에 상관관계가 높을수록 잘 뽑힌다."
   ]
  },
  {
   "cell_type": "code",
   "execution_count": 4,
   "metadata": {},
   "outputs": [
    {
     "data": {
      "text/plain": [
       "Standard deviations (1, .., p=4):\n",
       "[1] 1.7083611 0.9560494 0.3830886 0.1439265\n",
       "\n",
       "Rotation (n x k) = (4 x 4):\n",
       "                    PC1         PC2        PC3        PC4\n",
       "Sepal.Length  0.5210659 -0.37741762  0.7195664  0.2612863\n",
       "Sepal.Width  -0.2693474 -0.92329566 -0.2443818 -0.1235096\n",
       "Petal.Length  0.5804131 -0.02449161 -0.1421264 -0.8014492\n",
       "Petal.Width   0.5648565 -0.06694199 -0.6342727  0.5235971"
      ]
     },
     "metadata": {},
     "output_type": "display_data"
    }
   ],
   "source": [
    "ir.pca <- prcomp(iris[,1:4], center=T, scale= T)\n",
    "ir.pca"
   ]
  },
  {
   "cell_type": "markdown",
   "metadata": {},
   "source": [
    "### center= T, scale= T는 변수들의 평균을 빼고, 편차로 나누어 표준화 한다는 의미"
   ]
  },
  {
   "cell_type": "markdown",
   "metadata": {},
   "source": [
    "### PC1 = 0.521*Sepal.Length -0.2693*Sepal.Width+ ````"
   ]
  },
  {
   "cell_type": "code",
   "execution_count": 6,
   "metadata": {},
   "outputs": [
    {
     "data": {
      "text/plain": [
       "Importance of components:\n",
       "                          PC1    PC2     PC3     PC4\n",
       "Standard deviation     1.7084 0.9560 0.38309 0.14393\n",
       "Proportion of Variance 0.7296 0.2285 0.03669 0.00518\n",
       "Cumulative Proportion  0.7296 0.9581 0.99482 1.00000"
      ]
     },
     "metadata": {},
     "output_type": "display_data"
    }
   ],
   "source": [
    "summary(ir.pca)"
   ]
  },
  {
   "cell_type": "markdown",
   "metadata": {},
   "source": [
    "#### pc1은 전체분산의 72.96% 설명\n",
    "#### pc2은 전체분산의 22.85% 설명 ``` "
   ]
  },
  {
   "cell_type": "code",
   "execution_count": 7,
   "metadata": {},
   "outputs": [
    {
     "data": {
      "image/png": "[encoded data removed]",
      "text/plain": [
       "Plot with title \"ir.pca\""
      ]
     },
     "metadata": {},
     "output_type": "display_data"
    }
   ],
   "source": [
    "plot(ir.pca, type='l')"
   ]
  },
  {
   "cell_type": "markdown",
   "metadata": {},
   "source": [
    "### 이 경우는 pc1, pc2까지 사용하는 것을 추천"
   ]
  },
  {
   "cell_type": "code",
   "execution_count": 9,
   "metadata": {},
   "outputs": [
    {
     "data": {
      "image/png": "[encoded data removed]",
      "text/plain": [
       "Plot with title \"ir.pca\""
      ]
     },
     "metadata": {},
     "output_type": "display_data"
    }
   ],
   "source": [
    "screeplot(ir.pca)"
   ]
  },
  {
   "cell_type": "code",
   "execution_count": 11,
   "metadata": {},
   "outputs": [
    {
     "data": {
      "text/html": [
       "<table>\n",
       "<thead><tr><th scope=col>PC1</th><th scope=col>PC2</th><th scope=col>PC3</th><th scope=col>PC4</th></tr></thead>\n",
       "<tbody>\n",
       "\t<tr><td>2.640270  </td><td>-5.204041 </td><td>2.488621  </td><td>-0.1170332</td></tr>\n",
       "\t<tr><td>2.670730  </td><td>-4.666910 </td><td>2.466898  </td><td>-0.1075356</td></tr>\n",
       "\t<tr><td>2.454606  </td><td>-4.773636 </td><td>2.288321  </td><td>-0.1043499</td></tr>\n",
       "\t<tr><td>2.545517  </td><td>-4.648463 </td><td>2.212378  </td><td>-0.2784174</td></tr>\n",
       "\t<tr><td>2.561228  </td><td>-5.258629 </td><td>2.392226  </td><td>-0.1555127</td></tr>\n",
       "\t<tr><td>2.975946  </td><td>-5.707321 </td><td>2.437245  </td><td>-0.2237665</td></tr>\n",
       "</tbody>\n",
       "</table>\n"
      ],
      "text/latex": [
       "\\begin{tabular}{llll}\n",
       " PC1 & PC2 & PC3 & PC4\\\\\n",
       "\\hline\n",
       "\t 2.640270   & -5.204041  & 2.488621   & -0.1170332\\\\\n",
       "\t 2.670730   & -4.666910  & 2.466898   & -0.1075356\\\\\n",
       "\t 2.454606   & -4.773636  & 2.288321   & -0.1043499\\\\\n",
       "\t 2.545517   & -4.648463  & 2.212378   & -0.2784174\\\\\n",
       "\t 2.561228   & -5.258629  & 2.392226   & -0.1555127\\\\\n",
       "\t 2.975946   & -5.707321  & 2.437245   & -0.2237665\\\\\n",
       "\\end{tabular}\n"
      ],
      "text/markdown": [
       "\n",
       "PC1 | PC2 | PC3 | PC4 | \n",
       "|---|---|---|---|---|---|\n",
       "| 2.640270   | -5.204041  | 2.488621   | -0.1170332 | \n",
       "| 2.670730   | -4.666910  | 2.466898   | -0.1075356 | \n",
       "| 2.454606   | -4.773636  | 2.288321   | -0.1043499 | \n",
       "| 2.545517   | -4.648463  | 2.212378   | -0.2784174 | \n",
       "| 2.561228   | -5.258629  | 2.392226   | -0.1555127 | \n",
       "| 2.975946   | -5.707321  | 2.437245   | -0.2237665 | \n",
       "\n",
       "\n"
      ],
      "text/plain": [
       "     PC1      PC2       PC3      PC4       \n",
       "[1,] 2.640270 -5.204041 2.488621 -0.1170332\n",
       "[2,] 2.670730 -4.666910 2.466898 -0.1075356\n",
       "[3,] 2.454606 -4.773636 2.288321 -0.1043499\n",
       "[4,] 2.545517 -4.648463 2.212378 -0.2784174\n",
       "[5,] 2.561228 -5.258629 2.392226 -0.1555127\n",
       "[6,] 2.975946 -5.707321 2.437245 -0.2237665"
      ]
     },
     "metadata": {},
     "output_type": "display_data"
    }
   ],
   "source": [
    "PRC <- as.matrix(iris[,1:4]) %*% ir.pca$rotation\n",
    "head(PRC)"
   ]
  },
  {
   "cell_type": "code",
   "execution_count": 14,
   "metadata": {},
   "outputs": [
    {
     "data": {
      "text/html": [
       "<table>\n",
       "<thead><tr><th></th><th scope=col>PC1</th><th scope=col>PC2</th><th scope=col>PC3</th><th scope=col>PC4</th></tr></thead>\n",
       "<tbody>\n",
       "\t<tr><th scope=row>Sepal.Length</th><td> 0.5210659 </td><td>-0.37741762</td><td> 0.7195664 </td><td> 0.2612863 </td></tr>\n",
       "\t<tr><th scope=row>Sepal.Width</th><td>-0.2693474 </td><td>-0.92329566</td><td>-0.2443818 </td><td>-0.1235096 </td></tr>\n",
       "\t<tr><th scope=row>Petal.Length</th><td> 0.5804131 </td><td>-0.02449161</td><td>-0.1421264 </td><td>-0.8014492 </td></tr>\n",
       "\t<tr><th scope=row>Petal.Width</th><td> 0.5648565 </td><td>-0.06694199</td><td>-0.6342727 </td><td> 0.5235971 </td></tr>\n",
       "</tbody>\n",
       "</table>\n"
      ],
      "text/latex": [
       "\\begin{tabular}{r|llll}\n",
       "  & PC1 & PC2 & PC3 & PC4\\\\\n",
       "\\hline\n",
       "\tSepal.Length &  0.5210659  & -0.37741762 &  0.7195664  &  0.2612863 \\\\\n",
       "\tSepal.Width & -0.2693474  & -0.92329566 & -0.2443818  & -0.1235096 \\\\\n",
       "\tPetal.Length &  0.5804131  & -0.02449161 & -0.1421264  & -0.8014492 \\\\\n",
       "\tPetal.Width &  0.5648565  & -0.06694199 & -0.6342727  &  0.5235971 \\\\\n",
       "\\end{tabular}\n"
      ],
      "text/markdown": [
       "\n",
       "| <!--/--> | PC1 | PC2 | PC3 | PC4 | \n",
       "|---|---|---|---|\n",
       "| Sepal.Length |  0.5210659  | -0.37741762 |  0.7195664  |  0.2612863  | \n",
       "| Sepal.Width | -0.2693474  | -0.92329566 | -0.2443818  | -0.1235096  | \n",
       "| Petal.Length |  0.5804131  | -0.02449161 | -0.1421264  | -0.8014492  | \n",
       "| Petal.Width |  0.5648565  | -0.06694199 | -0.6342727  |  0.5235971  | \n",
       "\n",
       "\n"
      ],
      "text/plain": [
       "             PC1        PC2         PC3        PC4       \n",
       "Sepal.Length  0.5210659 -0.37741762  0.7195664  0.2612863\n",
       "Sepal.Width  -0.2693474 -0.92329566 -0.2443818 -0.1235096\n",
       "Petal.Length  0.5804131 -0.02449161 -0.1421264 -0.8014492\n",
       "Petal.Width   0.5648565 -0.06694199 -0.6342727  0.5235971"
      ]
     },
     "metadata": {},
     "output_type": "display_data"
    }
   ],
   "source": [
    "ir.pca$rotation"
   ]
  },
  {
   "cell_type": "code",
   "execution_count": 15,
   "metadata": {},
   "outputs": [
    {
     "data": {
      "text/html": [
       "<table>\n",
       "<thead><tr><th scope=col>PC1</th><th scope=col>PC2</th><th scope=col>PC3</th><th scope=col>PC4</th><th scope=col>Species</th></tr></thead>\n",
       "<tbody>\n",
       "\t<tr><td>2.640270  </td><td>-5.204041 </td><td>2.488621  </td><td>-0.1170332</td><td>setosa    </td></tr>\n",
       "\t<tr><td>2.670730  </td><td>-4.666910 </td><td>2.466898  </td><td>-0.1075356</td><td>setosa    </td></tr>\n",
       "\t<tr><td>2.454606  </td><td>-4.773636 </td><td>2.288321  </td><td>-0.1043499</td><td>setosa    </td></tr>\n",
       "\t<tr><td>2.545517  </td><td>-4.648463 </td><td>2.212378  </td><td>-0.2784174</td><td>setosa    </td></tr>\n",
       "\t<tr><td>2.561228  </td><td>-5.258629 </td><td>2.392226  </td><td>-0.1555127</td><td>setosa    </td></tr>\n",
       "\t<tr><td>2.975946  </td><td>-5.707321 </td><td>2.437245  </td><td>-0.2237665</td><td>setosa    </td></tr>\n",
       "</tbody>\n",
       "</table>\n"
      ],
      "text/latex": [
       "\\begin{tabular}{r|lllll}\n",
       " PC1 & PC2 & PC3 & PC4 & Species\\\\\n",
       "\\hline\n",
       "\t 2.640270   & -5.204041  & 2.488621   & -0.1170332 & setosa    \\\\\n",
       "\t 2.670730   & -4.666910  & 2.466898   & -0.1075356 & setosa    \\\\\n",
       "\t 2.454606   & -4.773636  & 2.288321   & -0.1043499 & setosa    \\\\\n",
       "\t 2.545517   & -4.648463  & 2.212378   & -0.2784174 & setosa    \\\\\n",
       "\t 2.561228   & -5.258629  & 2.392226   & -0.1555127 & setosa    \\\\\n",
       "\t 2.975946   & -5.707321  & 2.437245   & -0.2237665 & setosa    \\\\\n",
       "\\end{tabular}\n"
      ],
      "text/markdown": [
       "\n",
       "PC1 | PC2 | PC3 | PC4 | Species | \n",
       "|---|---|---|---|---|---|\n",
       "| 2.640270   | -5.204041  | 2.488621   | -0.1170332 | setosa     | \n",
       "| 2.670730   | -4.666910  | 2.466898   | -0.1075356 | setosa     | \n",
       "| 2.454606   | -4.773636  | 2.288321   | -0.1043499 | setosa     | \n",
       "| 2.545517   | -4.648463  | 2.212378   | -0.2784174 | setosa     | \n",
       "| 2.561228   | -5.258629  | 2.392226   | -0.1555127 | setosa     | \n",
       "| 2.975946   | -5.707321  | 2.437245   | -0.2237665 | setosa     | \n",
       "\n",
       "\n"
      ],
      "text/plain": [
       "  PC1      PC2       PC3      PC4        Species\n",
       "1 2.640270 -5.204041 2.488621 -0.1170332 setosa \n",
       "2 2.670730 -4.666910 2.466898 -0.1075356 setosa \n",
       "3 2.454606 -4.773636 2.288321 -0.1043499 setosa \n",
       "4 2.545517 -4.648463 2.212378 -0.2784174 setosa \n",
       "5 2.561228 -5.258629 2.392226 -0.1555127 setosa \n",
       "6 2.975946 -5.707321 2.437245 -0.2237665 setosa "
      ]
     },
     "metadata": {},
     "output_type": "display_data"
    }
   ],
   "source": [
    "iris.pc <- cbind(as.data.frame(PRC), Species)\n",
    "head(iris.pc)"
   ]
  },
  {
   "cell_type": "markdown",
   "metadata": {},
   "source": [
    "### 차원 축소를 원하면 PC1, PC2 만 사용해서 할 수 있다."
   ]
  },
  {
   "cell_type": "code",
   "execution_count": 16,
   "metadata": {},
   "outputs": [],
   "source": [
    "library(e1071)"
   ]
  },
  {
   "cell_type": "code",
   "execution_count": 26,
   "metadata": {},
   "outputs": [
    {
     "data": {
      "text/plain": [
       "\n",
       "Call:\n",
       "svm(formula = Species ~ ., data = iris.pc, kernel = \"linear\")\n",
       "\n",
       "\n",
       "Parameters:\n",
       "   SVM-Type:  C-classification \n",
       " SVM-Kernel:  linear \n",
       "       cost:  1 \n",
       "      gamma:  0.25 \n",
       "\n",
       "Number of Support Vectors:  32\n",
       "\n",
       " ( 3 16 13 )\n",
       "\n",
       "\n",
       "Number of Classes:  3 \n",
       "\n",
       "Levels: \n",
       " setosa versicolor virginica\n",
       "\n",
       "\n"
      ]
     },
     "metadata": {},
     "output_type": "display_data"
    }
   ],
   "source": [
    "m1 <- svm(Species ~ ., iris.pc, kernel='linear')\n",
    "summary(m1)"
   ]
  },
  {
   "cell_type": "code",
   "execution_count": 27,
   "metadata": {},
   "outputs": [
    {
     "data": {
      "text/plain": [
       "            y\n",
       "pred         setosa versicolor virginica\n",
       "  setosa         50          0         0\n",
       "  versicolor      0         48         0\n",
       "  virginica       0          2        50"
      ]
     },
     "metadata": {},
     "output_type": "display_data"
    }
   ],
   "source": [
    "x <- iris.pc[,-5]\n",
    "pred <- predict(m1, x)\n",
    "y <- iris.pc[,5]\n",
    "table(pred, y)"
   ]
  },
  {
   "cell_type": "markdown",
   "metadata": {},
   "source": [
    "### 오분류율이 2개이다."
   ]
  },
  {
   "cell_type": "code",
   "execution_count": 31,
   "metadata": {},
   "outputs": [
    {
     "data": {
      "text/plain": [
       "\n",
       "Call:\n",
       "svm(formula = Species ~ ., data = iris, kernel = \"linear\")\n",
       "\n",
       "\n",
       "Parameters:\n",
       "   SVM-Type:  C-classification \n",
       " SVM-Kernel:  linear \n",
       "       cost:  1 \n",
       "      gamma:  0.25 \n",
       "\n",
       "Number of Support Vectors:  29\n",
       "\n",
       " ( 2 15 12 )\n",
       "\n",
       "\n",
       "Number of Classes:  3 \n",
       "\n",
       "Levels: \n",
       " setosa versicolor virginica\n",
       "\n",
       "\n"
      ]
     },
     "metadata": {},
     "output_type": "display_data"
    }
   ],
   "source": [
    "m2 <- svm(Species ~., iris, kernel='linear')\n",
    "summary(m2)"
   ]
  },
  {
   "cell_type": "code",
   "execution_count": 42,
   "metadata": {},
   "outputs": [
    {
     "data": {
      "text/plain": [
       "            y\n",
       "pred1        setosa versicolor virginica\n",
       "  setosa         50          0         0\n",
       "  versicolor      0         46         1\n",
       "  virginica       0          4        49"
      ]
     },
     "metadata": {},
     "output_type": "display_data"
    }
   ],
   "source": [
    "y <- iris[,5]\n",
    "pred1 <- predict(m2, iris)\n",
    "table(pred1, y)"
   ]
  },
  {
   "cell_type": "markdown",
   "metadata": {},
   "source": [
    "### 주성분분석에 비해 오분류가 많다."
   ]
  }
 ],
 "metadata": {
  "kernelspec": {
   "display_name": "R",
   "language": "R",
   "name": "ir"
  },
  "language_info": {
   "codemirror_mode": "r",
   "file_extension": ".r",
   "mimetype": "text/x-r-source",
   "name": "R",
   "pygments_lexer": "r",
   "version": "3.4.3"
  },
  "varInspector": {
   "cols": {
    "lenName": 16,
    "lenType": 16,
    "lenVar": 40
   },
   "kernels_config": {
    "python": {
     "delete_cmd_postfix": "",
     "delete_cmd_prefix": "del ",
     "library": "var_list.py",
     "varRefreshCmd": "print(var_dic_list())"
    },
    "r": {
     "delete_cmd_postfix": ") ",
     "delete_cmd_prefix": "rm(",
     "library": "var_list.r",
     "varRefreshCmd": "cat(var_dic_list()) "
    }
   },
   "types_to_exclude": [
    "module",
    "function",
    "builtin_function_or_method",
    "instance",
    "_Feature"
   ],
   "window_display": false
  }
 },
 "nbformat": 4,
 "nbformat_minor": 2
}
