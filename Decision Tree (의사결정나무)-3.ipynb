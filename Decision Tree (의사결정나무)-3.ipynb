{
 "cells": [
  {
   "cell_type": "code",
   "execution_count": 1,
   "metadata": {},
   "outputs": [
    {
     "name": "stdout",
     "output_type": "stream",
     "text": [
      "package 'randomForest' successfully unpacked and MD5 sums checked\n",
      "\n",
      "The downloaded binary packages are in\n",
      "\tC:\\Users\\15U560\\AppData\\Local\\Temp\\RtmpuoV4zO\\downloaded_packages\n"
     ]
    }
   ],
   "source": [
    "install.packages('randomForest')"
   ]
  },
  {
   "cell_type": "code",
   "execution_count": 9,
   "metadata": {},
   "outputs": [],
   "source": [
    "library(randomForest)\n",
    "help(randomForest)"
   ]
  },
  {
   "cell_type": "code",
   "execution_count": 4,
   "metadata": {},
   "outputs": [],
   "source": [
    "library(lattice)\n",
    "library(ggplot2)\n",
    "library(caret)"
   ]
  },
  {
   "cell_type": "code",
   "execution_count": 5,
   "metadata": {},
   "outputs": [],
   "source": [
    "set.seed(1111)\n",
    "N <- nrow(iris)\n",
    "tr.idx <- sample(1:N, N*2/3, replace = FALSE)\n",
    "train <- iris[tr.idx,]\n",
    "test <- iris[-tr.idx,]"
   ]
  },
  {
   "cell_type": "code",
   "execution_count": 8,
   "metadata": {},
   "outputs": [
    {
     "data": {
      "text/plain": [
       "\n",
       "Call:\n",
       " randomForest(formula = Species ~ ., data = train, importance = T) \n",
       "               Type of random forest: classification\n",
       "                     Number of trees: 500\n",
       "No. of variables tried at each split: 2\n",
       "\n",
       "        OOB estimate of  error rate: 2%\n",
       "Confusion matrix:\n",
       "           setosa versicolor virginica class.error\n",
       "setosa         34          0         0  0.00000000\n",
       "versicolor      0         31         1  0.03125000\n",
       "virginica       0          1        33  0.02941176"
      ]
     },
     "metadata": {},
     "output_type": "display_data"
    }
   ],
   "source": [
    "rf_out1 <- randomForest(Species ~., train, importance = T)\n",
    "rf_out1"
   ]
  },
  {
   "cell_type": "markdown",
   "metadata": {},
   "source": [
    "### mtry : 여러가지 설명변수중 몇개의 변수로 모델을 구축한다. default 값은 2이다."
   ]
  },
  {
   "cell_type": "code",
   "execution_count": 11,
   "metadata": {},
   "outputs": [
    {
     "data": {
      "text/plain": [
       "\n",
       "Call:\n",
       " randomForest(formula = Species ~ ., data = train, importance = T,      mtry = 4) \n",
       "               Type of random forest: classification\n",
       "                     Number of trees: 500\n",
       "No. of variables tried at each split: 4\n",
       "\n",
       "        OOB estimate of  error rate: 4%\n",
       "Confusion matrix:\n",
       "           setosa versicolor virginica class.error\n",
       "setosa         34          0         0  0.00000000\n",
       "versicolor      0         31         1  0.03125000\n",
       "virginica       0          3        31  0.08823529"
      ]
     },
     "metadata": {},
     "output_type": "display_data"
    }
   ],
   "source": [
    "rf_out2 <- randomForest(Species ~., train, importance=T, mtry=4)\n",
    "rf_out2"
   ]
  },
  {
   "cell_type": "markdown",
   "metadata": {},
   "source": [
    "### 변수의 중요도 확인\n",
    "    * 중요도  Petal.Width > petal.Length  두변수가 classify하는데 중요함"
   ]
  },
  {
   "cell_type": "code",
   "execution_count": 12,
   "metadata": {},
   "outputs": [
    {
     "data": {
      "text/html": [
       "<table>\n",
       "<thead><tr><th></th><th scope=col>setosa</th><th scope=col>versicolor</th><th scope=col>virginica</th><th scope=col>MeanDecreaseAccuracy</th><th scope=col>MeanDecreaseGini</th></tr></thead>\n",
       "<tbody>\n",
       "\t<tr><th scope=row>Sepal.Length</th><td> 6.94</td><td> 8.62</td><td> 7.57</td><td>10.88</td><td> 6.67</td></tr>\n",
       "\t<tr><th scope=row>Sepal.Width</th><td> 4.34</td><td> 4.55</td><td> 3.01</td><td> 5.68</td><td> 1.73</td></tr>\n",
       "\t<tr><th scope=row>Petal.Length</th><td>19.90</td><td>33.41</td><td>23.70</td><td>31.53</td><td>27.95</td></tr>\n",
       "\t<tr><th scope=row>Petal.Width</th><td>24.33</td><td>31.65</td><td>27.52</td><td>34.73</td><td>29.61</td></tr>\n",
       "</tbody>\n",
       "</table>\n"
      ],
      "text/latex": [
       "\\begin{tabular}{r|lllll}\n",
       "  & setosa & versicolor & virginica & MeanDecreaseAccuracy & MeanDecreaseGini\\\\\n",
       "\\hline\n",
       "\tSepal.Length &  6.94 &  8.62 &  7.57 & 10.88 &  6.67\\\\\n",
       "\tSepal.Width &  4.34 &  4.55 &  3.01 &  5.68 &  1.73\\\\\n",
       "\tPetal.Length & 19.90 & 33.41 & 23.70 & 31.53 & 27.95\\\\\n",
       "\tPetal.Width & 24.33 & 31.65 & 27.52 & 34.73 & 29.61\\\\\n",
       "\\end{tabular}\n"
      ],
      "text/markdown": [
       "\n",
       "| <!--/--> | setosa | versicolor | virginica | MeanDecreaseAccuracy | MeanDecreaseGini | \n",
       "|---|---|---|---|\n",
       "| Sepal.Length |  6.94 |  8.62 |  7.57 | 10.88 |  6.67 | \n",
       "| Sepal.Width |  4.34 |  4.55 |  3.01 |  5.68 |  1.73 | \n",
       "| Petal.Length | 19.90 | 33.41 | 23.70 | 31.53 | 27.95 | \n",
       "| Petal.Width | 24.33 | 31.65 | 27.52 | 34.73 | 29.61 | \n",
       "\n",
       "\n"
      ],
      "text/plain": [
       "             setosa versicolor virginica MeanDecreaseAccuracy MeanDecreaseGini\n",
       "Sepal.Length  6.94   8.62       7.57     10.88                 6.67           \n",
       "Sepal.Width   4.34   4.55       3.01      5.68                 1.73           \n",
       "Petal.Length 19.90  33.41      23.70     31.53                27.95           \n",
       "Petal.Width  24.33  31.65      27.52     34.73                29.61           "
      ]
     },
     "metadata": {},
     "output_type": "display_data"
    }
   ],
   "source": [
    "round(importance(rf_out1), 2)"
   ]
  },
  {
   "cell_type": "code",
   "execution_count": 13,
   "metadata": {},
   "outputs": [
    {
     "data": {
      "image/png": "[encoded data removed]",
      "text/plain": [
       "plot without title"
      ]
     },
     "metadata": {},
     "output_type": "display_data"
    }
   ],
   "source": [
    "varImpPlot(rf_out2)"
   ]
  },
  {
   "cell_type": "markdown",
   "metadata": {},
   "source": [
    "### MeanDecreaseAccuracy, MeanDecreaseGini 둘 중 하나를 기준으로 보는데 둘이 거의 비슷하다."
   ]
  },
  {
   "cell_type": "code",
   "execution_count": 14,
   "metadata": {},
   "outputs": [
    {
     "data": {
      "text/plain": [
       "Confusion Matrix and Statistics\n",
       "\n",
       "            Reference\n",
       "Prediction   setosa versicolor virginica\n",
       "  setosa         16          0         0\n",
       "  versicolor      0         15         0\n",
       "  virginica       0          3        16\n",
       "\n",
       "Overall Statistics\n",
       "                                          \n",
       "               Accuracy : 0.94            \n",
       "                 95% CI : (0.8345, 0.9875)\n",
       "    No Information Rate : 0.36            \n",
       "    P-Value [Acc > NIR] : < 2.2e-16       \n",
       "                                          \n",
       "                  Kappa : 0.9102          \n",
       " Mcnemar's Test P-Value : NA              \n",
       "\n",
       "Statistics by Class:\n",
       "\n",
       "                     Class: setosa Class: versicolor Class: virginica\n",
       "Sensitivity                   1.00            0.8333           1.0000\n",
       "Specificity                   1.00            1.0000           0.9118\n",
       "Pos Pred Value                1.00            1.0000           0.8421\n",
       "Neg Pred Value                1.00            0.9143           1.0000\n",
       "Prevalence                    0.32            0.3600           0.3200\n",
       "Detection Rate                0.32            0.3000           0.3200\n",
       "Detection Prevalence          0.32            0.3000           0.3800\n",
       "Balanced Accuracy             1.00            0.9167           0.9559"
      ]
     },
     "metadata": {},
     "output_type": "display_data"
    }
   ],
   "source": [
    "rfpred <- predict(rf_out1, test)\n",
    "confusionMatrix(rfpred, test$Species)"
   ]
  },
  {
   "cell_type": "markdown",
   "metadata": {},
   "source": [
    "### 앞에서한 support vector machine 이나 decision tree와 별 차이가 없지만 복잡한 데이터를 사용하면 차이가 나타남"
   ]
  }
 ],
 "metadata": {
  "kernelspec": {
   "display_name": "R",
   "language": "R",
   "name": "ir"
  },
  "language_info": {
   "codemirror_mode": "r",
   "file_extension": ".r",
   "mimetype": "text/x-r-source",
   "name": "R",
   "pygments_lexer": "r",
   "version": "3.4.3"
  },
  "varInspector": {
   "cols": {
    "lenName": 16,
    "lenType": 16,
    "lenVar": 40
   },
   "kernels_config": {
    "python": {
     "delete_cmd_postfix": "",
     "delete_cmd_prefix": "del ",
     "library": "var_list.py",
     "varRefreshCmd": "print(var_dic_list())"
    },
    "r": {
     "delete_cmd_postfix": ") ",
     "delete_cmd_prefix": "rm(",
     "library": "var_list.r",
     "varRefreshCmd": "cat(var_dic_list()) "
    }
   },
   "types_to_exclude": [
    "module",
    "function",
    "builtin_function_or_method",
    "instance",
    "_Feature"
   ],
   "window_display": false
  }
 },
 "nbformat": 4,
 "nbformat_minor": 2
}
